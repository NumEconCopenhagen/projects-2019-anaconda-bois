{
 "cells": [
  {
   "cell_type": "markdown",
   "metadata": {},
   "source": [
    "# Dataproject\n",
    "**Genderspecific gap for disposable income**"
   ]
  },
  {
   "cell_type": "markdown",
   "metadata": {},
   "source": [
    "We start by importing packages and modules:"
   ]
  },
  {
   "cell_type": "code",
   "execution_count": 1,
   "metadata": {},
   "outputs": [
    {
     "name": "stderr",
     "output_type": "stream",
     "text": [
      "C:\\Users\\45203\\Documents\\GitHub\\projects-2019-anaconda-bois\\dataproject\\Project.py:50: SettingWithCopyWarning: \n",
      "A value is trying to be set on a copy of a slice from a DataFrame.\n",
      "Try using .loc[row_indexer,col_indexer] = value instead\n",
      "\n",
      "See the caveats in the documentation: http://pandas.pydata.org/pandas-docs/stable/indexing.html#indexing-view-versus-copy\n",
      "  Final_table['Difference in %']=Final_table.apply(f, axis=1)\n",
      "C:\\Users\\45203\\Documents\\GitHub\\projects-2019-anaconda-bois\\dataproject\\uddannelse.py:45: SettingWithCopyWarning: \n",
      "A value is trying to be set on a copy of a slice from a DataFrame.\n",
      "Try using .loc[row_indexer,col_indexer] = value instead\n",
      "\n",
      "See the caveats in the documentation: http://pandas.pydata.org/pandas-docs/stable/indexing.html#indexing-view-versus-copy\n",
      "  Final_table1['Difference in %']=Final_table1.apply(f, axis=1)\n"
     ]
    }
   ],
   "source": [
    "%load_ext autoreload\n",
    "%autoreload 2\n",
    "# You can load your python module as this:\n",
    "import Project as pr\n",
    "import uddannelse as udd\n",
    "from ipywidgets import interact, interactive, fixed, interact_manual\n",
    "import ipywidgets as widgets"
   ]
  },
  {
   "cell_type": "markdown",
   "metadata": {},
   "source": [
    "## Gendergap for disposable income overall\n",
    "\n",
    "**For this part of the project, we reference our code from the .py file project.py and show the resluts here:**"
   ]
  },
  {
   "cell_type": "markdown",
   "metadata": {},
   "source": [
    "### Dataspecification and cleaning"
   ]
  },
  {
   "cell_type": "markdown",
   "metadata": {},
   "source": [
    "To begin with, we look through the table we have chosen, to finde the variables we want to inspect:"
   ]
  },
  {
   "cell_type": "code",
   "execution_count": 2,
   "metadata": {},
   "outputs": [
    {
     "data": {
      "text/plain": [
       "array([[True, 'OMRÅDE', 'denmark_municipality_07', 'region', False,\n",
       "        list([{'id': '000', 'text': 'All Denmark'}, {'id': '01', 'text': 'Province Byen København'}, {'id': '101', 'text': 'Copenhagen'}, {'id': '147', 'text': 'Frederiksberg'}, {'id': '155', 'text': 'Dragør'}, {'id': '185', 'text': 'Tårnby'}, {'id': '02', 'text': 'Province Københavns omegn'}, {'id': '165', 'text': 'Albertslund'}, {'id': '151', 'text': 'Ballerup'}, {'id': '153', 'text': 'Brøndby'}, {'id': '157', 'text': 'Gentofte'}, {'id': '159', 'text': 'Gladsaxe'}, {'id': '161', 'text': 'Glostrup'}, {'id': '163', 'text': 'Herlev'}, {'id': '167', 'text': 'Hvidovre'}, {'id': '169', 'text': 'Høje-Taastrup'}, {'id': '183', 'text': 'Ishøj'}, {'id': '173', 'text': 'Lyngby-Taarbæk'}, {'id': '175', 'text': 'Rødovre'}, {'id': '187', 'text': 'Vallensbæk'}, {'id': '03', 'text': 'Province Nordsjælland'}, {'id': '201', 'text': 'Allerød'}, {'id': '240', 'text': 'Egedal'}, {'id': '210', 'text': 'Fredensborg'}, {'id': '250', 'text': 'Frederikssund'}, {'id': '190', 'text': 'Furesø'}, {'id': '270', 'text': 'Gribskov'}, {'id': '260', 'text': 'Halsnæs'}, {'id': '217', 'text': 'Helsingør'}, {'id': '219', 'text': 'Hillerød'}, {'id': '223', 'text': 'Hørsholm'}, {'id': '230', 'text': 'Rudersdal'}, {'id': '04', 'text': 'Province Bornholm'}, {'id': '400', 'text': 'Bornholm'}, {'id': '05', 'text': 'Province Østsjælland'}, {'id': '253', 'text': 'Greve'}, {'id': '259', 'text': 'Køge'}, {'id': '350', 'text': 'Lejre'}, {'id': '265', 'text': 'Roskilde'}, {'id': '269', 'text': 'Solrød'}, {'id': '06', 'text': 'Province Vest- og Sydsjælland'}, {'id': '320', 'text': 'Faxe'}, {'id': '376', 'text': 'Guldborgsund'}, {'id': '316', 'text': 'Holbæk'}, {'id': '326', 'text': 'Kalundborg'}, {'id': '360', 'text': 'Lolland'}, {'id': '370', 'text': 'Næstved'}, {'id': '306', 'text': 'Odsherred'}, {'id': '329', 'text': 'Ringsted'}, {'id': '330', 'text': 'Slagelse'}, {'id': '340', 'text': 'Sorø'}, {'id': '336', 'text': 'Stevns'}, {'id': '390', 'text': 'Vordingborg'}, {'id': '07', 'text': 'Province Fyn'}, {'id': '420', 'text': 'Assens'}, {'id': '430', 'text': 'Faaborg-Midtfyn'}, {'id': '440', 'text': 'Kerteminde'}, {'id': '482', 'text': 'Langeland'}, {'id': '410', 'text': 'Middelfart'}, {'id': '480', 'text': 'Nordfyns'}, {'id': '450', 'text': 'Nyborg'}, {'id': '461', 'text': 'Odense'}, {'id': '479', 'text': 'Svendborg'}, {'id': '492', 'text': 'Ærø'}, {'id': '08', 'text': 'Province Sydjylland'}, {'id': '530', 'text': 'Billund'}, {'id': '561', 'text': 'Esbjerg'}, {'id': '563', 'text': 'Fanø'}, {'id': '607', 'text': 'Fredericia'}, {'id': '510', 'text': 'Haderslev'}, {'id': '621', 'text': 'Kolding'}, {'id': '540', 'text': 'Sønderborg'}, {'id': '550', 'text': 'Tønder'}, {'id': '573', 'text': 'Varde'}, {'id': '575', 'text': 'Vejen'}, {'id': '630', 'text': 'Vejle'}, {'id': '580', 'text': 'Aabenraa'}, {'id': '09', 'text': 'Province Østjylland'}, {'id': '710', 'text': 'Favrskov'}, {'id': '766', 'text': 'Hedensted'}, {'id': '615', 'text': 'Horsens'}, {'id': '707', 'text': 'Norddjurs'}, {'id': '727', 'text': 'Odder'}, {'id': '730', 'text': 'Randers'}, {'id': '741', 'text': 'Samsø'}, {'id': '740', 'text': 'Silkeborg'}, {'id': '746', 'text': 'Skanderborg'}, {'id': '706', 'text': 'Syddjurs'}, {'id': '751', 'text': 'Aarhus'}, {'id': '10', 'text': 'Province Vestjylland'}, {'id': '657', 'text': 'Herning'}, {'id': '661', 'text': 'Holstebro'}, {'id': '756', 'text': 'Ikast-Brande'}, {'id': '665', 'text': 'Lemvig'}, {'id': '760', 'text': 'Ringkøbing-Skjern'}, {'id': '779', 'text': 'Skive'}, {'id': '671', 'text': 'Struer'}, {'id': '791', 'text': 'Viborg'}, {'id': '11', 'text': 'Province Nordjylland'}, {'id': '810', 'text': 'Brønderslev'}, {'id': '813', 'text': 'Frederikshavn'}, {'id': '860', 'text': 'Hjørring'}, {'id': '849', 'text': 'Jammerbugt'}, {'id': '825', 'text': 'Læsø'}, {'id': '846', 'text': 'Mariagerfjord'}, {'id': '773', 'text': 'Morsø'}, {'id': '840', 'text': 'Rebild'}, {'id': '787', 'text': 'Thisted'}, {'id': '820', 'text': 'Vesthimmerlands'}, {'id': '851', 'text': 'Aalborg'}])],\n",
       "       [False, 'ENHED', nan, 'unit', False,\n",
       "        list([{'id': '101', 'text': 'People with type of income (number)'}, {'id': '110', 'text': 'Amount of income (DKK 1.000)'}, {'id': '116', 'text': 'Average income for all people (DKK)'}, {'id': '121', 'text': 'Average income for people with type of income (DKK)'}])],\n",
       "       [True, 'KOEN', nan, 'sex', False,\n",
       "        list([{'id': 'MOK', 'text': 'Men and women, total'}, {'id': 'M', 'text': 'Men'}, {'id': 'K', 'text': 'Women'}])],\n",
       "       [False, 'INDKOMSTTYPE', nan, 'type of income', False,\n",
       "        list([{'id': '100', 'text': '1 Disposable income (2+30-31-32-35)'}, {'id': '105', 'text': '2 Pre-tax Income, total (3+7+22+26+29)'}, {'id': '110', 'text': '3 Primary income (4+5+6)'}, {'id': '115', 'text': '4 Wages and salaries etc., total'}, {'id': '120', 'text': '5 Entrepreneurial income, total'}, {'id': '125', 'text': '6 Received fees subject to labour market contributions'}, {'id': '130', 'text': '7 Public transfer incomes(8+14+19)'}, {'id': '135', 'text': '8 Unemployment and cash benefits (9+10+11+12+13)'}, {'id': '140', 'text': '9 Unemployment benefits'}, {'id': '145', 'text': '10 Other benefits from unemployment funds'}, {'id': '150', 'text': '11 Cash benefits'}, {'id': '155', 'text': '12 Job training & Limited employment benefits'}, {'id': '160', 'text': '13 Sickness- & parental leave'}, {'id': '165', 'text': '14 Other transfers(15+16+17+18)'}, {'id': '170', 'text': '15 Public educational grants'}, {'id': '175', 'text': '16 Housing benefits'}, {'id': '180', 'text': '17 Child benefits'}, {'id': '185', 'text': '18 Green check'}, {'id': '190', 'text': '19 Public pensions(20+21)'}, {'id': '195', 'text': '20 Early retirement pay'}, {'id': '200', 'text': '21 Disability and old age pensions'}, {'id': '205', 'text': '22 Private pensions(23+24+25)'}, {'id': '210', 'text': '23 Public servants pension'}, {'id': '215', 'text': '24 Pension from the ATP (Labour Market Supplementary Pension Scheme)'}, {'id': '220', 'text': '25 Labour market and private pensions (Annuities only)'}, {'id': '225', 'text': '26 Property income, gross(27+28)'}, {'id': '230', 'text': '27 Interest received'}, {'id': '235', 'text': '28 Other property income (From stocks etc.)'}, {'id': '240', 'text': '29 Other personal income'}, {'id': '245', 'text': '30 Imputed rent'}, {'id': '250', 'text': '31 Interest expenses'}, {'id': '255', 'text': '32 Tax, total (33+34)'}, {'id': '260', 'text': '33 Income taxes'}, {'id': '265', 'text': '34 Labour market contributions etc.'}, {'id': '270', 'text': '35 Paid alimonies'}, {'id': '275', 'text': 'Equivalised Disposable income'}, {'id': '280', 'text': 'Land tax home owners'}, {'id': '285', 'text': 'Land tax, tenants'}, {'id': '290', 'text': 'Taxable income'}])],\n",
       "       [False, 'Tid', nan, 'time', True,\n",
       "        list([{'id': '1987', 'text': '1987'}, {'id': '1988', 'text': '1988'}, {'id': '1989', 'text': '1989'}, {'id': '1990', 'text': '1990'}, {'id': '1991', 'text': '1991'}, {'id': '1992', 'text': '1992'}, {'id': '1993', 'text': '1993'}, {'id': '1994', 'text': '1994'}, {'id': '1995', 'text': '1995'}, {'id': '1996', 'text': '1996'}, {'id': '1997', 'text': '1997'}, {'id': '1998', 'text': '1998'}, {'id': '1999', 'text': '1999'}, {'id': '2000', 'text': '2000'}, {'id': '2001', 'text': '2001'}, {'id': '2002', 'text': '2002'}, {'id': '2003', 'text': '2003'}, {'id': '2004', 'text': '2004'}, {'id': '2005', 'text': '2005'}, {'id': '2006', 'text': '2006'}, {'id': '2007', 'text': '2007'}, {'id': '2008', 'text': '2008'}, {'id': '2009', 'text': '2009'}, {'id': '2010', 'text': '2010'}, {'id': '2011', 'text': '2011'}, {'id': '2012', 'text': '2012'}, {'id': '2013', 'text': '2013'}, {'id': '2014', 'text': '2014'}, {'id': '2015', 'text': '2015'}, {'id': '2016', 'text': '2016'}, {'id': '2017', 'text': '2017'}])]],\n",
       "      dtype=object)"
      ]
     },
     "execution_count": 2,
     "metadata": {},
     "output_type": "execute_result"
    }
   ],
   "source": [
    "pr.Vars.values"
   ]
  },
  {
   "cell_type": "markdown",
   "metadata": {},
   "source": [
    "#### Sort:"
   ]
  },
  {
   "cell_type": "markdown",
   "metadata": {},
   "source": [
    "With use of these variables, we create our table and clean it up so we get a nice final table."
   ]
  },
  {
   "cell_type": "markdown",
   "metadata": {},
   "source": [
    "After this we apply our function which gives the difference between men's and women's disposable income in %, to our table."
   ]
  },
  {
   "cell_type": "markdown",
   "metadata": {},
   "source": [
    "The final table finally looks like this:"
   ]
  },
  {
   "cell_type": "code",
   "execution_count": 3,
   "metadata": {},
   "outputs": [
    {
     "data": {
      "text/html": [
       "<div>\n",
       "<style scoped>\n",
       "    .dataframe tbody tr th:only-of-type {\n",
       "        vertical-align: middle;\n",
       "    }\n",
       "\n",
       "    .dataframe tbody tr th {\n",
       "        vertical-align: top;\n",
       "    }\n",
       "\n",
       "    .dataframe thead th {\n",
       "        text-align: right;\n",
       "    }\n",
       "</style>\n",
       "<table border=\"1\" class=\"dataframe\">\n",
       "  <thead>\n",
       "    <tr style=\"text-align: right;\">\n",
       "      <th></th>\n",
       "      <th>Year</th>\n",
       "      <th>disposable_income_men</th>\n",
       "      <th>disposable_income_women</th>\n",
       "      <th>Difference in %</th>\n",
       "    </tr>\n",
       "    <tr>\n",
       "      <th>Municipality</th>\n",
       "      <th></th>\n",
       "      <th></th>\n",
       "      <th></th>\n",
       "      <th></th>\n",
       "    </tr>\n",
       "  </thead>\n",
       "  <tbody>\n",
       "    <tr>\n",
       "      <th>All Denmark</th>\n",
       "      <td>1987</td>\n",
       "      <td>89143</td>\n",
       "      <td>67614</td>\n",
       "      <td>31.84</td>\n",
       "    </tr>\n",
       "    <tr>\n",
       "      <th>All Denmark</th>\n",
       "      <td>1988</td>\n",
       "      <td>92738</td>\n",
       "      <td>72330</td>\n",
       "      <td>28.22</td>\n",
       "    </tr>\n",
       "    <tr>\n",
       "      <th>All Denmark</th>\n",
       "      <td>1989</td>\n",
       "      <td>97448</td>\n",
       "      <td>77035</td>\n",
       "      <td>26.50</td>\n",
       "    </tr>\n",
       "    <tr>\n",
       "      <th>All Denmark</th>\n",
       "      <td>1990</td>\n",
       "      <td>100886</td>\n",
       "      <td>80440</td>\n",
       "      <td>25.42</td>\n",
       "    </tr>\n",
       "    <tr>\n",
       "      <th>All Denmark</th>\n",
       "      <td>1991</td>\n",
       "      <td>105575</td>\n",
       "      <td>84162</td>\n",
       "      <td>25.44</td>\n",
       "    </tr>\n",
       "    <tr>\n",
       "      <th>All Denmark</th>\n",
       "      <td>1992</td>\n",
       "      <td>108294</td>\n",
       "      <td>87372</td>\n",
       "      <td>23.95</td>\n",
       "    </tr>\n",
       "    <tr>\n",
       "      <th>All Denmark</th>\n",
       "      <td>1993</td>\n",
       "      <td>111700</td>\n",
       "      <td>90335</td>\n",
       "      <td>23.65</td>\n",
       "    </tr>\n",
       "    <tr>\n",
       "      <th>All Denmark</th>\n",
       "      <td>1994</td>\n",
       "      <td>120158</td>\n",
       "      <td>95974</td>\n",
       "      <td>25.20</td>\n",
       "    </tr>\n",
       "    <tr>\n",
       "      <th>All Denmark</th>\n",
       "      <td>1995</td>\n",
       "      <td>126002</td>\n",
       "      <td>100258</td>\n",
       "      <td>25.68</td>\n",
       "    </tr>\n",
       "    <tr>\n",
       "      <th>All Denmark</th>\n",
       "      <td>1996</td>\n",
       "      <td>131064</td>\n",
       "      <td>104161</td>\n",
       "      <td>25.83</td>\n",
       "    </tr>\n",
       "    <tr>\n",
       "      <th>All Denmark</th>\n",
       "      <td>1997</td>\n",
       "      <td>136863</td>\n",
       "      <td>108074</td>\n",
       "      <td>26.64</td>\n",
       "    </tr>\n",
       "    <tr>\n",
       "      <th>All Denmark</th>\n",
       "      <td>1998</td>\n",
       "      <td>142875</td>\n",
       "      <td>113076</td>\n",
       "      <td>26.35</td>\n",
       "    </tr>\n",
       "    <tr>\n",
       "      <th>All Denmark</th>\n",
       "      <td>1999</td>\n",
       "      <td>146398</td>\n",
       "      <td>117101</td>\n",
       "      <td>25.02</td>\n",
       "    </tr>\n",
       "    <tr>\n",
       "      <th>All Denmark</th>\n",
       "      <td>2000</td>\n",
       "      <td>153017</td>\n",
       "      <td>121482</td>\n",
       "      <td>25.96</td>\n",
       "    </tr>\n",
       "    <tr>\n",
       "      <th>All Denmark</th>\n",
       "      <td>2001</td>\n",
       "      <td>157885</td>\n",
       "      <td>126464</td>\n",
       "      <td>24.85</td>\n",
       "    </tr>\n",
       "    <tr>\n",
       "      <th>All Denmark</th>\n",
       "      <td>2002</td>\n",
       "      <td>162578</td>\n",
       "      <td>132325</td>\n",
       "      <td>22.86</td>\n",
       "    </tr>\n",
       "    <tr>\n",
       "      <th>All Denmark</th>\n",
       "      <td>2003</td>\n",
       "      <td>166246</td>\n",
       "      <td>136831</td>\n",
       "      <td>21.50</td>\n",
       "    </tr>\n",
       "    <tr>\n",
       "      <th>All Denmark</th>\n",
       "      <td>2004</td>\n",
       "      <td>176470</td>\n",
       "      <td>144308</td>\n",
       "      <td>22.29</td>\n",
       "    </tr>\n",
       "    <tr>\n",
       "      <th>All Denmark</th>\n",
       "      <td>2005</td>\n",
       "      <td>184595</td>\n",
       "      <td>149628</td>\n",
       "      <td>23.37</td>\n",
       "    </tr>\n",
       "    <tr>\n",
       "      <th>All Denmark</th>\n",
       "      <td>2006</td>\n",
       "      <td>192842</td>\n",
       "      <td>154406</td>\n",
       "      <td>24.89</td>\n",
       "    </tr>\n",
       "    <tr>\n",
       "      <th>All Denmark</th>\n",
       "      <td>2007</td>\n",
       "      <td>197056</td>\n",
       "      <td>158691</td>\n",
       "      <td>24.18</td>\n",
       "    </tr>\n",
       "    <tr>\n",
       "      <th>All Denmark</th>\n",
       "      <td>2008</td>\n",
       "      <td>190919</td>\n",
       "      <td>161989</td>\n",
       "      <td>17.86</td>\n",
       "    </tr>\n",
       "    <tr>\n",
       "      <th>All Denmark</th>\n",
       "      <td>2009</td>\n",
       "      <td>191690</td>\n",
       "      <td>167344</td>\n",
       "      <td>14.55</td>\n",
       "    </tr>\n",
       "    <tr>\n",
       "      <th>All Denmark</th>\n",
       "      <td>2010</td>\n",
       "      <td>210822</td>\n",
       "      <td>179725</td>\n",
       "      <td>17.30</td>\n",
       "    </tr>\n",
       "    <tr>\n",
       "      <th>All Denmark</th>\n",
       "      <td>2011</td>\n",
       "      <td>216008</td>\n",
       "      <td>182661</td>\n",
       "      <td>18.26</td>\n",
       "    </tr>\n",
       "    <tr>\n",
       "      <th>All Denmark</th>\n",
       "      <td>2012</td>\n",
       "      <td>222015</td>\n",
       "      <td>186635</td>\n",
       "      <td>18.96</td>\n",
       "    </tr>\n",
       "    <tr>\n",
       "      <th>All Denmark</th>\n",
       "      <td>2013</td>\n",
       "      <td>229016</td>\n",
       "      <td>190887</td>\n",
       "      <td>19.97</td>\n",
       "    </tr>\n",
       "    <tr>\n",
       "      <th>All Denmark</th>\n",
       "      <td>2014</td>\n",
       "      <td>233132</td>\n",
       "      <td>195461</td>\n",
       "      <td>19.27</td>\n",
       "    </tr>\n",
       "    <tr>\n",
       "      <th>All Denmark</th>\n",
       "      <td>2015</td>\n",
       "      <td>240836</td>\n",
       "      <td>200119</td>\n",
       "      <td>20.35</td>\n",
       "    </tr>\n",
       "    <tr>\n",
       "      <th>All Denmark</th>\n",
       "      <td>2016</td>\n",
       "      <td>244918</td>\n",
       "      <td>202524</td>\n",
       "      <td>20.93</td>\n",
       "    </tr>\n",
       "    <tr>\n",
       "      <th>...</th>\n",
       "      <td>...</td>\n",
       "      <td>...</td>\n",
       "      <td>...</td>\n",
       "      <td>...</td>\n",
       "    </tr>\n",
       "    <tr>\n",
       "      <th>Province Østsjælland</th>\n",
       "      <td>1988</td>\n",
       "      <td>104241</td>\n",
       "      <td>78076</td>\n",
       "      <td>33.51</td>\n",
       "    </tr>\n",
       "    <tr>\n",
       "      <th>Province Østsjælland</th>\n",
       "      <td>1989</td>\n",
       "      <td>109757</td>\n",
       "      <td>82619</td>\n",
       "      <td>32.85</td>\n",
       "    </tr>\n",
       "    <tr>\n",
       "      <th>Province Østsjælland</th>\n",
       "      <td>1990</td>\n",
       "      <td>114062</td>\n",
       "      <td>86345</td>\n",
       "      <td>32.10</td>\n",
       "    </tr>\n",
       "    <tr>\n",
       "      <th>Province Østsjælland</th>\n",
       "      <td>1991</td>\n",
       "      <td>118529</td>\n",
       "      <td>90503</td>\n",
       "      <td>30.97</td>\n",
       "    </tr>\n",
       "    <tr>\n",
       "      <th>Province Østsjælland</th>\n",
       "      <td>1992</td>\n",
       "      <td>120722</td>\n",
       "      <td>93753</td>\n",
       "      <td>28.77</td>\n",
       "    </tr>\n",
       "    <tr>\n",
       "      <th>Province Østsjælland</th>\n",
       "      <td>1993</td>\n",
       "      <td>125717</td>\n",
       "      <td>97076</td>\n",
       "      <td>29.50</td>\n",
       "    </tr>\n",
       "    <tr>\n",
       "      <th>Province Østsjælland</th>\n",
       "      <td>1994</td>\n",
       "      <td>134118</td>\n",
       "      <td>104304</td>\n",
       "      <td>28.58</td>\n",
       "    </tr>\n",
       "    <tr>\n",
       "      <th>Province Østsjælland</th>\n",
       "      <td>1995</td>\n",
       "      <td>142002</td>\n",
       "      <td>109224</td>\n",
       "      <td>30.01</td>\n",
       "    </tr>\n",
       "    <tr>\n",
       "      <th>Province Østsjælland</th>\n",
       "      <td>1996</td>\n",
       "      <td>148108</td>\n",
       "      <td>113762</td>\n",
       "      <td>30.19</td>\n",
       "    </tr>\n",
       "    <tr>\n",
       "      <th>Province Østsjælland</th>\n",
       "      <td>1997</td>\n",
       "      <td>155523</td>\n",
       "      <td>119007</td>\n",
       "      <td>30.68</td>\n",
       "    </tr>\n",
       "    <tr>\n",
       "      <th>Province Østsjælland</th>\n",
       "      <td>1998</td>\n",
       "      <td>163623</td>\n",
       "      <td>124313</td>\n",
       "      <td>31.62</td>\n",
       "    </tr>\n",
       "    <tr>\n",
       "      <th>Province Østsjælland</th>\n",
       "      <td>1999</td>\n",
       "      <td>167373</td>\n",
       "      <td>128344</td>\n",
       "      <td>30.41</td>\n",
       "    </tr>\n",
       "    <tr>\n",
       "      <th>Province Østsjælland</th>\n",
       "      <td>2000</td>\n",
       "      <td>175307</td>\n",
       "      <td>133659</td>\n",
       "      <td>31.16</td>\n",
       "    </tr>\n",
       "    <tr>\n",
       "      <th>Province Østsjælland</th>\n",
       "      <td>2001</td>\n",
       "      <td>181360</td>\n",
       "      <td>139948</td>\n",
       "      <td>29.59</td>\n",
       "    </tr>\n",
       "    <tr>\n",
       "      <th>Province Østsjælland</th>\n",
       "      <td>2002</td>\n",
       "      <td>187690</td>\n",
       "      <td>146752</td>\n",
       "      <td>27.90</td>\n",
       "    </tr>\n",
       "    <tr>\n",
       "      <th>Province Østsjælland</th>\n",
       "      <td>2003</td>\n",
       "      <td>191811</td>\n",
       "      <td>152170</td>\n",
       "      <td>26.05</td>\n",
       "    </tr>\n",
       "    <tr>\n",
       "      <th>Province Østsjælland</th>\n",
       "      <td>2004</td>\n",
       "      <td>201955</td>\n",
       "      <td>160516</td>\n",
       "      <td>25.82</td>\n",
       "    </tr>\n",
       "    <tr>\n",
       "      <th>Province Østsjælland</th>\n",
       "      <td>2005</td>\n",
       "      <td>209650</td>\n",
       "      <td>165655</td>\n",
       "      <td>26.56</td>\n",
       "    </tr>\n",
       "    <tr>\n",
       "      <th>Province Østsjælland</th>\n",
       "      <td>2006</td>\n",
       "      <td>216436</td>\n",
       "      <td>170611</td>\n",
       "      <td>26.86</td>\n",
       "    </tr>\n",
       "    <tr>\n",
       "      <th>Province Østsjælland</th>\n",
       "      <td>2007</td>\n",
       "      <td>222342</td>\n",
       "      <td>176879</td>\n",
       "      <td>25.70</td>\n",
       "    </tr>\n",
       "    <tr>\n",
       "      <th>Province Østsjælland</th>\n",
       "      <td>2008</td>\n",
       "      <td>217475</td>\n",
       "      <td>177906</td>\n",
       "      <td>22.24</td>\n",
       "    </tr>\n",
       "    <tr>\n",
       "      <th>Province Østsjælland</th>\n",
       "      <td>2009</td>\n",
       "      <td>210601</td>\n",
       "      <td>178837</td>\n",
       "      <td>17.76</td>\n",
       "    </tr>\n",
       "    <tr>\n",
       "      <th>Province Østsjælland</th>\n",
       "      <td>2010</td>\n",
       "      <td>232780</td>\n",
       "      <td>193325</td>\n",
       "      <td>20.41</td>\n",
       "    </tr>\n",
       "    <tr>\n",
       "      <th>Province Østsjælland</th>\n",
       "      <td>2011</td>\n",
       "      <td>237923</td>\n",
       "      <td>196978</td>\n",
       "      <td>20.79</td>\n",
       "    </tr>\n",
       "    <tr>\n",
       "      <th>Province Østsjælland</th>\n",
       "      <td>2012</td>\n",
       "      <td>243694</td>\n",
       "      <td>201479</td>\n",
       "      <td>20.95</td>\n",
       "    </tr>\n",
       "    <tr>\n",
       "      <th>Province Østsjælland</th>\n",
       "      <td>2013</td>\n",
       "      <td>249864</td>\n",
       "      <td>205384</td>\n",
       "      <td>21.66</td>\n",
       "    </tr>\n",
       "    <tr>\n",
       "      <th>Province Østsjælland</th>\n",
       "      <td>2014</td>\n",
       "      <td>257221</td>\n",
       "      <td>211311</td>\n",
       "      <td>21.73</td>\n",
       "    </tr>\n",
       "    <tr>\n",
       "      <th>Province Østsjælland</th>\n",
       "      <td>2015</td>\n",
       "      <td>262510</td>\n",
       "      <td>215751</td>\n",
       "      <td>21.67</td>\n",
       "    </tr>\n",
       "    <tr>\n",
       "      <th>Province Østsjælland</th>\n",
       "      <td>2016</td>\n",
       "      <td>268279</td>\n",
       "      <td>219023</td>\n",
       "      <td>22.49</td>\n",
       "    </tr>\n",
       "    <tr>\n",
       "      <th>Province Østsjælland</th>\n",
       "      <td>2017</td>\n",
       "      <td>276483</td>\n",
       "      <td>224348</td>\n",
       "      <td>23.24</td>\n",
       "    </tr>\n",
       "  </tbody>\n",
       "</table>\n",
       "<p>372 rows × 4 columns</p>\n",
       "</div>"
      ],
      "text/plain": [
       "                      Year  disposable_income_men  disposable_income_women  \\\n",
       "Municipality                                                                 \n",
       "All Denmark           1987                  89143                    67614   \n",
       "All Denmark           1988                  92738                    72330   \n",
       "All Denmark           1989                  97448                    77035   \n",
       "All Denmark           1990                 100886                    80440   \n",
       "All Denmark           1991                 105575                    84162   \n",
       "All Denmark           1992                 108294                    87372   \n",
       "All Denmark           1993                 111700                    90335   \n",
       "All Denmark           1994                 120158                    95974   \n",
       "All Denmark           1995                 126002                   100258   \n",
       "All Denmark           1996                 131064                   104161   \n",
       "All Denmark           1997                 136863                   108074   \n",
       "All Denmark           1998                 142875                   113076   \n",
       "All Denmark           1999                 146398                   117101   \n",
       "All Denmark           2000                 153017                   121482   \n",
       "All Denmark           2001                 157885                   126464   \n",
       "All Denmark           2002                 162578                   132325   \n",
       "All Denmark           2003                 166246                   136831   \n",
       "All Denmark           2004                 176470                   144308   \n",
       "All Denmark           2005                 184595                   149628   \n",
       "All Denmark           2006                 192842                   154406   \n",
       "All Denmark           2007                 197056                   158691   \n",
       "All Denmark           2008                 190919                   161989   \n",
       "All Denmark           2009                 191690                   167344   \n",
       "All Denmark           2010                 210822                   179725   \n",
       "All Denmark           2011                 216008                   182661   \n",
       "All Denmark           2012                 222015                   186635   \n",
       "All Denmark           2013                 229016                   190887   \n",
       "All Denmark           2014                 233132                   195461   \n",
       "All Denmark           2015                 240836                   200119   \n",
       "All Denmark           2016                 244918                   202524   \n",
       "...                    ...                    ...                      ...   \n",
       "Province Østsjælland  1988                 104241                    78076   \n",
       "Province Østsjælland  1989                 109757                    82619   \n",
       "Province Østsjælland  1990                 114062                    86345   \n",
       "Province Østsjælland  1991                 118529                    90503   \n",
       "Province Østsjælland  1992                 120722                    93753   \n",
       "Province Østsjælland  1993                 125717                    97076   \n",
       "Province Østsjælland  1994                 134118                   104304   \n",
       "Province Østsjælland  1995                 142002                   109224   \n",
       "Province Østsjælland  1996                 148108                   113762   \n",
       "Province Østsjælland  1997                 155523                   119007   \n",
       "Province Østsjælland  1998                 163623                   124313   \n",
       "Province Østsjælland  1999                 167373                   128344   \n",
       "Province Østsjælland  2000                 175307                   133659   \n",
       "Province Østsjælland  2001                 181360                   139948   \n",
       "Province Østsjælland  2002                 187690                   146752   \n",
       "Province Østsjælland  2003                 191811                   152170   \n",
       "Province Østsjælland  2004                 201955                   160516   \n",
       "Province Østsjælland  2005                 209650                   165655   \n",
       "Province Østsjælland  2006                 216436                   170611   \n",
       "Province Østsjælland  2007                 222342                   176879   \n",
       "Province Østsjælland  2008                 217475                   177906   \n",
       "Province Østsjælland  2009                 210601                   178837   \n",
       "Province Østsjælland  2010                 232780                   193325   \n",
       "Province Østsjælland  2011                 237923                   196978   \n",
       "Province Østsjælland  2012                 243694                   201479   \n",
       "Province Østsjælland  2013                 249864                   205384   \n",
       "Province Østsjælland  2014                 257221                   211311   \n",
       "Province Østsjælland  2015                 262510                   215751   \n",
       "Province Østsjælland  2016                 268279                   219023   \n",
       "Province Østsjælland  2017                 276483                   224348   \n",
       "\n",
       "                      Difference in %  \n",
       "Municipality                           \n",
       "All Denmark                     31.84  \n",
       "All Denmark                     28.22  \n",
       "All Denmark                     26.50  \n",
       "All Denmark                     25.42  \n",
       "All Denmark                     25.44  \n",
       "All Denmark                     23.95  \n",
       "All Denmark                     23.65  \n",
       "All Denmark                     25.20  \n",
       "All Denmark                     25.68  \n",
       "All Denmark                     25.83  \n",
       "All Denmark                     26.64  \n",
       "All Denmark                     26.35  \n",
       "All Denmark                     25.02  \n",
       "All Denmark                     25.96  \n",
       "All Denmark                     24.85  \n",
       "All Denmark                     22.86  \n",
       "All Denmark                     21.50  \n",
       "All Denmark                     22.29  \n",
       "All Denmark                     23.37  \n",
       "All Denmark                     24.89  \n",
       "All Denmark                     24.18  \n",
       "All Denmark                     17.86  \n",
       "All Denmark                     14.55  \n",
       "All Denmark                     17.30  \n",
       "All Denmark                     18.26  \n",
       "All Denmark                     18.96  \n",
       "All Denmark                     19.97  \n",
       "All Denmark                     19.27  \n",
       "All Denmark                     20.35  \n",
       "All Denmark                     20.93  \n",
       "...                               ...  \n",
       "Province Østsjælland            33.51  \n",
       "Province Østsjælland            32.85  \n",
       "Province Østsjælland            32.10  \n",
       "Province Østsjælland            30.97  \n",
       "Province Østsjælland            28.77  \n",
       "Province Østsjælland            29.50  \n",
       "Province Østsjælland            28.58  \n",
       "Province Østsjælland            30.01  \n",
       "Province Østsjælland            30.19  \n",
       "Province Østsjælland            30.68  \n",
       "Province Østsjælland            31.62  \n",
       "Province Østsjælland            30.41  \n",
       "Province Østsjælland            31.16  \n",
       "Province Østsjælland            29.59  \n",
       "Province Østsjælland            27.90  \n",
       "Province Østsjælland            26.05  \n",
       "Province Østsjælland            25.82  \n",
       "Province Østsjælland            26.56  \n",
       "Province Østsjælland            26.86  \n",
       "Province Østsjælland            25.70  \n",
       "Province Østsjælland            22.24  \n",
       "Province Østsjælland            17.76  \n",
       "Province Østsjælland            20.41  \n",
       "Province Østsjælland            20.79  \n",
       "Province Østsjælland            20.95  \n",
       "Province Østsjælland            21.66  \n",
       "Province Østsjælland            21.73  \n",
       "Province Østsjælland            21.67  \n",
       "Province Østsjælland            22.49  \n",
       "Province Østsjælland            23.24  \n",
       "\n",
       "[372 rows x 4 columns]"
      ]
     },
     "execution_count": 3,
     "metadata": {},
     "output_type": "execute_result"
    }
   ],
   "source": [
    "pr.Final_table"
   ]
  },
  {
   "cell_type": "markdown",
   "metadata": {},
   "source": [
    "Using a for loop, we have created a dictionary which contains the names of the provinces as the keys, and the individually tables as the values."
   ]
  },
  {
   "cell_type": "markdown",
   "metadata": {},
   "source": [
    "We now have the following keys, which each represents the table for the respectively province:"
   ]
  },
  {
   "cell_type": "code",
   "execution_count": 16,
   "metadata": {},
   "outputs": [
    {
     "data": {
      "text/plain": [
       "dict_keys(['All Denmark', 'Province Bornholm', 'Province Byen København', 'Province Fyn', 'Province Københavns omegn', 'Province Nordjylland', 'Province Nordsjælland', 'Province Sydjylland', 'Province Vest- og Sydsjælland', 'Province Vestjylland', 'Province Østjylland', 'Province Østsjælland'])"
      ]
     },
     "execution_count": 16,
     "metadata": {},
     "output_type": "execute_result"
    }
   ],
   "source": [
    "pr.d.keys()"
   ]
  },
  {
   "cell_type": "markdown",
   "metadata": {},
   "source": [
    "#### Visualization of the gap:"
   ]
  },
  {
   "cell_type": "markdown",
   "metadata": {},
   "source": [
    "These keys can be used in our function 'Differerence()' which takes the keys as argument, to present the difference in disposable income between men and women in %."
   ]
  },
  {
   "cell_type": "markdown",
   "metadata": {},
   "source": [
    "With this, we can now compare the provinces to all of Denmark."
   ]
  },
  {
   "cell_type": "code",
   "execution_count": 5,
   "metadata": {},
   "outputs": [
    {
     "data": {
      "image/png": "[encoded data removed]",
      "text/plain": [
       "<Figure size 432x288 with 1 Axes>"
      ]
     },
     "metadata": {
      "needs_background": "light"
     },
     "output_type": "display_data"
    },
    {
     "data": {
      "image/png": "[encoded data removed]",
      "text/plain": [
       "<Figure size 432x288 with 1 Axes>"
      ]
     },
     "metadata": {
      "needs_background": "light"
     },
     "output_type": "display_data"
    },
    {
     "data": {
      "image/png": "[encoded data removed]",
      "text/plain": [
       "<Figure size 432x288 with 1 Axes>"
      ]
     },
     "metadata": {
      "needs_background": "light"
     },
     "output_type": "display_data"
    },
    {
     "data": {
      "image/png": "[encoded data removed]",
      "text/plain": [
       "<Figure size 432x288 with 1 Axes>"
      ]
     },
     "metadata": {
      "needs_background": "light"
     },
     "output_type": "display_data"
    },
    {
     "data": {
      "text/plain": [
       "(None, None, None, None)"
      ]
     },
     "execution_count": 5,
     "metadata": {},
     "output_type": "execute_result"
    }
   ],
   "source": [
    "pr.Difference('All Denmark'), pr.Difference('Province Bornholm'), pr.Difference('Province Vest- og Sydsjælland'), pr.Difference('Province Nordjylland')"
   ]
  },
  {
   "cell_type": "markdown",
   "metadata": {},
   "source": [
    "We can here see, that fx the province Bornholm, has reached the lowest point of inequality, and that it generally lies under the level for all of Denmark."
   ]
  },
  {
   "cell_type": "markdown",
   "metadata": {},
   "source": [
    "We can also see that the province of Vest- and Sydsjælland follows the whole country very well through the years."
   ]
  },
  {
   "cell_type": "markdown",
   "metadata": {},
   "source": [
    "At last we can see that the province Nordjylland has bigger spikes than the others, which means that the inequality varies most here."
   ]
  },
  {
   "cell_type": "markdown",
   "metadata": {},
   "source": [
    " #### Further visualization with normaldistributions and other plots:"
   ]
  },
  {
   "cell_type": "markdown",
   "metadata": {},
   "source": [
    "Finally we have created a function called 'normal()', which shows the normal distribution for the chosen province. It also prints out the mean and standard deviation for easier comparison."
   ]
  },
  {
   "cell_type": "markdown",
   "metadata": {},
   "source": [
    "For all of Denmark we have the distribution:"
   ]
  },
  {
   "cell_type": "code",
   "execution_count": 6,
   "metadata": {},
   "outputs": [
    {
     "data": {
      "image/png": "[encoded data removed]",
      "text/plain": [
       "<Figure size 432x288 with 2 Axes>"
      ]
     },
     "metadata": {
      "needs_background": "light"
     },
     "output_type": "display_data"
    },
    {
     "name": "stdout",
     "output_type": "stream",
     "text": [
      "For men, the mean is  165555 and the standard deviation is  50339\n",
      "For women, the mean is  135379 and the standard deviation is  43925\n"
     ]
    },
    {
     "data": {
      "text/plain": [
       "(None, None, None)"
      ]
     },
     "execution_count": 6,
     "metadata": {},
     "output_type": "execute_result"
    }
   ],
   "source": [
    "pr.normal('All Denmark')"
   ]
  },
  {
   "cell_type": "markdown",
   "metadata": {},
   "source": [
    "For the whole country, we see as expected that men has had a higher average income over the years. We can use the standard deviation to give a hint about which gender has moved the most numerically over the years. We here see, that even though we found that the difference between the genders in % has fallen, the disposable income for men has still increased the most numerically."
   ]
  },
  {
   "cell_type": "markdown",
   "metadata": {},
   "source": [
    "This can also be seen in the graph below, where the gap between the lines are bigger at the end, than in the beginning. So even though men in Denmark have had their disposable income increased the most numerically, the women are still closing in on them procentually."
   ]
  },
  {
   "cell_type": "code",
   "execution_count": 7,
   "metadata": {},
   "outputs": [
    {
     "data": {
      "image/png": "[encoded data removed]",
      "text/plain": [
       "<Figure size 432x288 with 1 Axes>"
      ]
     },
     "metadata": {
      "needs_background": "light"
     },
     "output_type": "display_data"
    }
   ],
   "source": [
    "pr.growth('All Denmark')"
   ]
  },
  {
   "cell_type": "markdown",
   "metadata": {},
   "source": [
    "We can also make this little analysis on fx the province Bornholm:"
   ]
  },
  {
   "cell_type": "code",
   "execution_count": 8,
   "metadata": {},
   "outputs": [
    {
     "data": {
      "image/png": "[encoded data removed]",
      "text/plain": [
       "<Figure size 432x288 with 2 Axes>"
      ]
     },
     "metadata": {
      "needs_background": "light"
     },
     "output_type": "display_data"
    },
    {
     "name": "stdout",
     "output_type": "stream",
     "text": [
      "For men, the mean is  143112 and the standard deviation is  40660\n",
      "For women, the mean is  122729 and the standard deviation is  38067\n"
     ]
    },
    {
     "data": {
      "text/plain": [
       "(None, None, None)"
      ]
     },
     "execution_count": 8,
     "metadata": {},
     "output_type": "execute_result"
    }
   ],
   "source": [
    "pr.normal('Province Bornholm')"
   ]
  },
  {
   "cell_type": "markdown",
   "metadata": {},
   "source": [
    "We see here that both the mean and standard deviation for both genders are lower than for all of Denmark. Still, the men has a higher average and their disposable income has grown the most numerically over the years. We can see this in the graph below. We can also see the point in 2009 where the difference in disposable incomes were very low for Bornholm."
   ]
  },
  {
   "cell_type": "code",
   "execution_count": 9,
   "metadata": {},
   "outputs": [
    {
     "data": {
      "image/png": "[encoded data removed]",
      "text/plain": [
       "<Figure size 432x288 with 1 Axes>"
      ]
     },
     "metadata": {
      "needs_background": "light"
     },
     "output_type": "display_data"
    }
   ],
   "source": [
    "pr.growth('Province Bornholm')"
   ]
  },
  {
   "cell_type": "markdown",
   "metadata": {},
   "source": [
    "By this we can conclude that the province Bornholm is pulling the mean and standard deviation for the whole country down a bit."
   ]
  },
  {
   "cell_type": "markdown",
   "metadata": {},
   "source": [
    "We can do the same for the province Nordsjælland just to see that this province is pulling the mean and standard deviation for the whole country up opposite Bornholm."
   ]
  },
  {
   "cell_type": "code",
   "execution_count": 10,
   "metadata": {},
   "outputs": [
    {
     "data": {
      "image/png": "[encoded data removed]",
      "text/plain": [
       "<Figure size 432x288 with 2 Axes>"
      ]
     },
     "metadata": {
      "needs_background": "light"
     },
     "output_type": "display_data"
    },
    {
     "name": "stdout",
     "output_type": "stream",
     "text": [
      "For men, the mean is  206068 and the standard deviation is  66567\n",
      "For women, the mean is  156807 and the standard deviation is  53520\n"
     ]
    },
    {
     "data": {
      "image/png": "[encoded data removed]",
      "text/plain": [
       "<Figure size 432x288 with 1 Axes>"
      ]
     },
     "metadata": {
      "needs_background": "light"
     },
     "output_type": "display_data"
    },
    {
     "data": {
      "text/plain": [
       "((None, None, None), None)"
      ]
     },
     "execution_count": 10,
     "metadata": {},
     "output_type": "execute_result"
    }
   ],
   "source": [
    "pr.normal('Province Nordsjælland'), pr.growth('Province Nordsjælland')"
   ]
  },
  {
   "cell_type": "markdown",
   "metadata": {},
   "source": [
    "In conclusion we can use all these graphs to see which provinces lies under the country average, and which lies over. Furthermore we can see which provinces has moved the most over the years, both in terms of inequality and numerically.\n"
   ]
  },
  {
   "cell_type": "markdown",
   "metadata": {},
   "source": [
    "#### Interactive figures of the general disposable income gap:"
   ]
  },
  {
   "cell_type": "code",
   "execution_count": 11,
   "metadata": {},
   "outputs": [
    {
     "data": {
      "application/vnd.jupyter.widget-view+json": {
       "model_id": "4ca8b4d57ed648b28a937873057723bd",
       "version_major": 2,
       "version_minor": 0
      },
      "text/plain": [
       "interactive(children=(Dropdown(description='Province', options=('All Denmark', 'Province Byen København', 'Pro…"
      ]
     },
     "metadata": {},
     "output_type": "display_data"
    },
    {
     "data": {
      "text/plain": [
       "<function Project.normal(Region)>"
      ]
     },
     "execution_count": 11,
     "metadata": {},
     "output_type": "execute_result"
    }
   ],
   "source": [
    "widgets.interact(pr.normal, Region = widgets.Dropdown(options = ['All Denmark', 'Province Byen København', 'Province Fyn', 'Province Københavns omegn', 'Province Nordjylland', 'Province Sydjylland', 'Province Vest- og Sydsjælland', 'Province Vestjylland', 'Province Østjylland', 'Province Østjylland', 'Province Nordsjælland', 'Province Bornholm'], value = 'All Denmark', description = 'Province', disabled = False))"
   ]
  },
  {
   "cell_type": "code",
   "execution_count": 12,
   "metadata": {},
   "outputs": [
    {
     "data": {
      "application/vnd.jupyter.widget-view+json": {
       "model_id": "4f514861b42b481a84fbd4f79a22b1c4",
       "version_major": 2,
       "version_minor": 0
      },
      "text/plain": [
       "interactive(children=(Dropdown(description='Province', options=('All Denmark', 'Province Byen København', 'Pro…"
      ]
     },
     "metadata": {},
     "output_type": "display_data"
    },
    {
     "data": {
      "text/plain": [
       "<function Project.growth(Region)>"
      ]
     },
     "execution_count": 12,
     "metadata": {},
     "output_type": "execute_result"
    }
   ],
   "source": [
    "widgets.interact(pr.growth, Region = widgets.Dropdown(options = ['All Denmark', 'Province Byen København', 'Province Fyn', 'Province Københavns omegn', 'Province Nordjylland', 'Province Sydjylland', 'Province Vest- og Sydsjælland', 'Province Vestjylland', 'Province Østjylland', 'Province Østjylland', 'Province Nordsjælland', 'Province Bornholm'], value = 'All Denmark', description = 'Province', disabled = False))"
   ]
  },
  {
   "cell_type": "markdown",
   "metadata": {},
   "source": [
    "## Expansion of the project:\n",
    "### Disposable income gap for gender and education\n",
    "We now expand the project and look towards the difference in disposable income for educationlevel and province.\n",
    "The results will be presented here in the notebook, with the code being avaliable in the .py file uddannelse.py"
   ]
  },
  {
   "cell_type": "markdown",
   "metadata": {},
   "source": [
    "To analyse the difference, we use INDKP107 from DST, and generate the following table"
   ]
  },
  {
   "cell_type": "markdown",
   "metadata": {},
   "source": [
    "We use a different method in this part of the project. As before, we retrive the dataframe using an API from DST.\n",
    "But this time, after we have sorted a bit in the data, we use the .groupby and .get_group commands, in order to visualize the data"
   ]
  },
  {
   "cell_type": "markdown",
   "metadata": {},
   "source": [
    "We start with the sorted table "
   ]
  },
  {
   "cell_type": "code",
   "execution_count": 13,
   "metadata": {},
   "outputs": [
    {
     "data": {
      "text/html": [
       "<div>\n",
       "<style scoped>\n",
       "    .dataframe tbody tr th:only-of-type {\n",
       "        vertical-align: middle;\n",
       "    }\n",
       "\n",
       "    .dataframe tbody tr th {\n",
       "        vertical-align: top;\n",
       "    }\n",
       "\n",
       "    .dataframe thead th {\n",
       "        text-align: right;\n",
       "    }\n",
       "</style>\n",
       "<table border=\"1\" class=\"dataframe\">\n",
       "  <thead>\n",
       "    <tr style=\"text-align: right;\">\n",
       "      <th></th>\n",
       "      <th>Municipality</th>\n",
       "      <th>Edulvl</th>\n",
       "      <th>disposable_income_men</th>\n",
       "      <th>disposable_income_women</th>\n",
       "      <th>Difference in %</th>\n",
       "    </tr>\n",
       "    <tr>\n",
       "      <th>Year</th>\n",
       "      <th></th>\n",
       "      <th></th>\n",
       "      <th></th>\n",
       "      <th></th>\n",
       "      <th></th>\n",
       "    </tr>\n",
       "  </thead>\n",
       "  <tbody>\n",
       "    <tr>\n",
       "      <th>2004</th>\n",
       "      <td>All Denmark</td>\n",
       "      <td>BASIC SCHOOL 8-10 grade</td>\n",
       "      <td>127085</td>\n",
       "      <td>110582</td>\n",
       "      <td>14.92</td>\n",
       "    </tr>\n",
       "    <tr>\n",
       "      <th>2004</th>\n",
       "      <td>All Denmark</td>\n",
       "      <td>UPPER SECONDARY SCHOOL</td>\n",
       "      <td>152709</td>\n",
       "      <td>120851</td>\n",
       "      <td>26.36</td>\n",
       "    </tr>\n",
       "    <tr>\n",
       "      <th>2004</th>\n",
       "      <td>All Denmark</td>\n",
       "      <td>VOCATIONAL EDUCATION</td>\n",
       "      <td>189363</td>\n",
       "      <td>159194</td>\n",
       "      <td>18.95</td>\n",
       "    </tr>\n",
       "    <tr>\n",
       "      <th>2004</th>\n",
       "      <td>All Denmark</td>\n",
       "      <td>SHORT-CYCLE HIGHER EDUCATION</td>\n",
       "      <td>208279</td>\n",
       "      <td>180206</td>\n",
       "      <td>15.58</td>\n",
       "    </tr>\n",
       "    <tr>\n",
       "      <th>2004</th>\n",
       "      <td>All Denmark</td>\n",
       "      <td>MEDIUM-CYCLE HIGHER EDUCATION BACHLEOR</td>\n",
       "      <td>234814</td>\n",
       "      <td>187019</td>\n",
       "      <td>25.56</td>\n",
       "    </tr>\n",
       "    <tr>\n",
       "      <th>2004</th>\n",
       "      <td>All Denmark</td>\n",
       "      <td>LONG-CYCLE HIGHER EDUCATION</td>\n",
       "      <td>308274</td>\n",
       "      <td>245403</td>\n",
       "      <td>25.62</td>\n",
       "    </tr>\n",
       "    <tr>\n",
       "      <th>2004</th>\n",
       "      <td>All Denmark</td>\n",
       "      <td>Not stated</td>\n",
       "      <td>131791</td>\n",
       "      <td>115513</td>\n",
       "      <td>14.09</td>\n",
       "    </tr>\n",
       "    <tr>\n",
       "      <th>2005</th>\n",
       "      <td>All Denmark</td>\n",
       "      <td>BASIC SCHOOL 8-10 grade</td>\n",
       "      <td>130907</td>\n",
       "      <td>112936</td>\n",
       "      <td>15.91</td>\n",
       "    </tr>\n",
       "    <tr>\n",
       "      <th>2005</th>\n",
       "      <td>All Denmark</td>\n",
       "      <td>UPPER SECONDARY SCHOOL</td>\n",
       "      <td>157370</td>\n",
       "      <td>126580</td>\n",
       "      <td>24.32</td>\n",
       "    </tr>\n",
       "    <tr>\n",
       "      <th>2005</th>\n",
       "      <td>All Denmark</td>\n",
       "      <td>VOCATIONAL EDUCATION</td>\n",
       "      <td>197572</td>\n",
       "      <td>164607</td>\n",
       "      <td>20.03</td>\n",
       "    </tr>\n",
       "    <tr>\n",
       "      <th>2005</th>\n",
       "      <td>All Denmark</td>\n",
       "      <td>SHORT-CYCLE HIGHER EDUCATION</td>\n",
       "      <td>219876</td>\n",
       "      <td>188403</td>\n",
       "      <td>16.71</td>\n",
       "    </tr>\n",
       "    <tr>\n",
       "      <th>2005</th>\n",
       "      <td>All Denmark</td>\n",
       "      <td>MEDIUM-CYCLE HIGHER EDUCATION BACHLEOR</td>\n",
       "      <td>246908</td>\n",
       "      <td>192888</td>\n",
       "      <td>28.01</td>\n",
       "    </tr>\n",
       "    <tr>\n",
       "      <th>2005</th>\n",
       "      <td>All Denmark</td>\n",
       "      <td>LONG-CYCLE HIGHER EDUCATION</td>\n",
       "      <td>328782</td>\n",
       "      <td>256840</td>\n",
       "      <td>28.01</td>\n",
       "    </tr>\n",
       "    <tr>\n",
       "      <th>2005</th>\n",
       "      <td>All Denmark</td>\n",
       "      <td>Not stated</td>\n",
       "      <td>137909</td>\n",
       "      <td>118686</td>\n",
       "      <td>16.20</td>\n",
       "    </tr>\n",
       "    <tr>\n",
       "      <th>2006</th>\n",
       "      <td>All Denmark</td>\n",
       "      <td>BASIC SCHOOL 8-10 grade</td>\n",
       "      <td>134557</td>\n",
       "      <td>114876</td>\n",
       "      <td>17.13</td>\n",
       "    </tr>\n",
       "    <tr>\n",
       "      <th>2006</th>\n",
       "      <td>All Denmark</td>\n",
       "      <td>UPPER SECONDARY SCHOOL</td>\n",
       "      <td>168334</td>\n",
       "      <td>130106</td>\n",
       "      <td>29.38</td>\n",
       "    </tr>\n",
       "    <tr>\n",
       "      <th>2006</th>\n",
       "      <td>All Denmark</td>\n",
       "      <td>VOCATIONAL EDUCATION</td>\n",
       "      <td>205760</td>\n",
       "      <td>169035</td>\n",
       "      <td>21.73</td>\n",
       "    </tr>\n",
       "    <tr>\n",
       "      <th>2006</th>\n",
       "      <td>All Denmark</td>\n",
       "      <td>SHORT-CYCLE HIGHER EDUCATION</td>\n",
       "      <td>224684</td>\n",
       "      <td>193927</td>\n",
       "      <td>15.86</td>\n",
       "    </tr>\n",
       "    <tr>\n",
       "      <th>2006</th>\n",
       "      <td>All Denmark</td>\n",
       "      <td>MEDIUM-CYCLE HIGHER EDUCATION BACHLEOR</td>\n",
       "      <td>254378</td>\n",
       "      <td>197827</td>\n",
       "      <td>28.59</td>\n",
       "    </tr>\n",
       "    <tr>\n",
       "      <th>2006</th>\n",
       "      <td>All Denmark</td>\n",
       "      <td>LONG-CYCLE HIGHER EDUCATION</td>\n",
       "      <td>345171</td>\n",
       "      <td>267137</td>\n",
       "      <td>29.21</td>\n",
       "    </tr>\n",
       "    <tr>\n",
       "      <th>2006</th>\n",
       "      <td>All Denmark</td>\n",
       "      <td>Not stated</td>\n",
       "      <td>153227</td>\n",
       "      <td>125032</td>\n",
       "      <td>22.55</td>\n",
       "    </tr>\n",
       "    <tr>\n",
       "      <th>2007</th>\n",
       "      <td>All Denmark</td>\n",
       "      <td>BASIC SCHOOL 8-10 grade</td>\n",
       "      <td>138199</td>\n",
       "      <td>117808</td>\n",
       "      <td>17.31</td>\n",
       "    </tr>\n",
       "    <tr>\n",
       "      <th>2007</th>\n",
       "      <td>All Denmark</td>\n",
       "      <td>UPPER SECONDARY SCHOOL</td>\n",
       "      <td>169165</td>\n",
       "      <td>131823</td>\n",
       "      <td>28.33</td>\n",
       "    </tr>\n",
       "    <tr>\n",
       "      <th>2007</th>\n",
       "      <td>All Denmark</td>\n",
       "      <td>VOCATIONAL EDUCATION</td>\n",
       "      <td>208724</td>\n",
       "      <td>172387</td>\n",
       "      <td>21.08</td>\n",
       "    </tr>\n",
       "    <tr>\n",
       "      <th>2007</th>\n",
       "      <td>All Denmark</td>\n",
       "      <td>SHORT-CYCLE HIGHER EDUCATION</td>\n",
       "      <td>234531</td>\n",
       "      <td>194865</td>\n",
       "      <td>20.36</td>\n",
       "    </tr>\n",
       "    <tr>\n",
       "      <th>2007</th>\n",
       "      <td>All Denmark</td>\n",
       "      <td>MEDIUM-CYCLE HIGHER EDUCATION BACHLEOR</td>\n",
       "      <td>260408</td>\n",
       "      <td>202489</td>\n",
       "      <td>28.60</td>\n",
       "    </tr>\n",
       "    <tr>\n",
       "      <th>2007</th>\n",
       "      <td>All Denmark</td>\n",
       "      <td>LONG-CYCLE HIGHER EDUCATION</td>\n",
       "      <td>348973</td>\n",
       "      <td>267608</td>\n",
       "      <td>30.40</td>\n",
       "    </tr>\n",
       "    <tr>\n",
       "      <th>2007</th>\n",
       "      <td>All Denmark</td>\n",
       "      <td>Not stated</td>\n",
       "      <td>138431</td>\n",
       "      <td>125424</td>\n",
       "      <td>10.37</td>\n",
       "    </tr>\n",
       "    <tr>\n",
       "      <th>2008</th>\n",
       "      <td>All Denmark</td>\n",
       "      <td>BASIC SCHOOL 8-10 grade</td>\n",
       "      <td>134539</td>\n",
       "      <td>119011</td>\n",
       "      <td>13.05</td>\n",
       "    </tr>\n",
       "    <tr>\n",
       "      <th>2008</th>\n",
       "      <td>All Denmark</td>\n",
       "      <td>UPPER SECONDARY SCHOOL</td>\n",
       "      <td>163640</td>\n",
       "      <td>135325</td>\n",
       "      <td>20.92</td>\n",
       "    </tr>\n",
       "    <tr>\n",
       "      <th>...</th>\n",
       "      <td>...</td>\n",
       "      <td>...</td>\n",
       "      <td>...</td>\n",
       "      <td>...</td>\n",
       "      <td>...</td>\n",
       "    </tr>\n",
       "    <tr>\n",
       "      <th>2013</th>\n",
       "      <td>Province Østsjælland</td>\n",
       "      <td>LONG-CYCLE HIGHER EDUCATION</td>\n",
       "      <td>442884</td>\n",
       "      <td>354676</td>\n",
       "      <td>24.87</td>\n",
       "    </tr>\n",
       "    <tr>\n",
       "      <th>2013</th>\n",
       "      <td>Province Østsjælland</td>\n",
       "      <td>Not stated</td>\n",
       "      <td>168963</td>\n",
       "      <td>138305</td>\n",
       "      <td>22.17</td>\n",
       "    </tr>\n",
       "    <tr>\n",
       "      <th>2014</th>\n",
       "      <td>Province Østsjælland</td>\n",
       "      <td>BASIC SCHOOL 8-10 grade</td>\n",
       "      <td>149233</td>\n",
       "      <td>135136</td>\n",
       "      <td>10.43</td>\n",
       "    </tr>\n",
       "    <tr>\n",
       "      <th>2014</th>\n",
       "      <td>Province Østsjælland</td>\n",
       "      <td>UPPER SECONDARY SCHOOL</td>\n",
       "      <td>225164</td>\n",
       "      <td>174268</td>\n",
       "      <td>29.21</td>\n",
       "    </tr>\n",
       "    <tr>\n",
       "      <th>2014</th>\n",
       "      <td>Province Østsjælland</td>\n",
       "      <td>VOCATIONAL EDUCATION</td>\n",
       "      <td>270533</td>\n",
       "      <td>224835</td>\n",
       "      <td>20.33</td>\n",
       "    </tr>\n",
       "    <tr>\n",
       "      <th>2014</th>\n",
       "      <td>Province Østsjælland</td>\n",
       "      <td>SHORT-CYCLE HIGHER EDUCATION</td>\n",
       "      <td>317543</td>\n",
       "      <td>270255</td>\n",
       "      <td>17.50</td>\n",
       "    </tr>\n",
       "    <tr>\n",
       "      <th>2014</th>\n",
       "      <td>Province Østsjælland</td>\n",
       "      <td>MEDIUM-CYCLE HIGHER EDUCATION BACHLEOR</td>\n",
       "      <td>360609</td>\n",
       "      <td>265679</td>\n",
       "      <td>35.73</td>\n",
       "    </tr>\n",
       "    <tr>\n",
       "      <th>2014</th>\n",
       "      <td>Province Østsjælland</td>\n",
       "      <td>LONG-CYCLE HIGHER EDUCATION</td>\n",
       "      <td>460880</td>\n",
       "      <td>365180</td>\n",
       "      <td>26.21</td>\n",
       "    </tr>\n",
       "    <tr>\n",
       "      <th>2014</th>\n",
       "      <td>Province Østsjælland</td>\n",
       "      <td>Not stated</td>\n",
       "      <td>161912</td>\n",
       "      <td>126040</td>\n",
       "      <td>28.46</td>\n",
       "    </tr>\n",
       "    <tr>\n",
       "      <th>2015</th>\n",
       "      <td>Province Østsjælland</td>\n",
       "      <td>BASIC SCHOOL 8-10 grade</td>\n",
       "      <td>152265</td>\n",
       "      <td>135852</td>\n",
       "      <td>12.08</td>\n",
       "    </tr>\n",
       "    <tr>\n",
       "      <th>2015</th>\n",
       "      <td>Province Østsjælland</td>\n",
       "      <td>UPPER SECONDARY SCHOOL</td>\n",
       "      <td>223833</td>\n",
       "      <td>187114</td>\n",
       "      <td>19.62</td>\n",
       "    </tr>\n",
       "    <tr>\n",
       "      <th>2015</th>\n",
       "      <td>Province Østsjælland</td>\n",
       "      <td>VOCATIONAL EDUCATION</td>\n",
       "      <td>277205</td>\n",
       "      <td>226985</td>\n",
       "      <td>22.12</td>\n",
       "    </tr>\n",
       "    <tr>\n",
       "      <th>2015</th>\n",
       "      <td>Province Østsjælland</td>\n",
       "      <td>SHORT-CYCLE HIGHER EDUCATION</td>\n",
       "      <td>330638</td>\n",
       "      <td>272761</td>\n",
       "      <td>21.22</td>\n",
       "    </tr>\n",
       "    <tr>\n",
       "      <th>2015</th>\n",
       "      <td>Province Østsjælland</td>\n",
       "      <td>MEDIUM-CYCLE HIGHER EDUCATION BACHLEOR</td>\n",
       "      <td>362872</td>\n",
       "      <td>270371</td>\n",
       "      <td>34.21</td>\n",
       "    </tr>\n",
       "    <tr>\n",
       "      <th>2015</th>\n",
       "      <td>Province Østsjælland</td>\n",
       "      <td>LONG-CYCLE HIGHER EDUCATION</td>\n",
       "      <td>468428</td>\n",
       "      <td>369575</td>\n",
       "      <td>26.75</td>\n",
       "    </tr>\n",
       "    <tr>\n",
       "      <th>2015</th>\n",
       "      <td>Province Østsjælland</td>\n",
       "      <td>Not stated</td>\n",
       "      <td>161304</td>\n",
       "      <td>129740</td>\n",
       "      <td>24.33</td>\n",
       "    </tr>\n",
       "    <tr>\n",
       "      <th>2016</th>\n",
       "      <td>Province Østsjælland</td>\n",
       "      <td>BASIC SCHOOL 8-10 grade</td>\n",
       "      <td>154016</td>\n",
       "      <td>136379</td>\n",
       "      <td>12.93</td>\n",
       "    </tr>\n",
       "    <tr>\n",
       "      <th>2016</th>\n",
       "      <td>Province Østsjælland</td>\n",
       "      <td>UPPER SECONDARY SCHOOL</td>\n",
       "      <td>224383</td>\n",
       "      <td>174262</td>\n",
       "      <td>28.76</td>\n",
       "    </tr>\n",
       "    <tr>\n",
       "      <th>2016</th>\n",
       "      <td>Province Østsjælland</td>\n",
       "      <td>VOCATIONAL EDUCATION</td>\n",
       "      <td>283030</td>\n",
       "      <td>229812</td>\n",
       "      <td>23.16</td>\n",
       "    </tr>\n",
       "    <tr>\n",
       "      <th>2016</th>\n",
       "      <td>Province Østsjælland</td>\n",
       "      <td>SHORT-CYCLE HIGHER EDUCATION</td>\n",
       "      <td>338359</td>\n",
       "      <td>285506</td>\n",
       "      <td>18.51</td>\n",
       "    </tr>\n",
       "    <tr>\n",
       "      <th>2016</th>\n",
       "      <td>Province Østsjælland</td>\n",
       "      <td>MEDIUM-CYCLE HIGHER EDUCATION BACHLEOR</td>\n",
       "      <td>367435</td>\n",
       "      <td>274884</td>\n",
       "      <td>33.67</td>\n",
       "    </tr>\n",
       "    <tr>\n",
       "      <th>2016</th>\n",
       "      <td>Province Østsjælland</td>\n",
       "      <td>LONG-CYCLE HIGHER EDUCATION</td>\n",
       "      <td>460348</td>\n",
       "      <td>357681</td>\n",
       "      <td>28.70</td>\n",
       "    </tr>\n",
       "    <tr>\n",
       "      <th>2016</th>\n",
       "      <td>Province Østsjælland</td>\n",
       "      <td>Not stated</td>\n",
       "      <td>173410</td>\n",
       "      <td>138056</td>\n",
       "      <td>25.61</td>\n",
       "    </tr>\n",
       "    <tr>\n",
       "      <th>2017</th>\n",
       "      <td>Province Østsjælland</td>\n",
       "      <td>BASIC SCHOOL 8-10 grade</td>\n",
       "      <td>158836</td>\n",
       "      <td>138144</td>\n",
       "      <td>14.98</td>\n",
       "    </tr>\n",
       "    <tr>\n",
       "      <th>2017</th>\n",
       "      <td>Province Østsjælland</td>\n",
       "      <td>UPPER SECONDARY SCHOOL</td>\n",
       "      <td>224592</td>\n",
       "      <td>176966</td>\n",
       "      <td>26.91</td>\n",
       "    </tr>\n",
       "    <tr>\n",
       "      <th>2017</th>\n",
       "      <td>Province Østsjælland</td>\n",
       "      <td>VOCATIONAL EDUCATION</td>\n",
       "      <td>293701</td>\n",
       "      <td>235314</td>\n",
       "      <td>24.81</td>\n",
       "    </tr>\n",
       "    <tr>\n",
       "      <th>2017</th>\n",
       "      <td>Province Østsjælland</td>\n",
       "      <td>SHORT-CYCLE HIGHER EDUCATION</td>\n",
       "      <td>351137</td>\n",
       "      <td>284963</td>\n",
       "      <td>23.22</td>\n",
       "    </tr>\n",
       "    <tr>\n",
       "      <th>2017</th>\n",
       "      <td>Province Østsjælland</td>\n",
       "      <td>MEDIUM-CYCLE HIGHER EDUCATION BACHLEOR</td>\n",
       "      <td>369937</td>\n",
       "      <td>280782</td>\n",
       "      <td>31.75</td>\n",
       "    </tr>\n",
       "    <tr>\n",
       "      <th>2017</th>\n",
       "      <td>Province Østsjælland</td>\n",
       "      <td>LONG-CYCLE HIGHER EDUCATION</td>\n",
       "      <td>472696</td>\n",
       "      <td>366604</td>\n",
       "      <td>28.94</td>\n",
       "    </tr>\n",
       "    <tr>\n",
       "      <th>2017</th>\n",
       "      <td>Province Østsjælland</td>\n",
       "      <td>Not stated</td>\n",
       "      <td>181478</td>\n",
       "      <td>143349</td>\n",
       "      <td>26.60</td>\n",
       "    </tr>\n",
       "  </tbody>\n",
       "</table>\n",
       "<p>1176 rows × 5 columns</p>\n",
       "</div>"
      ],
      "text/plain": [
       "              Municipality                                  Edulvl  \\\n",
       "Year                                                                 \n",
       "2004           All Denmark                 BASIC SCHOOL 8-10 grade   \n",
       "2004           All Denmark                  UPPER SECONDARY SCHOOL   \n",
       "2004           All Denmark                    VOCATIONAL EDUCATION   \n",
       "2004           All Denmark            SHORT-CYCLE HIGHER EDUCATION   \n",
       "2004           All Denmark  MEDIUM-CYCLE HIGHER EDUCATION BACHLEOR   \n",
       "2004           All Denmark             LONG-CYCLE HIGHER EDUCATION   \n",
       "2004           All Denmark                              Not stated   \n",
       "2005           All Denmark                 BASIC SCHOOL 8-10 grade   \n",
       "2005           All Denmark                  UPPER SECONDARY SCHOOL   \n",
       "2005           All Denmark                    VOCATIONAL EDUCATION   \n",
       "2005           All Denmark            SHORT-CYCLE HIGHER EDUCATION   \n",
       "2005           All Denmark  MEDIUM-CYCLE HIGHER EDUCATION BACHLEOR   \n",
       "2005           All Denmark             LONG-CYCLE HIGHER EDUCATION   \n",
       "2005           All Denmark                              Not stated   \n",
       "2006           All Denmark                 BASIC SCHOOL 8-10 grade   \n",
       "2006           All Denmark                  UPPER SECONDARY SCHOOL   \n",
       "2006           All Denmark                    VOCATIONAL EDUCATION   \n",
       "2006           All Denmark            SHORT-CYCLE HIGHER EDUCATION   \n",
       "2006           All Denmark  MEDIUM-CYCLE HIGHER EDUCATION BACHLEOR   \n",
       "2006           All Denmark             LONG-CYCLE HIGHER EDUCATION   \n",
       "2006           All Denmark                              Not stated   \n",
       "2007           All Denmark                 BASIC SCHOOL 8-10 grade   \n",
       "2007           All Denmark                  UPPER SECONDARY SCHOOL   \n",
       "2007           All Denmark                    VOCATIONAL EDUCATION   \n",
       "2007           All Denmark            SHORT-CYCLE HIGHER EDUCATION   \n",
       "2007           All Denmark  MEDIUM-CYCLE HIGHER EDUCATION BACHLEOR   \n",
       "2007           All Denmark             LONG-CYCLE HIGHER EDUCATION   \n",
       "2007           All Denmark                              Not stated   \n",
       "2008           All Denmark                 BASIC SCHOOL 8-10 grade   \n",
       "2008           All Denmark                  UPPER SECONDARY SCHOOL   \n",
       "...                    ...                                     ...   \n",
       "2013  Province Østsjælland             LONG-CYCLE HIGHER EDUCATION   \n",
       "2013  Province Østsjælland                              Not stated   \n",
       "2014  Province Østsjælland                 BASIC SCHOOL 8-10 grade   \n",
       "2014  Province Østsjælland                  UPPER SECONDARY SCHOOL   \n",
       "2014  Province Østsjælland                    VOCATIONAL EDUCATION   \n",
       "2014  Province Østsjælland            SHORT-CYCLE HIGHER EDUCATION   \n",
       "2014  Province Østsjælland  MEDIUM-CYCLE HIGHER EDUCATION BACHLEOR   \n",
       "2014  Province Østsjælland             LONG-CYCLE HIGHER EDUCATION   \n",
       "2014  Province Østsjælland                              Not stated   \n",
       "2015  Province Østsjælland                 BASIC SCHOOL 8-10 grade   \n",
       "2015  Province Østsjælland                  UPPER SECONDARY SCHOOL   \n",
       "2015  Province Østsjælland                    VOCATIONAL EDUCATION   \n",
       "2015  Province Østsjælland            SHORT-CYCLE HIGHER EDUCATION   \n",
       "2015  Province Østsjælland  MEDIUM-CYCLE HIGHER EDUCATION BACHLEOR   \n",
       "2015  Province Østsjælland             LONG-CYCLE HIGHER EDUCATION   \n",
       "2015  Province Østsjælland                              Not stated   \n",
       "2016  Province Østsjælland                 BASIC SCHOOL 8-10 grade   \n",
       "2016  Province Østsjælland                  UPPER SECONDARY SCHOOL   \n",
       "2016  Province Østsjælland                    VOCATIONAL EDUCATION   \n",
       "2016  Province Østsjælland            SHORT-CYCLE HIGHER EDUCATION   \n",
       "2016  Province Østsjælland  MEDIUM-CYCLE HIGHER EDUCATION BACHLEOR   \n",
       "2016  Province Østsjælland             LONG-CYCLE HIGHER EDUCATION   \n",
       "2016  Province Østsjælland                              Not stated   \n",
       "2017  Province Østsjælland                 BASIC SCHOOL 8-10 grade   \n",
       "2017  Province Østsjælland                  UPPER SECONDARY SCHOOL   \n",
       "2017  Province Østsjælland                    VOCATIONAL EDUCATION   \n",
       "2017  Province Østsjælland            SHORT-CYCLE HIGHER EDUCATION   \n",
       "2017  Province Østsjælland  MEDIUM-CYCLE HIGHER EDUCATION BACHLEOR   \n",
       "2017  Province Østsjælland             LONG-CYCLE HIGHER EDUCATION   \n",
       "2017  Province Østsjælland                              Not stated   \n",
       "\n",
       "      disposable_income_men  disposable_income_women  Difference in %  \n",
       "Year                                                                   \n",
       "2004                 127085                   110582            14.92  \n",
       "2004                 152709                   120851            26.36  \n",
       "2004                 189363                   159194            18.95  \n",
       "2004                 208279                   180206            15.58  \n",
       "2004                 234814                   187019            25.56  \n",
       "2004                 308274                   245403            25.62  \n",
       "2004                 131791                   115513            14.09  \n",
       "2005                 130907                   112936            15.91  \n",
       "2005                 157370                   126580            24.32  \n",
       "2005                 197572                   164607            20.03  \n",
       "2005                 219876                   188403            16.71  \n",
       "2005                 246908                   192888            28.01  \n",
       "2005                 328782                   256840            28.01  \n",
       "2005                 137909                   118686            16.20  \n",
       "2006                 134557                   114876            17.13  \n",
       "2006                 168334                   130106            29.38  \n",
       "2006                 205760                   169035            21.73  \n",
       "2006                 224684                   193927            15.86  \n",
       "2006                 254378                   197827            28.59  \n",
       "2006                 345171                   267137            29.21  \n",
       "2006                 153227                   125032            22.55  \n",
       "2007                 138199                   117808            17.31  \n",
       "2007                 169165                   131823            28.33  \n",
       "2007                 208724                   172387            21.08  \n",
       "2007                 234531                   194865            20.36  \n",
       "2007                 260408                   202489            28.60  \n",
       "2007                 348973                   267608            30.40  \n",
       "2007                 138431                   125424            10.37  \n",
       "2008                 134539                   119011            13.05  \n",
       "2008                 163640                   135325            20.92  \n",
       "...                     ...                      ...              ...  \n",
       "2013                 442884                   354676            24.87  \n",
       "2013                 168963                   138305            22.17  \n",
       "2014                 149233                   135136            10.43  \n",
       "2014                 225164                   174268            29.21  \n",
       "2014                 270533                   224835            20.33  \n",
       "2014                 317543                   270255            17.50  \n",
       "2014                 360609                   265679            35.73  \n",
       "2014                 460880                   365180            26.21  \n",
       "2014                 161912                   126040            28.46  \n",
       "2015                 152265                   135852            12.08  \n",
       "2015                 223833                   187114            19.62  \n",
       "2015                 277205                   226985            22.12  \n",
       "2015                 330638                   272761            21.22  \n",
       "2015                 362872                   270371            34.21  \n",
       "2015                 468428                   369575            26.75  \n",
       "2015                 161304                   129740            24.33  \n",
       "2016                 154016                   136379            12.93  \n",
       "2016                 224383                   174262            28.76  \n",
       "2016                 283030                   229812            23.16  \n",
       "2016                 338359                   285506            18.51  \n",
       "2016                 367435                   274884            33.67  \n",
       "2016                 460348                   357681            28.70  \n",
       "2016                 173410                   138056            25.61  \n",
       "2017                 158836                   138144            14.98  \n",
       "2017                 224592                   176966            26.91  \n",
       "2017                 293701                   235314            24.81  \n",
       "2017                 351137                   284963            23.22  \n",
       "2017                 369937                   280782            31.75  \n",
       "2017                 472696                   366604            28.94  \n",
       "2017                 181478                   143349            26.60  \n",
       "\n",
       "[1176 rows x 5 columns]"
      ]
     },
     "execution_count": 13,
     "metadata": {},
     "output_type": "execute_result"
    }
   ],
   "source": [
    "pd.DataFrame(udd.Final_table1)"
   ]
  },
  {
   "cell_type": "markdown",
   "metadata": {},
   "source": [
    "# Visualization:"
   ]
  },
  {
   "cell_type": "markdown",
   "metadata": {},
   "source": [
    "In order to get a better understanding of the data, we create the two following interactive plots for gap in disposable income for men and women with relation to province and educationlevel:\n"
   ]
  },
  {
   "cell_type": "code",
   "execution_count": 19,
   "metadata": {},
   "outputs": [
    {
     "data": {
      "application/vnd.jupyter.widget-view+json": {
       "model_id": "e73e23d34c8348cd8b2cf795e4bdaf99",
       "version_major": 2,
       "version_minor": 0
      },
      "text/plain": [
       "interactive(children=(Dropdown(description='Municipality', options=('All Denmark', 'Province Byen København', …"
      ]
     },
     "metadata": {},
     "output_type": "display_data"
    },
    {
     "data": {
      "text/plain": [
       "<function uddannelse.Difference(Municipality, Edulvl)>"
      ]
     },
     "execution_count": 19,
     "metadata": {},
     "output_type": "execute_result"
    }
   ],
   "source": [
    "widgets.interact(udd.Difference, \n",
    "                 Municipality = widgets.Dropdown(options = ['All Denmark', 'Province Byen København', 'Province Fyn', 'Province Københavns omegn', 'Province Nordjylland', 'Province Sydjylland', 'Province Vest- og Sydsjælland', 'Province Vestjylland', 'Province Østjylland', 'Province Østjylland', 'Province Nordsjælland', 'Province Bornholm']),\n",
    "                 Edulvl = widgets.Dropdown(options = [\"BASIC SCHOOL 8-10 grade\",\"UPPER SECONDARY SCHOOL\",\"VOCATIONAL EDUCATION\",\"SHORT-CYCLE HIGHER EDUCATION\",\"MEDIUM-CYCLE HIGHER EDUCATION BACHLEOR\",\"LONG-CYCLE HIGHER EDUCATION\",\"Not stated\"]),\n",
    "                 Disabled = False   \n",
    "                )"
   ]
  },
  {
   "cell_type": "code",
   "execution_count": 22,
   "metadata": {},
   "outputs": [
    {
     "data": {
      "application/vnd.jupyter.widget-view+json": {
       "model_id": "bcd7aa649596446c8e055469208271de",
       "version_major": 2,
       "version_minor": 0
      },
      "text/plain": [
       "interactive(children=(Dropdown(description='Municipality', options=('All Denmark', 'Province Byen København', …"
      ]
     },
     "metadata": {},
     "output_type": "display_data"
    },
    {
     "data": {
      "text/plain": [
       "<function uddannelse.MenWomen(Municipality, Edulvl)>"
      ]
     },
     "execution_count": 22,
     "metadata": {},
     "output_type": "execute_result"
    }
   ],
   "source": [
    "widgets.interact(udd.MenWomen, \n",
    "                 Municipality = widgets.Dropdown(options = ['All Denmark', 'Province Byen København', 'Province Fyn', 'Province Københavns omegn', 'Province Nordjylland', 'Province Sydjylland', 'Province Vest- og Sydsjælland', 'Province Vestjylland', 'Province Østjylland', 'Province Østjylland', 'Province Nordsjælland', 'Province Bornholm']),\n",
    "                 Edulvl = widgets.Dropdown(options = [\"BASIC SCHOOL 8-10 grade\",\"UPPER SECONDARY SCHOOL\",\"VOCATIONAL EDUCATION\",\"SHORT-CYCLE HIGHER EDUCATION\",\"MEDIUM-CYCLE HIGHER EDUCATION BACHLEOR\",\"LONG-CYCLE HIGHER EDUCATION\",\"Not stated\"]),\n",
    "                 Disabled = False   \n",
    "                )"
   ]
  },
  {
   "cell_type": "markdown",
   "metadata": {},
   "source": [
    "### Conclusion:\n",
    "The most relevant conclusions come from the All Denmark option, here we can see that the percentage difference for men and women is positive across all educationlevels, meaning that men earn more than women for all educationlevels, exept for short-cycle higher education in 2008 where several provinces show higher incomes for women than men. It is an overall trend across the data, that there is a shock in 2008, which decreases the gap. Furthermore it can be concluded that the wage gap is larger for medium- and long-cycle higher education.  "
   ]
  },
  {
   "cell_type": "code",
   "execution_count": null,
   "metadata": {},
   "outputs": [],
   "source": []
  }
 ],
 "metadata": {
  "kernelspec": {
   "display_name": "Python 3",
   "language": "python",
   "name": "python3"
  },
  "language_info": {
   "codemirror_mode": {
    "name": "ipython",
    "version": 3
   },
   "file_extension": ".py",
   "mimetype": "text/x-python",
   "name": "python",
   "nbconvert_exporter": "python",
   "pygments_lexer": "ipython3",
   "version": "3.7.1"
  }
 },
 "nbformat": 4,
 "nbformat_minor": 2
}
