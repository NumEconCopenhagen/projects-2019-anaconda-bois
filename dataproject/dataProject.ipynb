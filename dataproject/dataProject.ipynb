{
 "cells": [
  {
   "cell_type": "code",
   "execution_count": 6,
   "metadata": {},
   "outputs": [
    {
     "name": "stdout",
     "output_type": "stream",
     "text": [
      "The autoreload extension is already loaded. To reload it, use:\n",
      "  %reload_ext autoreload\n"
     ]
    },
    {
     "ename": "SyntaxError",
     "evalue": "invalid syntax (Project.py, line 32)",
     "output_type": "error",
     "traceback": [
      "Traceback \u001b[1;36m(most recent call last)\u001b[0m:\n",
      "  File \u001b[0;32m\"C:\\Users\\45203\\Anaconda3\\lib\\site-packages\\IPython\\core\\interactiveshell.py\"\u001b[0m, line \u001b[0;32m3267\u001b[0m, in \u001b[0;35mrun_code\u001b[0m\n    exec(code_obj, self.user_global_ns, self.user_ns)\n",
      "\u001b[1;36m  File \u001b[1;32m\"<ipython-input-6-b4920e18fa0e>\"\u001b[1;36m, line \u001b[1;32m4\u001b[1;36m, in \u001b[1;35m<module>\u001b[1;36m\u001b[0m\n\u001b[1;33m    import Project as pr\u001b[0m\n",
      "\u001b[1;36m  File \u001b[1;32m\"C:\\Users\\45203\\Documents\\GitHub\\projects-2019-anaconda-bois\\dataproject\\Project.py\"\u001b[1;36m, line \u001b[1;32m32\u001b[0m\n\u001b[1;33m    Women_without_year = Women[['Gender'; 'Women']]\u001b[0m\n\u001b[1;37m                                        ^\u001b[0m\n\u001b[1;31mSyntaxError\u001b[0m\u001b[1;31m:\u001b[0m invalid syntax\n"
     ]
    }
   ],
   "source": [
    "%load_ext autoreload\n",
    "%autoreload 2\n",
    "# You can load your python module as this:\n",
    "import Project as pr"
   ]
  },
  {
   "cell_type": "markdown",
   "metadata": {},
   "source": [
    "To begin with, we look through the table we have chosen, to finde the variables we want to inspect:"
   ]
  },
  {
   "cell_type": "code",
   "execution_count": null,
   "metadata": {},
   "outputs": [],
   "source": [
    "pr.Vars.values"
   ]
  },
  {
   "cell_type": "markdown",
   "metadata": {},
   "source": [
    "With use of these variables, we create our table and clean it up so we get a nice final table."
   ]
  },
  {
   "cell_type": "markdown",
   "metadata": {},
   "source": [
    "After this we apply our function which gives the difference between men's and women's disposable income in %, to our table."
   ]
  },
  {
   "cell_type": "markdown",
   "metadata": {},
   "source": [
    "The final table finally looks like this:"
   ]
  },
  {
   "cell_type": "code",
   "execution_count": null,
   "metadata": {},
   "outputs": [],
   "source": [
    "pr.Final_table"
   ]
  },
  {
   "cell_type": "markdown",
   "metadata": {},
   "source": [
    "Using a for loop, we have created a dictionary which contains the names of the provinces as the keys, and the individually tables as the values."
   ]
  },
  {
   "cell_type": "markdown",
   "metadata": {},
   "source": [
    "We now have the following keys, which each represents the table for the respectively province:"
   ]
  },
  {
   "cell_type": "code",
   "execution_count": null,
   "metadata": {},
   "outputs": [],
   "source": [
    "pr.d.keys()"
   ]
  },
  {
   "cell_type": "markdown",
   "metadata": {},
   "source": [
    "These keys can be used in our function 'Differerence()' which takes the keys as argument, to present the difference in disposable income between men and women in %."
   ]
  },
  {
   "cell_type": "markdown",
   "metadata": {},
   "source": [
    "With this, we can now compare the provinces to all of Denmark."
   ]
  },
  {
   "cell_type": "code",
   "execution_count": null,
   "metadata": {},
   "outputs": [],
   "source": [
    "pr.Difference('All Denmark'), pr.Difference('Province Bornholm'), pr.Difference('Province Vest- og Sydsjælland'), pr.Difference('Province Nordjylland')"
   ]
  },
  {
   "cell_type": "markdown",
   "metadata": {},
   "source": [
    "We can here see, that fx the province Bornholm, has reached the lowest point of inequality, and that it generally lies under the level for all of Denmark."
   ]
  },
  {
   "cell_type": "markdown",
   "metadata": {},
   "source": [
    "We can also see that the province of Vest- and Sydsjælland follows the whole country very well through the years."
   ]
  },
  {
   "cell_type": "markdown",
   "metadata": {},
   "source": [
    "At last we can see that the province Nordjylland has bigger spikes than the others, which means that the inequality varies most here."
   ]
  },
  {
   "cell_type": "markdown",
   "metadata": {},
   "source": [
    " "
   ]
  },
  {
   "cell_type": "markdown",
   "metadata": {},
   "source": [
    "Finally we have created a function called 'normal()', which shows the normal distribution for the chosen province. It also prints out the mean and standard deviation for easier comparison."
   ]
  },
  {
   "cell_type": "markdown",
   "metadata": {},
   "source": [
    "For all of Denmark we have the distribution:"
   ]
  },
  {
   "cell_type": "code",
   "execution_count": null,
   "metadata": {},
   "outputs": [],
   "source": [
    "pr.normal('All Denmark')"
   ]
  },
  {
   "cell_type": "markdown",
   "metadata": {},
   "source": [
    "For the whole country, we see as expected that men has had a higher average income over the years. We can use the standard deviation to give a hint about which gender has moved the most numerically over the years. We here see, that even though we found that the difference between the genders in % has fallen, the disposable income for men has still increased the most numerically."
   ]
  },
  {
   "cell_type": "markdown",
   "metadata": {},
   "source": [
    "This can also be seen in the graph below, where the gap between the lines are bigger at the end, than in the beginning. So even though men in Denmark have had their disposable income increased the most numerically, the women are still closing in on them procentually."
   ]
  },
  {
   "cell_type": "code",
   "execution_count": null,
   "metadata": {},
   "outputs": [],
   "source": [
    "pr.growth('All Denmark')"
   ]
  },
  {
   "cell_type": "markdown",
   "metadata": {},
   "source": [
    "We can also make this little analysis on fx the province Bornholm:"
   ]
  },
  {
   "cell_type": "code",
   "execution_count": null,
   "metadata": {},
   "outputs": [],
   "source": [
    "pr.normal('Province Bornholm')"
   ]
  },
  {
   "cell_type": "markdown",
   "metadata": {},
   "source": [
    "We see here that both the mean and standard deviation for both genders are lower than for all of Denmark. Still, the men has a higher average and their disposable income has grown the most numerically over the years. We can see this in the graph below. We can also see the point in 2009 where the difference in disposable incomes were very low for Bornholm."
   ]
  },
  {
   "cell_type": "code",
   "execution_count": null,
   "metadata": {},
   "outputs": [],
   "source": [
    "pr.growth('Province Bornholm')"
   ]
  },
  {
   "cell_type": "markdown",
   "metadata": {},
   "source": [
    "By this we can conclude that the province Bornholm is pulling the mean and standard deviation for the whole country down a bit."
   ]
  },
  {
   "cell_type": "markdown",
   "metadata": {},
   "source": [
    "We can do the same for the province Nordsjælland just to see that this province is pulling the mean and standard deviation for the whole country up opposite Bornholm."
   ]
  },
  {
   "cell_type": "code",
   "execution_count": null,
   "metadata": {},
   "outputs": [],
   "source": [
    "pr.normal('Province Nordsjælland'), pr.growth('Province Nordsjælland')"
   ]
  },
  {
   "cell_type": "markdown",
   "metadata": {},
   "source": [
    "In conclusion we can use all these graphs to see which provinces lies under the country average, and which lies over. Furthermore we can see which provinces has moved the most over the years, both in terms of inequality and numerically.\n"
   ]
  },
  {
   "cell_type": "code",
   "execution_count": null,
   "metadata": {},
   "outputs": [],
   "source": [
    "widgets.interact(pr.growth, \n",
    "    disposable_income_men = widgets.fixed(disposable_income_men),disposable_income_women = widgets.fixed(disposable_income_women),\n",
    "    Region = widgets.Dropdown(description='Region', options=disposable_income_men.Region.unique(), value='Province Nordsjælland')\n",
    "); "
   ]
  },
  {
   "cell_type": "code",
   "execution_count": null,
   "metadata": {},
   "outputs": [],
   "source": []
  }
 ],
 "metadata": {
  "kernelspec": {
   "display_name": "Python 3",
   "language": "python",
   "name": "python3"
  },
  "language_info": {
   "codemirror_mode": {
    "name": "ipython",
    "version": 3
   },
   "file_extension": ".py",
   "mimetype": "text/x-python",
   "name": "python",
   "nbconvert_exporter": "python",
   "pygments_lexer": "ipython3",
   "version": "3.7.1"
  }
 },
 "nbformat": 4,
 "nbformat_minor": 2
}
