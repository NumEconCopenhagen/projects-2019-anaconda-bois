{
 "cells": [
  {
   "cell_type": "code",
   "execution_count": 2,
   "metadata": {},
   "outputs": [],
   "source": [
    "from scipy import linalg\n",
    "from scipy import optimize\n",
    "import sympy as sm\n",
    "import matplotlib.pyplot as plt\n",
    "import numpy as np\n",
    "import ipywidgets as widgets"
   ]
  },
  {
   "cell_type": "markdown",
   "metadata": {},
   "source": [
    "To print nicely:"
   ]
  },
  {
   "cell_type": "code",
   "execution_count": 3,
   "metadata": {},
   "outputs": [],
   "source": [
    "sm.init_printing(use_unicode=True)"
   ]
  },
  {
   "cell_type": "markdown",
   "metadata": {},
   "source": [
    "# The solow model with Human Capital"
   ]
  },
  {
   "cell_type": "markdown",
   "metadata": {},
   "source": [
    "The Solow model with human capital is as follows:"
   ]
  },
  {
   "cell_type": "markdown",
   "metadata": {},
   "source": [
    "\\begin{equation}\n",
    "Y_t = K_t^{\\alpha}H_t^{\\varphi}(A_tL_t)^{1-\\alpha -\\varphi} \\tag{1} \\\\\n",
    "\\end{equation}\n",
    "\\begin{equation}\n",
    "r_t = \\alpha \\left(\\frac{K_t}{A_t L_t}\\right)^{\\alpha -1} \\left(\\frac{H_t}{A_t L_t}\\right)^{\\varphi} \\tag{2}\n",
    "\\end{equation}\n",
    "\\begin{equation}\n",
    "w_t = (1-\\alpha) \\left(\\frac{K_t}{A_tL_t}\\right)^{\\alpha} \\left(\\frac{H_t}{A_tL_t}\\right)^{\\varphi}A_t \\tag{3}\n",
    "\\end{equation}\n",
    "\\begin{equation}\n",
    "K_{t+1}-K_t = s_K Y_t - \\delta K_t \\quad , \\quad K_0 \\text{ given} \\tag{4}\n",
    "\\end{equation}\n",
    "\\begin{equation}\n",
    "H_{t+1}-H_t = s_H Y_t -\\delta H_t \\quad , \\quad H_0 \\text{ given} \\tag{5}\n",
    "\\end{equation}\n",
    "\\begin{equation}\n",
    "L_{t+1} = (1+n)L_t \\quad , \\quad L_0 \\text{ given} \\tag{6}\n",
    "\\end{equation}\n",
    "\\begin{equation}\n",
    "A_{t+1} = (1+g)A_t \\quad , \\quad A_0 \\text{ given} \\tag{7}\n",
    "\\end{equation}"
   ]
  },
  {
   "cell_type": "markdown",
   "metadata": {},
   "source": [
    "We also define the following equations:\n",
    "\\begin{equation}\n",
    "\\text{Physical capital per effective worker}: \\quad \\tilde{k_t} = \\frac{K_t}{A_tL_t}\n",
    "\\end{equation}\n",
    "\\begin{equation}\n",
    "\\text{Human capital per effective worker}: \\quad \\tilde{h_t} = \\frac{H_t}{A_tL_t}\n",
    "\\end{equation}\n",
    "\\begin{equation}\n",
    "\\text{Output per effective worker}: \\quad \\tilde{y_t} = \\frac{Y_t}{A_tL_t}\n",
    "\\end{equation}\n",
    "\\begin{equation}\n",
    "\\tilde{y_t} = \\tilde{k_t}^{\\alpha} \\tilde{h_t}^{\\varphi}\n",
    "\\end{equation}"
   ]
  },
  {
   "cell_type": "markdown",
   "metadata": {},
   "source": [
    "## Defining symbols"
   ]
  },
  {
   "cell_type": "markdown",
   "metadata": {},
   "source": [
    "Defining all the things as symbols so we can use sympy:"
   ]
  },
  {
   "cell_type": "code",
   "execution_count": 153,
   "metadata": {},
   "outputs": [],
   "source": [
    "y = sm.symbols(\"y_t\")\n",
    "k = sm.symbols(\"k_t\")\n",
    "r = sm.symbols(\"r_t\")\n",
    "A = sm.symbols(\"A_t\")\n",
    "w = sm.symbols(\"w_t\")\n",
    "n = sm.symbols(\"n\")\n",
    "g = sm.symbols(\"g\")\n",
    "sK = sm.symbols(\"s_K\")\n",
    "sH = sm.symbols(\"s_H\")\n",
    "alpha = sm.symbols(\"alpha\")\n",
    "delta = sm.symbols(\"delta\")\n",
    "phi = sm.symbols(\"varphi\")\n",
    "ktilde = sm.symbols(\"ktilde_t\")\n",
    "htilde = sm.symbols(\"htilde_t\")\n",
    "ytilde = sm.symbols(\"ytilde_t\")\n",
    "htilde1 = sm.symbols(\"htilde_t+1\")\n",
    "ktildestar = sm.symbols(\"ktilde^*\")\n",
    "htildestar = sm.symbols(\"htilde^*\")\n",
    "ytildestar = sm.symbols(\"ytilde^*\")\n",
    "ystar = sm.symbols(\"y^*\")"
   ]
  },
  {
   "cell_type": "markdown",
   "metadata": {},
   "source": [
    "## Solving for steady state"
   ]
  },
  {
   "cell_type": "code",
   "execution_count": 188,
   "metadata": {},
   "outputs": [
    {
     "name": "stdout",
     "output_type": "stream",
     "text": [
      "First derivative is:\n"
     ]
    },
    {
     "data": {
      "image/png": "[encoded data removed]",
      "text/latex": [
       "$$\\delta + 1 + \\frac{\\tilde{h}_{t}^{\\varphi} \\tilde{k}_{t}^{\\alpha} s_{H} \\varphi}{\\tilde{h}_{t}}$$"
      ],
      "text/plain": [
       "           varphi    α           \n",
       "        h̃ₜ      ⋅k̃ₜ ⋅s_H⋅varphi\n",
       "δ + 1 + ─────────────────────────\n",
       "                   h̃ₜ           "
      ]
     },
     "execution_count": 188,
     "metadata": {},
     "output_type": "execute_result"
    }
   ],
   "source": [
    "eq5 = sm.Eq(htilde1 - htilde, delta*htilde + sH*ktilde**alpha*htilde**phi)\n",
    "eq5s = sm.solve(eq5, htilde1)[0]\n",
    "print('First derivative is:') \n",
    "sm.simplify(sm.diff(eq5s, htilde))"
   ]
  },
  {
   "cell_type": "code",
   "execution_count": 169,
   "metadata": {},
   "outputs": [],
   "source": [
    "dif5 = sm.diff(eq5s, htilde)"
   ]
  },
  {
   "cell_type": "code",
   "execution_count": 177,
   "metadata": {},
   "outputs": [
    {
     "data": {
      "image/png": "[encoded data removed]",
      "text/latex": [
       "$$\\tilde{h}_{t}^{\\varphi - 2} \\tilde{k}_{t}^{\\alpha} s_{H} \\varphi \\left(\\varphi - 1\\right)$$"
      ],
      "text/plain": [
       "   varphi - 2    α                        \n",
       "h̃ₜ          ⋅k̃ₜ ⋅s_H⋅varphi⋅(varphi - 1)"
      ]
     },
     "execution_count": 177,
     "metadata": {},
     "output_type": "execute_result"
    }
   ],
   "source": [
    "diff5 = sm.simplify(sm.diff(dif5, htilde))\n",
    "diff5"
   ]
  },
  {
   "cell_type": "markdown",
   "metadata": {},
   "source": [
    "Checking that we get the symbols as wished:"
   ]
  },
  {
   "cell_type": "code",
   "execution_count": 5,
   "metadata": {},
   "outputs": [
    {
     "data": {
      "image/png": "[encoded data removed]",
      "text/latex": [
       "$$\\left ( y_{t}, \\quad k_{t}, \\quad r_{t}, \\quad A_{t}, \\quad w_{t}, \\quad n, \\quad g, \\quad s_{K}, \\quad s_{H}, \\quad \\alpha, \\quad \\delta, \\quad \\varphi, \\quad \\tilde{k}_{t}, \\quad \\tilde{h}_{t}, \\quad \\tilde{y}_{t}\\right )$$"
      ],
      "text/plain": [
       "(yₜ, kₜ, rₜ, Aₜ, wₜ, n, g, s_K, s_H, α, δ, varphi, k̃ₜ, h̃ₜ, ỹₜ)"
      ]
     },
     "execution_count": 5,
     "metadata": {},
     "output_type": "execute_result"
    }
   ],
   "source": [
    "y, k, r, A, w, n, g, sK, sH, alpha, delta, phi, ktilde, htilde, ytilde"
   ]
  },
  {
   "cell_type": "markdown",
   "metadata": {},
   "source": [
    "We will now find the steady state values for variables $\\tilde{k^*}, \\tilde{h^*}$ and $\\tilde{y^*}$ by solving the following equations:"
   ]
  },
  {
   "cell_type": "markdown",
   "metadata": {},
   "source": [
    "\\begin{equation}\n",
    "\\tilde{k}_{t+1} - \\tilde{k}_t = \\frac{1}{(1+n)(1+g)}(s_K \\tilde{k}_t^{\\alpha} \\tilde{h}_t^{\\varphi} - (n+g+\\delta +ng)\\tilde{k}_t)\n",
    "\\end{equation}\n",
    "\\begin{equation}\n",
    "\\tilde{h}_{t+1} - \\tilde{h}_t = \\frac{1}{(1+n)(1+g)}(s_H \\tilde{k}_t^{\\alpha} \\tilde{h}_t^{\\varphi} - (n+g+\\delta +ng)\\tilde{h}_t)\n",
    "\\end{equation}"
   ]
  },
  {
   "cell_type": "markdown",
   "metadata": {},
   "source": [
    "First we make variables which transform $\\tilde{h}_t$ into a function og $\\tilde{k}_t$ and vice verca:"
   ]
  },
  {
   "cell_type": "code",
   "execution_count": 6,
   "metadata": {},
   "outputs": [],
   "source": [
    "ktildealpha = ktilde**alpha\n",
    "htildephi = htilde**phi\n",
    "htok = (sH/sK)*ktilde\n",
    "htokphi = ((sH/sK)*ktilde)**phi\n",
    "ktoh = (sK/sH)*htilde\n",
    "ktohalpha = ((sK/sH)*htilde)**alpha"
   ]
  },
  {
   "cell_type": "markdown",
   "metadata": {},
   "source": [
    "We set up the equation to solve for $\\tilde{h}_{t+1} = \\tilde{h}_t = \\tilde{h}^*$:"
   ]
  },
  {
   "cell_type": "code",
   "execution_count": 7,
   "metadata": {},
   "outputs": [
    {
     "data": {
      "image/png": "[encoded data removed]",
      "text/latex": [
       "$$- \\tilde{h}_{t} \\left(\\delta + g n + g + n\\right) + \\tilde{h}_{t}^{\\varphi} \\tilde{k}_{t}^{\\alpha} s_{H} = 0$$"
      ],
      "text/plain": [
       "                            varphi    α        \n",
       "-h̃ₜ⋅(δ + g⋅n + g + n) + h̃ₜ      ⋅k̃ₜ ⋅s_H = 0"
      ]
     },
     "execution_count": 7,
     "metadata": {},
     "output_type": "execute_result"
    }
   ],
   "source": [
    "eq = sm.Eq(sH*ktildealpha*htildephi - (n+g+delta+n*g)*htilde)\n",
    "eq"
   ]
  },
  {
   "cell_type": "markdown",
   "metadata": {},
   "source": [
    "Then we solve it for $\\tilde{h}_t$:"
   ]
  },
  {
   "cell_type": "code",
   "execution_count": 8,
   "metadata": {},
   "outputs": [
    {
     "data": {
      "image/png": "[encoded data removed]",
      "text/latex": [
       "$$\\left(\\frac{\\tilde{k}_{t}^{- \\alpha} \\left(\\delta + g n + g + n\\right)}{s_{H}}\\right)^{\\frac{1}{\\varphi - 1}}$$"
      ],
      "text/plain": [
       "                             1     \n",
       "                         ──────────\n",
       "                         varphi - 1\n",
       "⎛   -α                  ⎞          \n",
       "⎜k̃ₜ  ⋅(δ + g⋅n + g + n)⎟          \n",
       "⎜───────────────────────⎟          \n",
       "⎝          s_H          ⎠          "
      ]
     },
     "execution_count": 8,
     "metadata": {},
     "output_type": "execute_result"
    }
   ],
   "source": [
    "hisolated = sm.solve(eq,htilde)[0]\n",
    "hisolated"
   ]
  },
  {
   "cell_type": "markdown",
   "metadata": {},
   "source": [
    "Now we insert the transformed $\\tilde{h}_t$:"
   ]
  },
  {
   "cell_type": "code",
   "execution_count": 9,
   "metadata": {},
   "outputs": [
    {
     "data": {
      "image/png": "[encoded data removed]",
      "text/latex": [
       "$$\\tilde{h}_{t} = \\left(\\frac{\\left(\\frac{\\tilde{h}_{t} s_{K}}{s_{H}}\\right)^{- \\alpha} \\left(\\delta + g n + g + n\\right)}{s_{H}}\\right)^{\\frac{1}{\\varphi - 1}}$$"
      ],
      "text/plain": [
       "                                         1     \n",
       "                                     ──────────\n",
       "                                     varphi - 1\n",
       "      ⎛         -α                  ⎞          \n",
       "      ⎜⎛h̃ₜ⋅s_K⎞                    ⎟          \n",
       "      ⎜⎜───────⎟  ⋅(δ + g⋅n + g + n)⎟          \n",
       "      ⎜⎝  s_H  ⎠                    ⎟          \n",
       "h̃ₜ = ⎜─────────────────────────────⎟          \n",
       "      ⎝             s_H             ⎠          "
      ]
     },
     "execution_count": 9,
     "metadata": {},
     "output_type": "execute_result"
    }
   ],
   "source": [
    "htildefinal = sm.Eq(htilde , ((ktoh**(-alpha)*(delta+n*g+g+n)/sH)**(1/(phi-1))))\n",
    "htildefinal"
   ]
  },
  {
   "cell_type": "markdown",
   "metadata": {},
   "source": [
    "And solve for the steady state:"
   ]
  },
  {
   "cell_type": "code",
   "execution_count": 10,
   "metadata": {},
   "outputs": [
    {
     "name": "stdout",
     "output_type": "stream",
     "text": [
      "We find that the steady state value for htilde is:\n"
     ]
    },
    {
     "data": {
      "image/png": "[encoded data removed]",
      "text/latex": [
       "$$\\tilde{h}^{*} = s_{K}^{- \\frac{\\alpha}{\\alpha + \\varphi - 1}} \\left(s_{H}^{\\alpha - 1} \\left(\\delta + g n + g + n\\right)\\right)^{\\frac{1}{\\alpha + \\varphi - 1}}$$"
      ],
      "text/plain": [
       "                                                            1       \n",
       "                -α                                    ──────────────\n",
       "           ──────────────                             α + varphi - 1\n",
       "           α + varphi - 1 ⎛   α - 1                  ⎞              \n",
       "h̃__* = s_K              ⋅⎝s_H     ⋅(δ + g⋅n + g + n)⎠              "
      ]
     },
     "execution_count": 10,
     "metadata": {},
     "output_type": "execute_result"
    }
   ],
   "source": [
    "hsteady = sm.solve(htildefinal,htilde)[0]\n",
    "print('We find that the steady state value for htilde is:')\n",
    "sm.Eq(htildestar, hsteady)"
   ]
  },
  {
   "cell_type": "markdown",
   "metadata": {},
   "source": [
    "We now do the same for $\\tilde{k}_t$:"
   ]
  },
  {
   "cell_type": "code",
   "execution_count": 11,
   "metadata": {},
   "outputs": [
    {
     "data": {
      "image/png": "[encoded data removed]",
      "text/latex": [
       "$$\\tilde{h}_{t}^{\\varphi} \\tilde{k}_{t}^{\\alpha} s_{K} - \\tilde{k}_{t} \\left(\\delta + g n + g + n\\right) = 0$$"
      ],
      "text/plain": [
       "   varphi    α                                \n",
       "h̃ₜ      ⋅k̃ₜ ⋅s_K - k̃ₜ⋅(δ + g⋅n + g + n) = 0"
      ]
     },
     "execution_count": 11,
     "metadata": {},
     "output_type": "execute_result"
    }
   ],
   "source": [
    "eq2 = sm.Eq(sK*ktildealpha*htildephi - (n+g+delta+n*g)*ktilde)\n",
    "eq2"
   ]
  },
  {
   "cell_type": "code",
   "execution_count": 12,
   "metadata": {},
   "outputs": [
    {
     "data": {
      "image/png": "[encoded data removed]",
      "text/latex": [
       "$$\\left(\\frac{\\tilde{h}_{t}^{- \\varphi} \\left(\\delta + g n + g + n\\right)}{s_{K}}\\right)^{\\frac{1}{\\alpha - 1}}$$"
      ],
      "text/plain": [
       "                                1  \n",
       "                              ─────\n",
       "                              α - 1\n",
       "⎛   -varphi                  ⎞     \n",
       "⎜h̃ₜ       ⋅(δ + g⋅n + g + n)⎟     \n",
       "⎜────────────────────────────⎟     \n",
       "⎝            s_K             ⎠     "
      ]
     },
     "execution_count": 12,
     "metadata": {},
     "output_type": "execute_result"
    }
   ],
   "source": [
    "kisolated = sm.solve(eq2,ktilde)[0]\n",
    "kisolated"
   ]
  },
  {
   "cell_type": "code",
   "execution_count": 13,
   "metadata": {},
   "outputs": [
    {
     "data": {
      "image/png": "[encoded data removed]",
      "text/latex": [
       "$$\\tilde{k}_{t} = \\left(\\frac{\\left(\\frac{\\tilde{k}_{t} s_{H}}{s_{K}}\\right)^{- \\varphi} \\left(\\delta + g n + g + n\\right)}{s_{K}}\\right)^{\\frac{1}{\\alpha - 1}}$$"
      ],
      "text/plain": [
       "                                            1  \n",
       "                                          ─────\n",
       "                                          α - 1\n",
       "      ⎛         -varphi                  ⎞     \n",
       "      ⎜⎛k̃ₜ⋅s_H⎞                         ⎟     \n",
       "      ⎜⎜───────⎟       ⋅(δ + g⋅n + g + n)⎟     \n",
       "      ⎜⎝  s_K  ⎠                         ⎟     \n",
       "k̃ₜ = ⎜──────────────────────────────────⎟     \n",
       "      ⎝               s_K                ⎠     "
      ]
     },
     "execution_count": 13,
     "metadata": {},
     "output_type": "execute_result"
    }
   ],
   "source": [
    "ktildefinal = sm.Eq(ktilde, ((htok**(-phi)*(delta+n*g+g+n)/sK)**(1/(alpha-1))))\n",
    "ktildefinal"
   ]
  },
  {
   "cell_type": "code",
   "execution_count": 14,
   "metadata": {},
   "outputs": [
    {
     "name": "stdout",
     "output_type": "stream",
     "text": [
      "We finde that the steady state value for ktilde is:\n"
     ]
    },
    {
     "data": {
      "image/png": "[encoded data removed]",
      "text/latex": [
       "$$\\tilde{k}^{*} = s_{H}^{- \\frac{\\varphi}{\\alpha + \\varphi - 1}} \\left(s_{K}^{\\varphi - 1} \\left(\\delta + g n + g + n\\right)\\right)^{\\frac{1}{\\alpha + \\varphi - 1}}$$"
      ],
      "text/plain": [
       "                                                                 1       \n",
       "              -varphi                                      ──────────────\n",
       "           ──────────────                                  α + varphi - 1\n",
       "           α + varphi - 1 ⎛   varphi - 1                  ⎞              \n",
       "k̃__* = s_H              ⋅⎝s_K          ⋅(δ + g⋅n + g + n)⎠              "
      ]
     },
     "execution_count": 14,
     "metadata": {},
     "output_type": "execute_result"
    }
   ],
   "source": [
    "ksteady = sm.solve(ktildefinal,ktilde)[0]\n",
    "print('We finde that the steady state value for ktilde is:')\n",
    "sm.Eq(ktildestar, ksteady)"
   ]
  },
  {
   "cell_type": "markdown",
   "metadata": {},
   "source": [
    "Now we can plot this into $\\tilde{y}^*$:"
   ]
  },
  {
   "cell_type": "code",
   "execution_count": 15,
   "metadata": {},
   "outputs": [
    {
     "data": {
      "image/png": "[encoded data removed]",
      "text/latex": [
       "$$\\tilde{y}^{*} = \\left(s_{H}^{- \\frac{\\varphi}{\\alpha + \\varphi - 1}} \\left(s_{K}^{\\varphi - 1} \\left(\\delta + g n + g + n\\right)\\right)^{\\frac{1}{\\alpha + \\varphi - 1}}\\right)^{\\alpha} \\left(s_{K}^{- \\frac{\\alpha}{\\alpha + \\varphi - 1}} \\left(s_{H}^{\\alpha - 1} \\left(\\delta + g n + g + n\\right)\\right)^{\\frac{1}{\\alpha + \\varphi - 1}}\\right)^{\\varphi}$$"
      ],
      "text/plain": [
       "                                                                           α  \n",
       "        ⎛                                                         1       ⎞  ⎛\n",
       "        ⎜      -varphi                                      ──────────────⎟  ⎜\n",
       "        ⎜   ──────────────                                  α + varphi - 1⎟  ⎜\n",
       "        ⎜   α + varphi - 1 ⎛   varphi - 1                  ⎞              ⎟  ⎜\n",
       "ỹ__* = ⎝s_H              ⋅⎝s_K          ⋅(δ + g⋅n + g + n)⎠              ⎠ ⋅⎝\n",
       "\n",
       "                                                             varphi\n",
       "                                                    1       ⎞      \n",
       "        -α                                    ──────────────⎟      \n",
       "   ──────────────                             α + varphi - 1⎟      \n",
       "   α + varphi - 1 ⎛   α - 1                  ⎞              ⎟      \n",
       "s_K              ⋅⎝s_H     ⋅(δ + g⋅n + g + n)⎠              ⎠      "
      ]
     },
     "execution_count": 15,
     "metadata": {},
     "output_type": "execute_result"
    }
   ],
   "source": [
    "yfinal = sm.Eq(ytildestar, ksteady**alpha * hsteady**phi)\n",
    "ysteady = sm.solve(yfinal, ytildestar)[0]\n",
    "yfinal"
   ]
  },
  {
   "cell_type": "markdown",
   "metadata": {},
   "source": [
    "We now get that the BNP per capita in steady state must be:"
   ]
  },
  {
   "cell_type": "code",
   "execution_count": 16,
   "metadata": {},
   "outputs": [
    {
     "data": {
      "image/png": "[encoded data removed]",
      "text/latex": [
       "$$y^{*} = A_{t} \\left(s_{H}^{- \\frac{\\varphi}{\\alpha + \\varphi - 1}} \\left(s_{K}^{\\varphi - 1} \\left(\\delta + g n + g + n\\right)\\right)^{\\frac{1}{\\alpha + \\varphi - 1}}\\right)^{\\alpha} \\left(s_{K}^{- \\frac{\\alpha}{\\alpha + \\varphi - 1}} \\left(s_{H}^{\\alpha - 1} \\left(\\delta + g n + g + n\\right)\\right)^{\\frac{1}{\\alpha + \\varphi - 1}}\\right)^{\\varphi}$$"
      ],
      "text/plain": [
       "                                                                             α\n",
       "          ⎛                                                         1       ⎞ \n",
       "          ⎜      -varphi                                      ──────────────⎟ \n",
       "          ⎜   ──────────────                                  α + varphi - 1⎟ \n",
       "          ⎜   α + varphi - 1 ⎛   varphi - 1                  ⎞              ⎟ \n",
       "y__* = Aₜ⋅⎝s_H              ⋅⎝s_K          ⋅(δ + g⋅n + g + n)⎠              ⎠ \n",
       "\n",
       "                                                               varphi\n",
       " ⎛                                                    1       ⎞      \n",
       " ⎜        -α                                    ──────────────⎟      \n",
       " ⎜   ──────────────                             α + varphi - 1⎟      \n",
       " ⎜   α + varphi - 1 ⎛   α - 1                  ⎞              ⎟      \n",
       "⋅⎝s_K              ⋅⎝s_H     ⋅(δ + g⋅n + g + n)⎠              ⎠      "
      ]
     },
     "execution_count": 16,
     "metadata": {},
     "output_type": "execute_result"
    }
   ],
   "source": [
    "sm.Eq(ystar, A*ysteady)"
   ]
  },
  {
   "cell_type": "markdown",
   "metadata": {},
   "source": [
    " "
   ]
  },
  {
   "cell_type": "markdown",
   "metadata": {},
   "source": [
    "We can now create functions which gives us the steady state values for each parameter:"
   ]
  },
  {
   "cell_type": "code",
   "execution_count": 132,
   "metadata": {},
   "outputs": [],
   "source": [
    "ss_h = sm.lambdify((sK, sH, n, g, delta, alpha, phi), hsteady)\n",
    "ss_k = sm.lambdify((sK, sH, n, g, delta, alpha, phi), ksteady)\n",
    "ss_y = sm.lambdify((sK, sH, n, g, delta, alpha, phi), ysteady)\n",
    "def steady_states(sK, sH, n, g, delta, alpha, phi):\n",
    "    \n",
    "    \"\"\"Returns the steady state value for human capital per effective worker.\n",
    "    Args:\n",
    "    sK: investments in physical income\n",
    "    sH: investments in human capital\n",
    "    n: increase in labour\n",
    "    g: increase in technology\n",
    "    delta: the depreciation rate\n",
    "    alpha: return on physical capital\n",
    "    phi: return on human capital\n",
    "    \n",
    "    Returns:\n",
    "    Steady state values for h, k and y\"\"\"\n",
    "    \n",
    "    return print(f'Steady state for h is {ss_h(sK, sH, n, g, delta, alpha, phi):0.2f}'), print(f'Steady state for k is {ss_k(sK, sH, n, g, delta, alpha, phi):0.2f}'), print(f'Steady state for BNP per worker is {ss_y(sK, sH, n, g, delta, alpha, phi):0.2f}')"
   ]
  },
  {
   "cell_type": "code",
   "execution_count": 133,
   "metadata": {},
   "outputs": [
    {
     "name": "stdout",
     "output_type": "stream",
     "text": [
      "Steady state for h is 123.14\n",
      "Steady state for k is 123.14\n",
      "Steady state for BNP per worker is 24.75\n"
     ]
    },
    {
     "data": {
      "text/plain": [
       "(None, None, None)"
      ]
     },
     "execution_count": 133,
     "metadata": {},
     "output_type": "execute_result"
    }
   ],
   "source": [
    "steady_states(0.2,0.2,0.01,0.02,0.01,1/3,1/3)"
   ]
  },
  {
   "cell_type": "markdown",
   "metadata": {},
   "source": [
    "# Simulation"
   ]
  },
  {
   "cell_type": "code",
   "execution_count": 194,
   "metadata": {},
   "outputs": [],
   "source": [
    "def simulate(htilde,ktilde,alpha,phi,delta,sK,sH,n,g,T):\n",
    "    \"\"\"\n",
    "    Args:\n",
    "    htilde: initial value for human capital per effective worker\n",
    "    ktilde: initial value for physical capital per effective worker\n",
    "    alpha: return on physical capital\n",
    "    phi: return on human capital\n",
    "    delta: depreciation rate\n",
    "    sK: investments in physical income\n",
    "    sH: investments in human capital\n",
    "    n: increase in labour\n",
    "    g: increase in technology\n",
    "    T: periods to simulate through\n",
    "    \n",
    "    Returns:\n",
    "    A plot showing how the capital accumulates over time\n",
    "    \"\"\"\n",
    "    #Make an empty list for all our future values\n",
    "    h_path = [htilde]\n",
    "    k_path = [ktilde]\n",
    "    \n",
    "    #Adding numbers to the list using equation (5) where htilde is isolated\n",
    "    for t in range(1,T):\n",
    "        ktilde = t\n",
    "        h_next = ((ktilde**(-alpha)*(delta+n*g+n+g))/sH)**(1/(phi-1))\n",
    "        h_path.append(h_next)\n",
    "    \n",
    "    #Adding numbers to the list using equation (4) where htilde i isolated\n",
    "    for t in range(1,T):\n",
    "        ktilde = t\n",
    "        k_next = ((ktilde**(-alpha+1)*(delta+n*g+n+g))/sK)**(1/(phi))\n",
    "        k_path.append(k_next)\n",
    "    \n",
    "    #Plotting it all\n",
    "    plt.figure(figsize=(5,5))\n",
    "    plt.plot(h_path[:T], label='$\\Delta \\~{h} = 0$')\n",
    "    plt.plot(k_path[:T], label='$\\Delta \\~{k} = 0$')\n",
    "    plt.xlim(0,T)\n",
    "    plt.ylim(0,T)\n",
    "    plt.xlabel('$\\~{k}$')\n",
    "    plt.ylabel('$\\~{h}$')\n",
    "    plt.grid(True)\n",
    "    plt.legend()\n",
    "    \n",
    "    return plt.show(), print(steady_states(sK, sH, n, g, delta, alpha, phi))"
   ]
  },
  {
   "cell_type": "code",
   "execution_count": 190,
   "metadata": {},
   "outputs": [
    {
     "data": {
      "image/png": "[encoded data removed]",
      "text/plain": [
       "<Figure size 360x360 with 1 Axes>"
      ]
     },
     "metadata": {
      "needs_background": "light"
     },
     "output_type": "display_data"
    },
    {
     "name": "stdout",
     "output_type": "stream",
     "text": [
      "Steady state for h is 123.14\n",
      "Steady state for k is 123.14\n",
      "Steady state for BNP per worker is 24.75\n",
      "(None, None, None)\n"
     ]
    },
    {
     "data": {
      "text/plain": [
       "(None, None)"
      ]
     },
     "execution_count": 190,
     "metadata": {},
     "output_type": "execute_result"
    }
   ],
   "source": [
    "simulate(0,0,1/3,1/3,0.01,0.2,0.2,0.01,0.02,200)"
   ]
  },
  {
   "cell_type": "code",
   "execution_count": 192,
   "metadata": {},
   "outputs": [
    {
     "data": {
      "application/vnd.jupyter.widget-view+json": {
       "model_id": "8793f7a142b94075a36692a9ef2bdcb9",
       "version_major": 2,
       "version_minor": 0
      },
      "text/plain": [
       "interactive(children=(FloatSlider(value=0.3, description='$alpha$', max=0.5, step=0.05), FloatSlider(value=0.3…"
      ]
     },
     "metadata": {},
     "output_type": "display_data"
    },
    {
     "data": {
      "text/plain": [
       "<function __main__.simulate(htilde, ktilde, alpha, phi, delta, sK, sH, n, g, T)>"
      ]
     },
     "execution_count": 192,
     "metadata": {},
     "output_type": "execute_result"
    }
   ],
   "source": [
    "widgets.interact(simulate, \n",
    "                 htilde = widgets.fixed(0), \n",
    "                 ktilde = widgets.fixed(0), \n",
    "                 alpha = widgets.FloatSlider(description='$alpha$', min=0, max=0.5, step=0.05, value=0.3),\n",
    "                 phi = widgets.FloatSlider(description='$phi$', min=0, max=0.5, step=0.05, value=0.3), \n",
    "                 delta = widgets.FloatSlider(description='$delta$', min=0.01, max=0.1, step=0.01, value=0.01), \n",
    "                 sK = widgets.FloatSlider(description='$s_K$', min=0.1, max=0.4, step=0.01, value=0.2), \n",
    "                 sH = widgets.FloatSlider(description='$s_H$', min=0.1, max=0.4, step=0.01, value=0.2),\n",
    "                 n = widgets.FloatSlider(description='$n$', min=0.01, max=0.1, step=0.005, value=0.01), \n",
    "                 g = widgets.FloatSlider(description='$g$', min=0.01, max=0.1, step=0.005, value=0.02), \n",
    "                 T = widgets.IntSlider(description='$T$', min=1, max=500, step=10, value=100))"
   ]
  },
  {
   "cell_type": "markdown",
   "metadata": {},
   "source": []
  },
  {
   "cell_type": "markdown",
   "metadata": {},
   "source": [
    "# We wil now analyze an extention of the Solow model with human capital"
   ]
  }
 ],
 "metadata": {
  "kernelspec": {
   "display_name": "Python 3",
   "language": "python",
   "name": "python3"
  },
  "language_info": {
   "codemirror_mode": {
    "name": "ipython",
    "version": 3
   },
   "file_extension": ".py",
   "mimetype": "text/x-python",
   "name": "python",
   "nbconvert_exporter": "python",
   "pygments_lexer": "ipython3",
   "version": "3.7.1"
  }
 },
 "nbformat": 4,
 "nbformat_minor": 2
}
