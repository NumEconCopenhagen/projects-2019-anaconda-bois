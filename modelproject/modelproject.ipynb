{
 "cells": [
  {
   "cell_type": "code",
   "execution_count": 1,
   "metadata": {},
   "outputs": [
    {
     "name": "stdout",
     "output_type": "stream",
     "text": [
      "The autoreload extension is already loaded. To reload it, use:\n",
      "  %reload_ext autoreload\n"
     ]
    }
   ],
   "source": [
    "%load_ext autoreload\n",
    "%autoreload 2\n",
    "# You can load your python module as this:\n",
    "import modelproject.example"
   ]
  },
  {
   "cell_type": "code",
   "execution_count": 7,
   "metadata": {},
   "outputs": [],
   "source": [
    "from scipy import linalg\n",
    "from scipy import optimize\n",
    "import sympy as sm"
   ]
  },
  {
   "cell_type": "code",
   "execution_count": 10,
   "metadata": {},
   "outputs": [],
   "source": [
    "sm.init_printing(use_unicode=True)"
   ]
  },
  {
   "cell_type": "markdown",
   "metadata": {},
   "source": [
    "The Solow model with human capital is as follows:"
   ]
  },
  {
   "cell_type": "markdown",
   "metadata": {},
   "source": [
    "\\begin{equation}\n",
    "Y_t = K_t^{\\alpha}H_t^{\\varphi}(A_tL_t)^{1-\\alpha -\\varphi} \\tag{1} \\\\\n",
    "\\end{equation}\n",
    "\\begin{equation}\n",
    "r_t = \\alpha \\left(\\frac{K_t}{A_t L_t}\\right)^{\\alpha -1} \\left(\\frac{H_t}{A_t L_t}\\right)^{\\varphi} \\tag{2}\n",
    "\\end{equation}\n",
    "\\begin{equation}\n",
    "w_t = (1-\\alpha) \\left(\\frac{K_t}{A_tL_t}\\right)^{\\alpha} \\left(\\frac{H_t}{A_tL_t}\\right)^{\\varphi}A_t \\tag{3}\n",
    "\\end{equation}\n",
    "\\begin{equation}\n",
    "K_{t+1}-K_t = s_K Y_t - \\delta K_t \\quad , \\quad K_0 \\text{ given} \\tag{4}\n",
    "\\end{equation}\n",
    "\\begin{equation}\n",
    "H_{t+1}-H_t = s_H Y_t -\\delta H_t \\quad , \\quad H_0 \\text{ given} \\tag{5}\n",
    "\\end{equation}\n",
    "\\begin{equation}\n",
    "L_{t+1} = (1+n)L_t \\quad , \\quad L_0 \\text{ given} \\tag{6}\n",
    "\\end{equation}\n",
    "\\begin{equation}\n",
    "A_{t+1} = (1+g)A_t \\quad , \\quad A_0 \\text{ given} \\tag{7}\n",
    "\\end{equation}"
   ]
  },
  {
   "cell_type": "markdown",
   "metadata": {},
   "source": [
    "We also define the following equations:\n",
    "\\begin{equation}\n",
    "\\text{Physical capital per effective worker}: \\quad \\tilde{k_t} = \\frac{K_t}{A_tL_t}\n",
    "\\end{equation}\n",
    "\\begin{equation}\n",
    "\\text{Human capital per effective worker}: \\quad \\tilde{h_t} = \\frac{H_t}{A_tL_t}\n",
    "\\end{equation}\n",
    "\\begin{equation}\n",
    "\\text{Output per effective worker}: \\quad \\tilde{y_t} = \\frac{Y_t}{A_tL_t}\n",
    "\\end{equation}\n",
    "\\begin{equation}\n",
    "\\tilde{y_t} = \\tilde{k_t}^{\\alpha} \\tilde{h_t}^{\\alpha}\n",
    "\\end{equation}"
   ]
  },
  {
   "cell_type": "markdown",
   "metadata": {},
   "source": [
    "Defining all the things as symbols sp we can use sympy:"
   ]
  },
  {
   "cell_type": "code",
   "execution_count": 25,
   "metadata": {},
   "outputs": [],
   "source": [
    "y = sm.symbols(\"y_t\")\n",
    "k = sm.symbols(\"k_t\")\n",
    "r = sm.symbols(\"r_t\")\n",
    "A = sm.symbols(\"A_t\")\n",
    "w = sm.symbols(\"w_t\")\n",
    "alpha = sm.symbols(\"alpha\")\n",
    "phi = sm.symbols(\"varphi\")\n",
    "ktilde = sm.symbols(\"ktilde\")\n",
    "htilde = sm.symbols(\"htilde\")\n",
    "ytilde = sm.symbols(\"ytilde\")"
   ]
  },
  {
   "cell_type": "code",
   "execution_count": 28,
   "metadata": {},
   "outputs": [
    {
     "data": {
      "image/png": "[encoded data removed]",
      "text/latex": [
       "$$\\left ( y_{t}, \\quad k_{t}, \\quad r_{t}, \\quad A_{t}, \\quad w_{t}, \\quad \\alpha, \\quad \\varphi, \\quad \\tilde{k}, \\quad \\tilde{h}, \\quad \\tilde{y}\\right )$$"
      ],
      "text/plain": [
       "(yₜ, kₜ, rₜ, Aₜ, wₜ, α, varphi, k̃, h̃, ỹ)"
      ]
     },
     "execution_count": 28,
     "metadata": {},
     "output_type": "execute_result"
    }
   ],
   "source": [
    "y, k, r, A, w, alpha, phi, ktilde, htilde, ytilde"
   ]
  },
  {
   "cell_type": "code",
   "execution_count": 5,
   "metadata": {},
   "outputs": [
    {
     "ename": "SyntaxError",
     "evalue": "invalid syntax (<ipython-input-5-daa8980e62fa>, line 1)",
     "output_type": "error",
     "traceback": [
      "\u001b[1;36m  File \u001b[1;32m\"<ipython-input-5-daa8980e62fa>\"\u001b[1;36m, line \u001b[1;32m1\u001b[0m\n\u001b[1;33m    Hej Jacob\u001b[0m\n\u001b[1;37m            ^\u001b[0m\n\u001b[1;31mSyntaxError\u001b[0m\u001b[1;31m:\u001b[0m invalid syntax\n"
     ]
    }
   ],
   "source": [
    "Hej Jacob"
   ]
  }
 ],
 "metadata": {
  "kernelspec": {
   "display_name": "Python 3",
   "language": "python",
   "name": "python3"
  },
  "language_info": {
   "codemirror_mode": {
    "name": "ipython",
    "version": 3
   },
   "file_extension": ".py",
   "mimetype": "text/x-python",
   "name": "python",
   "nbconvert_exporter": "python",
   "pygments_lexer": "ipython3",
   "version": "3.7.1"
  }
 },
 "nbformat": 4,
 "nbformat_minor": 2
}
