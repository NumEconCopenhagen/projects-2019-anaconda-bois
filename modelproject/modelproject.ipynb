{
 "cells": [
  {
   "cell_type": "code",
   "execution_count": 1,
   "metadata": {},
   "outputs": [
    {
     "name": "stdout",
     "output_type": "stream",
     "text": [
      "The autoreload extension is already loaded. To reload it, use:\n",
      "  %reload_ext autoreload\n"
     ]
    }
   ],
   "source": [
    "%load_ext autoreload\n",
    "%autoreload 2\n",
    "# You can load your python module as this:\n",
    "import modelproject.example"
   ]
  },
  {
   "cell_type": "code",
   "execution_count": 7,
   "metadata": {},
   "outputs": [],
   "source": [
    "from scipy import linalg\n",
    "from scipy import optimize\n",
    "import sympy as sm"
   ]
  },
  {
   "cell_type": "markdown",
   "metadata": {},
   "source": [
    "To print nicely:"
   ]
  },
  {
   "cell_type": "code",
   "execution_count": 10,
   "metadata": {},
   "outputs": [],
   "source": [
    "sm.init_printing(use_unicode=True)"
   ]
  },
  {
   "cell_type": "markdown",
   "metadata": {},
   "source": [
    "The Solow model with human capital is as follows:"
   ]
  },
  {
   "cell_type": "markdown",
   "metadata": {},
   "source": [
    "\\begin{equation}\n",
    "Y_t = K_t^{\\alpha}H_t^{\\varphi}(A_tL_t)^{1-\\alpha -\\varphi} \\tag{1} \\\\\n",
    "\\end{equation}\n",
    "\\begin{equation}\n",
    "r_t = \\alpha \\left(\\frac{K_t}{A_t L_t}\\right)^{\\alpha -1} \\left(\\frac{H_t}{A_t L_t}\\right)^{\\varphi} \\tag{2}\n",
    "\\end{equation}\n",
    "\\begin{equation}\n",
    "w_t = (1-\\alpha) \\left(\\frac{K_t}{A_tL_t}\\right)^{\\alpha} \\left(\\frac{H_t}{A_tL_t}\\right)^{\\varphi}A_t \\tag{3}\n",
    "\\end{equation}\n",
    "\\begin{equation}\n",
    "K_{t+1}-K_t = s_K Y_t - \\delta K_t \\quad , \\quad K_0 \\text{ given} \\tag{4}\n",
    "\\end{equation}\n",
    "\\begin{equation}\n",
    "H_{t+1}-H_t = s_H Y_t -\\delta H_t \\quad , \\quad H_0 \\text{ given} \\tag{5}\n",
    "\\end{equation}\n",
    "\\begin{equation}\n",
    "L_{t+1} = (1+n)L_t \\quad , \\quad L_0 \\text{ given} \\tag{6}\n",
    "\\end{equation}\n",
    "\\begin{equation}\n",
    "A_{t+1} = (1+g)A_t \\quad , \\quad A_0 \\text{ given} \\tag{7}\n",
    "\\end{equation}"
   ]
  },
  {
   "cell_type": "markdown",
   "metadata": {},
   "source": [
    "We also define the following equations:\n",
    "\\begin{equation}\n",
    "\\text{Physical capital per effective worker}: \\quad \\tilde{k_t} = \\frac{K_t}{A_tL_t}\n",
    "\\end{equation}\n",
    "\\begin{equation}\n",
    "\\text{Human capital per effective worker}: \\quad \\tilde{h_t} = \\frac{H_t}{A_tL_t}\n",
    "\\end{equation}\n",
    "\\begin{equation}\n",
    "\\text{Output per effective worker}: \\quad \\tilde{y_t} = \\frac{Y_t}{A_tL_t}\n",
    "\\end{equation}\n",
    "\\begin{equation}\n",
    "\\tilde{y_t} = \\tilde{k_t}^{\\alpha} \\tilde{h_t}^{\\varphi}\n",
    "\\end{equation}"
   ]
  },
  {
   "cell_type": "markdown",
   "metadata": {},
   "source": [
    "Defining all the things as symbols sp we can use sympy:"
   ]
  },
  {
   "cell_type": "code",
   "execution_count": 55,
   "metadata": {},
   "outputs": [],
   "source": [
    "y = sm.symbols(\"y_t\")\n",
    "k = sm.symbols(\"k_t\")\n",
    "r = sm.symbols(\"r_t\")\n",
    "A = sm.symbols(\"A_t\")\n",
    "w = sm.symbols(\"w_t\")\n",
    "n = sm.symbols(\"n\")\n",
    "g = sm.symbols(\"g\")\n",
    "sK = sm.symbols(\"s_K\")\n",
    "sH = sm.symbols(\"s_H\")\n",
    "alpha = sm.symbols(\"alpha\")\n",
    "delta = sm.symbols(\"delta\")\n",
    "phi = sm.symbols(\"varphi\")\n",
    "ktilde = sm.symbols(\"ktilde_t\")\n",
    "htilde = sm.symbols(\"htilde_t\")\n",
    "ytilde = sm.symbols(\"ytilde_t\")"
   ]
  },
  {
   "cell_type": "markdown",
   "metadata": {},
   "source": [
    "Testing that we get the symbols as wished:"
   ]
  },
  {
   "cell_type": "code",
   "execution_count": 57,
   "metadata": {},
   "outputs": [
    {
     "data": {
      "image/png": "[encoded data removed]",
      "text/latex": [
       "$$\\left ( y_{t}, \\quad k_{t}, \\quad r_{t}, \\quad A_{t}, \\quad w_{t}, \\quad n, \\quad g, \\quad s_{K}, \\quad s_{H}, \\quad \\alpha, \\quad \\delta, \\quad \\varphi, \\quad \\tilde{k}_{t}, \\quad \\tilde{h}_{t}, \\quad \\tilde{y}_{t}\\right )$$"
      ],
      "text/plain": [
       "(yₜ, kₜ, rₜ, Aₜ, wₜ, n, g, s_K, s_H, α, δ, varphi, k̃ₜ, h̃ₜ, ỹₜ)"
      ]
     },
     "execution_count": 57,
     "metadata": {},
     "output_type": "execute_result"
    }
   ],
   "source": [
    "y, k, r, A, w, n, g, sK, sH, alpha, delta, phi, ktilde, htilde, ytilde"
   ]
  },
  {
   "cell_type": "markdown",
   "metadata": {},
   "source": [
    "We will now find the steady state values for variables $\\tilde{k^*}, \\tilde{h^*}$ and $\\tilde{y^*}$ by solving the following equations:"
   ]
  },
  {
   "cell_type": "markdown",
   "metadata": {},
   "source": [
    "\\begin{equation}\n",
    "\\tilde{k}_{t+1} - \\tilde{k}_t = \\frac{1}{(1+n)(1+g)}(s_K \\tilde{k}_t^{\\alpha} \\tilde{h}_t^{\\varphi} - (n+g+\\delta +ng)\\tilde{k}_t)\n",
    "\\end{equation}\n",
    "\\begin{equation}\n",
    "\\tilde{h}_{t+1} - \\tilde{h}_t = \\frac{1}{(1+n)(1+g)}(s_H \\tilde{k}_t^{\\alpha} \\tilde{h}_t^{\\varphi} - (n+g+\\delta +ng)\\tilde{h}_t)\n",
    "\\end{equation}"
   ]
  },
  {
   "cell_type": "code",
   "execution_count": 83,
   "metadata": {},
   "outputs": [
    {
     "data": {
      "image/png": "[encoded data removed]",
      "text/latex": [
       "$$\\left(\\frac{\\tilde{h}_{t} s_{K}}{s_{H}}\\right)^{\\alpha}$$"
      ],
      "text/plain": [
       "         α\n",
       "⎛h̃ₜ⋅s_K⎞ \n",
       "⎜───────⎟ \n",
       "⎝  s_H  ⎠ "
      ]
     },
     "execution_count": 83,
     "metadata": {},
     "output_type": "execute_result"
    }
   ],
   "source": [
    "ktildealpha = ktilde**alpha\n",
    "htildephi = htilde**phi\n",
    "htok = (sH/sK)*ktilde\n",
    "htokphi = ((sH/sK)*ktilde)**phi\n",
    "ktoh = (sK/sH)*htilde\n",
    "ktohalpha = ((sK/sH)*htilde)**alpha\n",
    "ktohalpha"
   ]
  },
  {
   "cell_type": "code",
   "execution_count": 95,
   "metadata": {},
   "outputs": [
    {
     "data": {
      "image/png": "[encoded data removed]",
      "text/latex": [
       "$$- \\tilde{h}_{t} \\left(\\delta + g n + g + n\\right) + \\tilde{h}_{t}^{\\varphi} \\tilde{k}_{t}^{\\alpha} s_{H} = 0$$"
      ],
      "text/plain": [
       "                            varphi    α        \n",
       "-h̃ₜ⋅(δ + g⋅n + g + n) + h̃ₜ      ⋅k̃ₜ ⋅s_H = 0"
      ]
     },
     "execution_count": 95,
     "metadata": {},
     "output_type": "execute_result"
    }
   ],
   "source": [
    "eq = sm.Eq(sH*ktildealpha*htildephi - (n+g+delta+n*g)*htilde)\n",
    "eq"
   ]
  },
  {
   "cell_type": "code",
   "execution_count": 96,
   "metadata": {},
   "outputs": [
    {
     "data": {
      "image/png": "[encoded data removed]",
      "text/latex": [
       "$$\\left [ \\left(\\frac{\\tilde{k}_{t}^{- \\alpha} \\left(\\delta + g n + g + n\\right)}{s_{H}}\\right)^{\\frac{1}{\\varphi - 1}}\\right ]$$"
      ],
      "text/plain": [
       "⎡                             1     ⎤\n",
       "⎢                         ──────────⎥\n",
       "⎢                         varphi - 1⎥\n",
       "⎢⎛   -α                  ⎞          ⎥\n",
       "⎢⎜k̃ₜ  ⋅(δ + g⋅n + g + n)⎟          ⎥\n",
       "⎢⎜───────────────────────⎟          ⎥\n",
       "⎣⎝          s_H          ⎠          ⎦"
      ]
     },
     "execution_count": 96,
     "metadata": {},
     "output_type": "execute_result"
    }
   ],
   "source": [
    "sm.solve(eq,htilde)"
   ]
  },
  {
   "cell_type": "code",
   "execution_count": 72,
   "metadata": {},
   "outputs": [
    {
     "data": {
      "image/png": "[encoded data removed]",
      "text/latex": [
       "$$\\tilde{h}_{t}^{\\varphi} \\tilde{k}_{t}^{\\alpha} s_{K} - \\tilde{k}_{t} \\left(\\delta + g n + g + n\\right) = 0$$"
      ],
      "text/plain": [
       "   varphi    α                                \n",
       "h̃ₜ      ⋅k̃ₜ ⋅s_K - k̃ₜ⋅(δ + g⋅n + g + n) = 0"
      ]
     },
     "execution_count": 72,
     "metadata": {},
     "output_type": "execute_result"
    }
   ],
   "source": [
    "eq2 = sm.Eq(sK*ktildealpha*htildephi - (n+g+delta+n*g)*ktilde)\n",
    "eq2"
   ]
  }
 ],
 "metadata": {
  "kernelspec": {
   "display_name": "Python 3",
   "language": "python",
   "name": "python3"
  },
  "language_info": {
   "codemirror_mode": {
    "name": "ipython",
    "version": 3
   },
   "file_extension": ".py",
   "mimetype": "text/x-python",
   "name": "python",
   "nbconvert_exporter": "python",
   "pygments_lexer": "ipython3",
   "version": "3.7.1"
  }
 },
 "nbformat": 4,
 "nbformat_minor": 2
}
