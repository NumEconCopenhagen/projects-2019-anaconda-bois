{
 "cells": [
  {
   "cell_type": "code",
   "execution_count": 1,
   "metadata": {},
   "outputs": [],
   "source": [
    "import sympy as sm\n",
    "import matplotlib.pyplot as plt\n",
    "import numpy as np\n",
    "import ipywidgets as widgets"
   ]
  },
  {
   "cell_type": "markdown",
   "metadata": {},
   "source": [
    "To print nicely:"
   ]
  },
  {
   "cell_type": "code",
   "execution_count": 2,
   "metadata": {},
   "outputs": [],
   "source": [
    "sm.init_printing(use_unicode=True)"
   ]
  },
  {
   "cell_type": "markdown",
   "metadata": {},
   "source": [
    "# The basic Solow model"
   ]
  },
  {
   "cell_type": "markdown",
   "metadata": {},
   "source": [
    "The basic Solow model is as follows:"
   ]
  },
  {
   "cell_type": "markdown",
   "metadata": {},
   "source": [
    "\\begin{equation}\n",
    "Y_t = BK_t^{\\alpha}L_t^{1-\\alpha} \\tag{1}\n",
    "\\end{equation}\n",
    "\\begin{equation}\n",
    "r_t = \\alpha B \\left(\\frac{K_t}{L_t}\\right)^{\\alpha-1} \\tag{2}\n",
    "\\end{equation}\n",
    "\\begin{equation}\n",
    "w_t = (1-\\alpha) B \\left(\\frac{K_t}{L_t}\\right)^{\\alpha-1} \\tag{3}\n",
    "\\end{equation}\n",
    "\\begin{equation}\n",
    "S_t = sY_t \\tag{4}\n",
    "\\end{equation}\n",
    "\\begin{equation}\n",
    "K_{t+1} - K_t = S_t -\\delta K_t \\tag{5}\n",
    "\\end{equation}\n",
    "\\begin{equation}\n",
    "L_{t+1} = (1-n)L_t \\tag{6}\n",
    "\\end{equation}"
   ]
  },
  {
   "cell_type": "markdown",
   "metadata": {},
   "source": [
    "We also define the following equations:\n",
    "\\begin{equation}\n",
    "y_t = \\frac{Y_t}{L_t} = Bk_t^{\\alpha}\n",
    "\\end{equation}\n",
    "\\begin{equation}\n",
    "k_t = \\frac{K_t}{L_t}\n",
    "\\end{equation}"
   ]
  },
  {
   "cell_type": "markdown",
   "metadata": {},
   "source": [
    "## Defining symbols"
   ]
  },
  {
   "cell_type": "markdown",
   "metadata": {},
   "source": [
    "First we define the necessary variables so we can use sympy:"
   ]
  },
  {
   "cell_type": "code",
   "execution_count": 3,
   "metadata": {},
   "outputs": [],
   "source": [
    "Y = sm.symbols(\"Y_t\")\n",
    "y = sm.symbols(\"y_t\")\n",
    "K = sm.symbols(\"K_t\")\n",
    "k = sm.symbols(\"k_t\")\n",
    "r = sm.symbols(\"r_t\")\n",
    "w = sm.symbols(\"w_t\")\n",
    "s = sm.symbols(\"s\")\n",
    "n = sm.symbols(\"n\")\n",
    "g = sm.symbols(\"g\")\n",
    "B = sm.symbols(\"B\")\n",
    "L = sm.symbols(\"L_t\")\n",
    "alpha = sm.symbols(\"alpha\")\n",
    "delta = sm.symbols(\"delta\")\n",
    "kstar = sm.symbols(\"k_t^*\")\n",
    "ystar = sm.symbols(\"y^*\")"
   ]
  },
  {
   "cell_type": "markdown",
   "metadata": {},
   "source": [
    "It is easy to verify equation (2) and (3) by differentiating equation (1) with respect to respectively $K_t$ and $L_t$:"
   ]
  },
  {
   "cell_type": "markdown",
   "metadata": {},
   "source": [
    "$r_t$:"
   ]
  },
  {
   "cell_type": "code",
   "execution_count": 4,
   "metadata": {},
   "outputs": [
    {
     "data": {
      "image/png": "[encoded data removed]",
      "text/latex": [
       "$$B K_{t}^{\\alpha - 1} L_{t}^{- \\alpha + 1} \\alpha$$"
      ],
      "text/plain": [
       "    α - 1   -α + 1  \n",
       "B⋅Kₜ     ⋅Lₜ      ⋅α"
      ]
     },
     "execution_count": 4,
     "metadata": {},
     "output_type": "execute_result"
    }
   ],
   "source": [
    "sm.simplify(sm.diff(B*K**alpha*L**(1-alpha), K))"
   ]
  },
  {
   "cell_type": "markdown",
   "metadata": {},
   "source": [
    "$w_t$:"
   ]
  },
  {
   "cell_type": "code",
   "execution_count": 5,
   "metadata": {},
   "outputs": [
    {
     "data": {
      "image/png": "[encoded data removed]",
      "text/latex": [
       "$$- B K_{t}^{\\alpha} L_{t}^{- \\alpha} \\left(\\alpha - 1\\right)$$"
      ],
      "text/plain": [
       "     α   -α        \n",
       "-B⋅Kₜ ⋅Lₜ  ⋅(α - 1)"
      ]
     },
     "execution_count": 5,
     "metadata": {},
     "output_type": "execute_result"
    }
   ],
   "source": [
    "sm.simplify(sm.diff(B*K**alpha*L**(1-alpha), L))"
   ]
  },
  {
   "cell_type": "markdown",
   "metadata": {},
   "source": [
    "## Solving for steady state"
   ]
  },
  {
   "cell_type": "markdown",
   "metadata": {},
   "source": [
    "We find the steady state by solving the equation $k_{t+1}-k_t = \\frac{1}{1+n} (sBk_t^{\\alpha} -(n+\\delta)k_t)$ for the constant solution where $k_{t+1} = k_t = k^*$. This gives us the equation $sBk^{\\alpha} - (n-\\delta)k = 0$ to solve."
   ]
  },
  {
   "cell_type": "code",
   "execution_count": 6,
   "metadata": {},
   "outputs": [
    {
     "data": {
      "image/png": "[encoded data removed]",
      "text/latex": [
       "$$k^{*}_{t} = \\left(\\frac{- \\delta + n}{B s}\\right)^{\\frac{1}{\\alpha - 1}}$$"
      ],
      "text/plain": [
       "                   1  \n",
       "                 ─────\n",
       "                 α - 1\n",
       "         ⎛-δ + n⎞     \n",
       "k_t__* = ⎜──────⎟     \n",
       "         ⎝ B⋅s  ⎠     "
      ]
     },
     "execution_count": 6,
     "metadata": {},
     "output_type": "execute_result"
    }
   ],
   "source": [
    "ksteady = sm.solve(s*B*k**alpha-(n-delta)*k, k)[0]\n",
    "sm.Eq(kstar , ksteady)"
   ]
  },
  {
   "cell_type": "markdown",
   "metadata": {},
   "source": [
    "This helps us solving for $y^*$:"
   ]
  },
  {
   "cell_type": "code",
   "execution_count": 7,
   "metadata": {},
   "outputs": [
    {
     "data": {
      "image/png": "[encoded data removed]",
      "text/latex": [
       "$$y^{*} = B \\left(\\left(\\frac{- \\delta + n}{B s}\\right)^{\\frac{1}{\\alpha - 1}}\\right)^{\\alpha}$$"
      ],
      "text/plain": [
       "                        α\n",
       "         ⎛          1  ⎞ \n",
       "         ⎜        ─────⎟ \n",
       "         ⎜        α - 1⎟ \n",
       "         ⎜⎛-δ + n⎞     ⎟ \n",
       "y__* = B⋅⎜⎜──────⎟     ⎟ \n",
       "         ⎝⎝ B⋅s  ⎠     ⎠ "
      ]
     },
     "execution_count": 7,
     "metadata": {},
     "output_type": "execute_result"
    }
   ],
   "source": [
    "eq1 = sm.simplify(B*ksteady**alpha)\n",
    "sm.Eq(ystar, eq1)"
   ]
  },
  {
   "cell_type": "markdown",
   "metadata": {},
   "source": [
    "## Simulating the basic Solow model"
   ]
  },
  {
   "cell_type": "code",
   "execution_count": 181,
   "metadata": {},
   "outputs": [],
   "source": [
    "def simulate_basic(k,alpha,delta,s,n,B,T):\n",
    "    \"\"\"\n",
    "    Args:\n",
    "    k (int): initial value for physical capital per worker\n",
    "    alpha (float): return on physical capital\n",
    "    delta (float): depreciation rate\n",
    "    s (float): investments\n",
    "    n (float): increase in labour\n",
    "    B (int): totalfactorproductivity\n",
    "    T (int): periods to simulate through\n",
    "    \n",
    "    Returns:\n",
    "    A plot showing how capital per worker accumulates over time\"\"\"\n",
    "    \n",
    "    #First we make a list for our future values to be in\n",
    "    k_path = [k]\n",
    "    \n",
    "    #Then we make which will contain the values for the 45-degree-line\n",
    "    Degreeline = [0]\n",
    "    \n",
    "    #We generate the 45-degree-line for the basic Solow model\n",
    "    for t in range(1,T):\n",
    "        line = (n + delta)*t\n",
    "        Degreeline.append(line)\n",
    "        \n",
    "    #We generate the Solow movement\n",
    "    for t in range(1,T):\n",
    "        k_plus = s*B*t**alpha\n",
    "        k_path.append(k_plus)\n",
    "    \n",
    "    #Plotting the stuff\n",
    "    plt.figure(figsize=(5,5))\n",
    "    plt.plot(k_path[:T], label='$sBk_t^{\\u03B1}$', color = 'blue')\n",
    "    plt.plot(Degreeline[:T], label = '$(n+\\delta)k_t$', color = 'black')\n",
    "    plt.xlim(0,T)\n",
    "    plt.ylim(0,Degreeline[-1])\n",
    "    plt.xlabel('$k_t$')\n",
    "    plt.grid(True)\n",
    "    plt.legend()\n",
    "    \n",
    "    return plt.show()"
   ]
  },
  {
   "cell_type": "markdown",
   "metadata": {},
   "source": [
    "Example on a simulation with reasonable values:"
   ]
  },
  {
   "cell_type": "code",
   "execution_count": 182,
   "metadata": {},
   "outputs": [
    {
     "data": {
      "image/png": "[encoded data removed]",
      "text/plain": [
       "<Figure size 360x360 with 1 Axes>"
      ]
     },
     "metadata": {
      "needs_background": "light"
     },
     "output_type": "display_data"
    }
   ],
   "source": [
    "simulate_basic(0,1/3,0.01,0.4,0.01,1,200)"
   ]
  },
  {
   "cell_type": "markdown",
   "metadata": {},
   "source": [
    "Below, you can try changing the parametres yourself to see how they influence the steady state."
   ]
  },
  {
   "cell_type": "code",
   "execution_count": 10,
   "metadata": {},
   "outputs": [
    {
     "data": {
      "application/vnd.jupyter.widget-view+json": {
       "model_id": "26054c9c277c4eda9d3d948b62afefd5",
       "version_major": 2,
       "version_minor": 0
      },
      "text/plain": [
       "interactive(children=(FloatSlider(value=0.3, description='$α$', max=0.9, step=0.05), FloatSlider(value=0.01, d…"
      ]
     },
     "metadata": {},
     "output_type": "display_data"
    },
    {
     "data": {
      "text/plain": [
       "<function __main__.simulate_basic(k, alpha, delta, s, n, B, T)>"
      ]
     },
     "execution_count": 10,
     "metadata": {},
     "output_type": "execute_result"
    }
   ],
   "source": [
    "widgets.interact(simulate_basic, \n",
    "                k = widgets.fixed(0), \n",
    "                alpha = widgets.FloatSlider(description = '$\\u03B1$' , min = 0 , max = 0.9 , step = 0.05 , value = 0.3),\n",
    "                delta = widgets.FloatSlider(description = '$\\u03B4$' , min = 0 , max = 0.1 , step = 0.01 , value = 0.01),\n",
    "                s = widgets.FloatSlider(description = 's' , min = 0.01 , max = 0.8 , step = 0.05 , value = 0.4),\n",
    "                n = widgets.FloatSlider(description ='$n$', min = 0.01 , max = 0.1 , step = 0.005, value = 0.01),\n",
    "                B = widgets.fixed(1),\n",
    "                T = widgets.IntSlider(description='$T$' , min = 1, max = 1000, step = 10, value = 100))"
   ]
  },
  {
   "cell_type": "markdown",
   "metadata": {},
   "source": [
    "# The solow model with human capital"
   ]
  },
  {
   "cell_type": "markdown",
   "metadata": {},
   "source": [
    "The Solow model with human capital is as follows:"
   ]
  },
  {
   "cell_type": "markdown",
   "metadata": {},
   "source": [
    "\\begin{equation}\n",
    "Y_t = K_t^{\\alpha}H_t^{\\varphi}(A_tL_t)^{1-\\alpha -\\varphi} \\tag{1} \\\\\n",
    "\\end{equation}\n",
    "\\begin{equation}\n",
    "r_t = \\alpha \\left(\\frac{K_t}{A_t L_t}\\right)^{\\alpha -1} \\left(\\frac{H_t}{A_t L_t}\\right)^{\\varphi} \\tag{2}\n",
    "\\end{equation}\n",
    "\\begin{equation}\n",
    "w_t = (1-\\alpha) \\left(\\frac{K_t}{A_tL_t}\\right)^{\\alpha} \\left(\\frac{H_t}{A_tL_t}\\right)^{\\varphi}A_t \\tag{3}\n",
    "\\end{equation}\n",
    "\\begin{equation}\n",
    "K_{t+1}-K_t = s_K Y_t - \\delta K_t \\quad , \\quad K_0 \\text{ given} \\tag{4}\n",
    "\\end{equation}\n",
    "\\begin{equation}\n",
    "H_{t+1}-H_t = s_H Y_t -\\delta H_t \\quad , \\quad H_0 \\text{ given} \\tag{5}\n",
    "\\end{equation}\n",
    "\\begin{equation}\n",
    "L_{t+1} = (1+n)L_t \\quad , \\quad L_0 \\text{ given} \\tag{6}\n",
    "\\end{equation}\n",
    "\\begin{equation}\n",
    "A_{t+1} = (1+g)A_t \\quad , \\quad A_0 \\text{ given} \\tag{7}\n",
    "\\end{equation}"
   ]
  },
  {
   "cell_type": "markdown",
   "metadata": {},
   "source": [
    "We also define the following equations:\n",
    "\\begin{equation}\n",
    "\\text{Physical capital per effective worker}: \\quad \\tilde{k_t} = \\frac{K_t}{A_tL_t}\n",
    "\\end{equation}\n",
    "\\begin{equation}\n",
    "\\text{Human capital per effective worker}: \\quad \\tilde{h_t} = \\frac{H_t}{A_tL_t}\n",
    "\\end{equation}\n",
    "\\begin{equation}\n",
    "\\text{Output per effective worker}: \\quad \\tilde{y_t} = \\frac{Y_t}{A_tL_t}\n",
    "\\end{equation}\n",
    "\\begin{equation}\n",
    "\\tilde{y_t} = \\tilde{k_t}^{\\alpha} \\tilde{h_t}^{\\varphi}\n",
    "\\end{equation}"
   ]
  },
  {
   "cell_type": "markdown",
   "metadata": {},
   "source": [
    "## Defining symbols"
   ]
  },
  {
   "cell_type": "markdown",
   "metadata": {},
   "source": [
    "Defining all the new things as symbols so we can use sympy:"
   ]
  },
  {
   "cell_type": "code",
   "execution_count": 61,
   "metadata": {},
   "outputs": [],
   "source": [
    "A = sm.symbols(\"A_t\")\n",
    "sK = sm.symbols(\"s_K\")\n",
    "sH = sm.symbols(\"s_H\")\n",
    "phi = sm.symbols(\"varphi\")\n",
    "ktilde = sm.symbols(\"ktilde_t\")\n",
    "htilde = sm.symbols(\"htilde_t\")\n",
    "ytilde = sm.symbols(\"ytilde_t\")\n",
    "htilde1 = sm.symbols(\"htilde_t+1\")\n",
    "ktilde1 = sm.symbols(\"ktilde_t+1\")\n",
    "ktildestar = sm.symbols(\"ktilde^*\")\n",
    "htildestar = sm.symbols(\"htilde^*\")\n",
    "ytildestar = sm.symbols(\"ytilde^*\")\n",
    "H = sm.symbols(\"H_t\")\n",
    "h = sm.symbols(\"h_t\")"
   ]
  },
  {
   "cell_type": "markdown",
   "metadata": {},
   "source": [
    "We can find the real rental rate and wage just as in the basic Solow model:"
   ]
  },
  {
   "cell_type": "markdown",
   "metadata": {},
   "source": [
    "$r_t$:"
   ]
  },
  {
   "cell_type": "code",
   "execution_count": 69,
   "metadata": {},
   "outputs": [
    {
     "data": {
      "image/png": "[encoded data removed]",
      "text/latex": [
       "$$H_{t}^{\\varphi} K_{t}^{\\alpha - 1} \\alpha \\left(A_{t} L_{t}\\right)^{- \\alpha - \\varphi + 1}$$"
      ],
      "text/plain": [
       "  varphi   α - 1          -α - varphi + 1\n",
       "Hₜ      ⋅Kₜ     ⋅α⋅(Aₜ⋅Lₜ)               "
      ]
     },
     "execution_count": 69,
     "metadata": {},
     "output_type": "execute_result"
    }
   ],
   "source": [
    "sm.simplify(sm.diff(K**alpha*H**phi*(A*L)**(1-alpha-phi), K))"
   ]
  },
  {
   "cell_type": "markdown",
   "metadata": {},
   "source": [
    "$w_t$ (we use that $H_t = h_tL_t$):"
   ]
  },
  {
   "cell_type": "code",
   "execution_count": 68,
   "metadata": {},
   "outputs": [
    {
     "data": {
      "image/png": "[encoded data removed]",
      "text/latex": [
       "$$A_{t}^{- \\alpha - \\varphi + 1} K_{t}^{\\alpha} L_{t}^{- \\alpha} h_{t}^{\\varphi} \\left(- \\alpha + 1\\right)$$"
      ],
      "text/plain": [
       "  -α - varphi + 1   α   -α   varphi         \n",
       "Aₜ               ⋅Kₜ ⋅Lₜ  ⋅hₜ      ⋅(-α + 1)"
      ]
     },
     "execution_count": 68,
     "metadata": {},
     "output_type": "execute_result"
    }
   ],
   "source": [
    "sm.simplify(sm.diff(K**alpha*h**phi*L**(1-alpha)*A**(1-alpha-phi), L))"
   ]
  },
  {
   "cell_type": "markdown",
   "metadata": {},
   "source": [
    "## Solving for steady state"
   ]
  },
  {
   "cell_type": "markdown",
   "metadata": {},
   "source": [
    "We will now find the steady state values for variables $\\tilde{k^*}, \\tilde{h^*}$ and $\\tilde{y^*}$ by solving the following equations:"
   ]
  },
  {
   "cell_type": "markdown",
   "metadata": {},
   "source": [
    "\\begin{equation}\n",
    "\\tilde{k}_{t+1} - \\tilde{k}_t = \\frac{1}{(1+n)(1+g)}(s_K \\tilde{k}_t^{\\alpha} \\tilde{h}_t^{\\varphi} - (n+g+\\delta +ng)\\tilde{k}_t)\n",
    "\\end{equation}\n",
    "\\begin{equation}\n",
    "\\tilde{h}_{t+1} - \\tilde{h}_t = \\frac{1}{(1+n)(1+g)}(s_H \\tilde{k}_t^{\\alpha} \\tilde{h}_t^{\\varphi} - (n+g+\\delta +ng)\\tilde{h}_t)\n",
    "\\end{equation}"
   ]
  },
  {
   "cell_type": "markdown",
   "metadata": {},
   "source": [
    "First we make variables which transform $\\tilde{h}_t$ into a function og $\\tilde{k}_t$ and vice verca:"
   ]
  },
  {
   "cell_type": "code",
   "execution_count": 12,
   "metadata": {},
   "outputs": [],
   "source": [
    "ktildealpha = ktilde**alpha\n",
    "htildephi = htilde**phi\n",
    "htok = (sH/sK)*ktilde\n",
    "htokphi = ((sH/sK)*ktilde)**phi\n",
    "ktoh = (sK/sH)*htilde\n",
    "ktohalpha = ((sK/sH)*htilde)**alpha"
   ]
  },
  {
   "cell_type": "markdown",
   "metadata": {},
   "source": [
    "We set up the equation to solve for $\\tilde{h}_{t+1} = \\tilde{h}_t = \\tilde{h}^*$:"
   ]
  },
  {
   "cell_type": "code",
   "execution_count": 13,
   "metadata": {},
   "outputs": [
    {
     "data": {
      "image/png": "[encoded data removed]",
      "text/latex": [
       "$$- \\tilde{h}_{t} \\left(\\delta + g n + g + n\\right) + \\tilde{h}_{t}^{\\varphi} \\tilde{k}_{t}^{\\alpha} s_{H} = 0$$"
      ],
      "text/plain": [
       "                            varphi    α        \n",
       "-h̃ₜ⋅(δ + g⋅n + g + n) + h̃ₜ      ⋅k̃ₜ ⋅s_H = 0"
      ]
     },
     "execution_count": 13,
     "metadata": {},
     "output_type": "execute_result"
    }
   ],
   "source": [
    "eq = sm.Eq(sH*ktildealpha*htildephi - (n+g+delta+n*g)*htilde)\n",
    "eq"
   ]
  },
  {
   "cell_type": "markdown",
   "metadata": {},
   "source": [
    "Then we solve it for $\\tilde{h}_t$:"
   ]
  },
  {
   "cell_type": "code",
   "execution_count": 14,
   "metadata": {},
   "outputs": [
    {
     "data": {
      "image/png": "[encoded data removed]",
      "text/latex": [
       "$$\\left(\\frac{\\tilde{k}_{t}^{- \\alpha} \\left(\\delta + g n + g + n\\right)}{s_{H}}\\right)^{\\frac{1}{\\varphi - 1}}$$"
      ],
      "text/plain": [
       "                             1     \n",
       "                         ──────────\n",
       "                         varphi - 1\n",
       "⎛   -α                  ⎞          \n",
       "⎜k̃ₜ  ⋅(δ + g⋅n + g + n)⎟          \n",
       "⎜───────────────────────⎟          \n",
       "⎝          s_H          ⎠          "
      ]
     },
     "execution_count": 14,
     "metadata": {},
     "output_type": "execute_result"
    }
   ],
   "source": [
    "hisolated = sm.solve(eq,htilde)[0]\n",
    "hisolated"
   ]
  },
  {
   "cell_type": "markdown",
   "metadata": {},
   "source": [
    "Now we insert the transformed $\\tilde{h}_t$:"
   ]
  },
  {
   "cell_type": "code",
   "execution_count": 15,
   "metadata": {},
   "outputs": [
    {
     "data": {
      "image/png": "[encoded data removed]",
      "text/latex": [
       "$$\\tilde{h}_{t} = \\left(\\frac{\\left(\\frac{\\tilde{h}_{t} s_{K}}{s_{H}}\\right)^{- \\alpha} \\left(\\delta + g n + g + n\\right)}{s_{H}}\\right)^{\\frac{1}{\\varphi - 1}}$$"
      ],
      "text/plain": [
       "                                         1     \n",
       "                                     ──────────\n",
       "                                     varphi - 1\n",
       "      ⎛         -α                  ⎞          \n",
       "      ⎜⎛h̃ₜ⋅s_K⎞                    ⎟          \n",
       "      ⎜⎜───────⎟  ⋅(δ + g⋅n + g + n)⎟          \n",
       "      ⎜⎝  s_H  ⎠                    ⎟          \n",
       "h̃ₜ = ⎜─────────────────────────────⎟          \n",
       "      ⎝             s_H             ⎠          "
      ]
     },
     "execution_count": 15,
     "metadata": {},
     "output_type": "execute_result"
    }
   ],
   "source": [
    "htildefinal = sm.Eq(htilde , ((ktoh**(-alpha)*(delta+n*g+g+n)/sH)**(1/(phi-1))))\n",
    "htildefinal"
   ]
  },
  {
   "cell_type": "markdown",
   "metadata": {},
   "source": [
    "And solve for the steady state:"
   ]
  },
  {
   "cell_type": "code",
   "execution_count": 16,
   "metadata": {},
   "outputs": [
    {
     "name": "stdout",
     "output_type": "stream",
     "text": [
      "We find that the steady state value for htilde is:\n"
     ]
    },
    {
     "data": {
      "image/png": "[encoded data removed]",
      "text/latex": [
       "$$\\tilde{h}^{*} = s_{K}^{- \\frac{\\alpha}{\\alpha + \\varphi - 1}} \\left(s_{H}^{\\alpha - 1} \\left(\\delta + g n + g + n\\right)\\right)^{\\frac{1}{\\alpha + \\varphi - 1}}$$"
      ],
      "text/plain": [
       "                                                            1       \n",
       "                -α                                    ──────────────\n",
       "           ──────────────                             α + varphi - 1\n",
       "           α + varphi - 1 ⎛   α - 1                  ⎞              \n",
       "h̃__* = s_K              ⋅⎝s_H     ⋅(δ + g⋅n + g + n)⎠              "
      ]
     },
     "execution_count": 16,
     "metadata": {},
     "output_type": "execute_result"
    }
   ],
   "source": [
    "htildesteady = sm.solve(htildefinal,htilde)[0]\n",
    "print('We find that the steady state value for htilde is:')\n",
    "sm.Eq(htildestar, htildesteady)"
   ]
  },
  {
   "cell_type": "markdown",
   "metadata": {},
   "source": [
    "We now do the same for $\\tilde{k}_t$:"
   ]
  },
  {
   "cell_type": "code",
   "execution_count": 17,
   "metadata": {},
   "outputs": [
    {
     "data": {
      "image/png": "[encoded data removed]",
      "text/latex": [
       "$$\\tilde{h}_{t}^{\\varphi} \\tilde{k}_{t}^{\\alpha} s_{K} - \\tilde{k}_{t} \\left(\\delta + g n + g + n\\right) = 0$$"
      ],
      "text/plain": [
       "   varphi    α                                \n",
       "h̃ₜ      ⋅k̃ₜ ⋅s_K - k̃ₜ⋅(δ + g⋅n + g + n) = 0"
      ]
     },
     "execution_count": 17,
     "metadata": {},
     "output_type": "execute_result"
    }
   ],
   "source": [
    "eq2 = sm.Eq(sK*ktildealpha*htildephi - (n+g+delta+n*g)*ktilde)\n",
    "eq2"
   ]
  },
  {
   "cell_type": "code",
   "execution_count": 18,
   "metadata": {},
   "outputs": [
    {
     "data": {
      "image/png": "[encoded data removed]",
      "text/latex": [
       "$$\\left(\\frac{\\tilde{h}_{t}^{- \\varphi} \\left(\\delta + g n + g + n\\right)}{s_{K}}\\right)^{\\frac{1}{\\alpha - 1}}$$"
      ],
      "text/plain": [
       "                                1  \n",
       "                              ─────\n",
       "                              α - 1\n",
       "⎛   -varphi                  ⎞     \n",
       "⎜h̃ₜ       ⋅(δ + g⋅n + g + n)⎟     \n",
       "⎜────────────────────────────⎟     \n",
       "⎝            s_K             ⎠     "
      ]
     },
     "execution_count": 18,
     "metadata": {},
     "output_type": "execute_result"
    }
   ],
   "source": [
    "kisolated = sm.solve(eq2,ktilde)[0]\n",
    "kisolated"
   ]
  },
  {
   "cell_type": "code",
   "execution_count": 19,
   "metadata": {},
   "outputs": [
    {
     "data": {
      "image/png": "[encoded data removed]",
      "text/latex": [
       "$$\\tilde{k}_{t} = \\left(\\frac{\\left(\\frac{\\tilde{k}_{t} s_{H}}{s_{K}}\\right)^{- \\varphi} \\left(\\delta + g n + g + n\\right)}{s_{K}}\\right)^{\\frac{1}{\\alpha - 1}}$$"
      ],
      "text/plain": [
       "                                            1  \n",
       "                                          ─────\n",
       "                                          α - 1\n",
       "      ⎛         -varphi                  ⎞     \n",
       "      ⎜⎛k̃ₜ⋅s_H⎞                         ⎟     \n",
       "      ⎜⎜───────⎟       ⋅(δ + g⋅n + g + n)⎟     \n",
       "      ⎜⎝  s_K  ⎠                         ⎟     \n",
       "k̃ₜ = ⎜──────────────────────────────────⎟     \n",
       "      ⎝               s_K                ⎠     "
      ]
     },
     "execution_count": 19,
     "metadata": {},
     "output_type": "execute_result"
    }
   ],
   "source": [
    "ktildefinal = sm.Eq(ktilde, ((htok**(-phi)*(delta+n*g+g+n)/sK)**(1/(alpha-1))))\n",
    "ktildefinal"
   ]
  },
  {
   "cell_type": "code",
   "execution_count": 20,
   "metadata": {},
   "outputs": [
    {
     "name": "stdout",
     "output_type": "stream",
     "text": [
      "We find that the steady state value for ktilde is:\n"
     ]
    },
    {
     "data": {
      "image/png": "[encoded data removed]",
      "text/latex": [
       "$$\\tilde{k}^{*} = s_{H}^{- \\frac{\\varphi}{\\alpha + \\varphi - 1}} \\left(s_{K}^{\\varphi - 1} \\left(\\delta + g n + g + n\\right)\\right)^{\\frac{1}{\\alpha + \\varphi - 1}}$$"
      ],
      "text/plain": [
       "                                                                 1       \n",
       "              -varphi                                      ──────────────\n",
       "           ──────────────                                  α + varphi - 1\n",
       "           α + varphi - 1 ⎛   varphi - 1                  ⎞              \n",
       "k̃__* = s_H              ⋅⎝s_K          ⋅(δ + g⋅n + g + n)⎠              "
      ]
     },
     "execution_count": 20,
     "metadata": {},
     "output_type": "execute_result"
    }
   ],
   "source": [
    "ktildesteady = sm.solve(ktildefinal,ktilde)[0]\n",
    "print('We find that the steady state value for ktilde is:')\n",
    "sm.Eq(ktildestar, ktildesteady)"
   ]
  },
  {
   "cell_type": "markdown",
   "metadata": {},
   "source": [
    "Now we can plot this into $\\tilde{y}^*$:"
   ]
  },
  {
   "cell_type": "code",
   "execution_count": 21,
   "metadata": {},
   "outputs": [
    {
     "data": {
      "image/png": "[encoded data removed]",
      "text/latex": [
       "$$\\tilde{y}^{*} = \\left(s_{H}^{- \\frac{\\varphi}{\\alpha + \\varphi - 1}} \\left(s_{K}^{\\varphi - 1} \\left(\\delta + g n + g + n\\right)\\right)^{\\frac{1}{\\alpha + \\varphi - 1}}\\right)^{\\alpha} \\left(s_{K}^{- \\frac{\\alpha}{\\alpha + \\varphi - 1}} \\left(s_{H}^{\\alpha - 1} \\left(\\delta + g n + g + n\\right)\\right)^{\\frac{1}{\\alpha + \\varphi - 1}}\\right)^{\\varphi}$$"
      ],
      "text/plain": [
       "                                                                           α  \n",
       "        ⎛                                                         1       ⎞  ⎛\n",
       "        ⎜      -varphi                                      ──────────────⎟  ⎜\n",
       "        ⎜   ──────────────                                  α + varphi - 1⎟  ⎜\n",
       "        ⎜   α + varphi - 1 ⎛   varphi - 1                  ⎞              ⎟  ⎜\n",
       "ỹ__* = ⎝s_H              ⋅⎝s_K          ⋅(δ + g⋅n + g + n)⎠              ⎠ ⋅⎝\n",
       "\n",
       "                                                             varphi\n",
       "                                                    1       ⎞      \n",
       "        -α                                    ──────────────⎟      \n",
       "   ──────────────                             α + varphi - 1⎟      \n",
       "   α + varphi - 1 ⎛   α - 1                  ⎞              ⎟      \n",
       "s_K              ⋅⎝s_H     ⋅(δ + g⋅n + g + n)⎠              ⎠      "
      ]
     },
     "execution_count": 21,
     "metadata": {},
     "output_type": "execute_result"
    }
   ],
   "source": [
    "yfinal = sm.Eq(ytildestar, ktildesteady**alpha * htildesteady**phi)\n",
    "ytildesteady = sm.solve(yfinal, ytildestar)[0]\n",
    "sm.Eq(ytildestar, sm.solve(yfinal, ytildestar)[0])"
   ]
  },
  {
   "cell_type": "markdown",
   "metadata": {},
   "source": [
    "We now get that the BNP per capita in steady state must be:"
   ]
  },
  {
   "cell_type": "code",
   "execution_count": 22,
   "metadata": {},
   "outputs": [
    {
     "data": {
      "image/png": "[encoded data removed]",
      "text/latex": [
       "$$y^{*} = A_{t} \\left(s_{H}^{- \\frac{\\varphi}{\\alpha + \\varphi - 1}} \\left(s_{K}^{\\varphi - 1} \\left(\\delta + g n + g + n\\right)\\right)^{\\frac{1}{\\alpha + \\varphi - 1}}\\right)^{\\alpha} \\left(s_{K}^{- \\frac{\\alpha}{\\alpha + \\varphi - 1}} \\left(s_{H}^{\\alpha - 1} \\left(\\delta + g n + g + n\\right)\\right)^{\\frac{1}{\\alpha + \\varphi - 1}}\\right)^{\\varphi}$$"
      ],
      "text/plain": [
       "                                                                             α\n",
       "          ⎛                                                         1       ⎞ \n",
       "          ⎜      -varphi                                      ──────────────⎟ \n",
       "          ⎜   ──────────────                                  α + varphi - 1⎟ \n",
       "          ⎜   α + varphi - 1 ⎛   varphi - 1                  ⎞              ⎟ \n",
       "y__* = Aₜ⋅⎝s_H              ⋅⎝s_K          ⋅(δ + g⋅n + g + n)⎠              ⎠ \n",
       "\n",
       "                                                               varphi\n",
       " ⎛                                                    1       ⎞      \n",
       " ⎜        -α                                    ──────────────⎟      \n",
       " ⎜   ──────────────                             α + varphi - 1⎟      \n",
       " ⎜   α + varphi - 1 ⎛   α - 1                  ⎞              ⎟      \n",
       "⋅⎝s_K              ⋅⎝s_H     ⋅(δ + g⋅n + g + n)⎠              ⎠      "
      ]
     },
     "execution_count": 22,
     "metadata": {},
     "output_type": "execute_result"
    }
   ],
   "source": [
    "sm.Eq(ystar, A*ytildesteady)"
   ]
  },
  {
   "cell_type": "markdown",
   "metadata": {},
   "source": [
    " "
   ]
  },
  {
   "cell_type": "markdown",
   "metadata": {},
   "source": [
    "We can now create a function which gives us the steady state values for chosen parameter:"
   ]
  },
  {
   "cell_type": "code",
   "execution_count": 23,
   "metadata": {},
   "outputs": [],
   "source": [
    "ss_htilde = sm.lambdify((sK, sH, n, g, delta, alpha, phi), htildesteady)\n",
    "ss_ktilde = sm.lambdify((sK, sH, n, g, delta, alpha, phi), ktildesteady)\n",
    "ss_ytilde = sm.lambdify((sK, sH, n, g, delta, alpha, phi), ytildesteady)\n",
    "def steady_states(sK, sH, n, g, delta, alpha, phi):\n",
    "    \n",
    "    \"\"\"Returns the steady state value for human capital per effective worker.\n",
    "    Args:\n",
    "    sK (float): investments in physical income\n",
    "    sH (float): investments in human capital\n",
    "    n (float): increase in labour\n",
    "    g (float): increase in technology\n",
    "    delta (float): the depreciation rate\n",
    "    alpha (float): return on physical capital\n",
    "    phi (float): return on human capital\n",
    "    \n",
    "    Returns:\n",
    "    Steady state values for h, k and y\"\"\"\n",
    "    \n",
    "    return print(f'Steady state for h is {ss_htilde(sK, sH, n, g, delta, alpha, phi):0.2f}'), print(f'Steady state for k is {ss_ktilde(sK, sH, n, g, delta, alpha, phi):0.2f}'), print(f'Steady state for BNP per worker is {ss_ytilde(sK, sH, n, g, delta, alpha, phi):0.2f}')"
   ]
  },
  {
   "cell_type": "markdown",
   "metadata": {},
   "source": [
    "An example on finding steady states could be:"
   ]
  },
  {
   "cell_type": "code",
   "execution_count": 24,
   "metadata": {},
   "outputs": [
    {
     "name": "stdout",
     "output_type": "stream",
     "text": [
      "Steady state for h is 123.14\n",
      "Steady state for k is 123.14\n",
      "Steady state for BNP per worker is 24.75\n"
     ]
    },
    {
     "data": {
      "text/plain": [
       "(None, None, None)"
      ]
     },
     "execution_count": 24,
     "metadata": {},
     "output_type": "execute_result"
    }
   ],
   "source": [
    "steady_states(0.2,0.2,0.01,0.02,0.01,1/3,1/3)"
   ]
  },
  {
   "cell_type": "markdown",
   "metadata": {},
   "source": [
    "## Simulating the Solow with human capital"
   ]
  },
  {
   "cell_type": "markdown",
   "metadata": {},
   "source": [
    "We will now simulate the Solow model with human capital, to graphically show how to find the steady state."
   ]
  },
  {
   "cell_type": "code",
   "execution_count": 155,
   "metadata": {},
   "outputs": [],
   "source": [
    "def simulate_human_capital(htilde,ktilde,alpha,phi,delta,sK,sH,n,g,T):\n",
    "    \"\"\"\n",
    "    Args:\n",
    "    htilde (int): initial value for human capital per effective worker\n",
    "    ktilde (int): initial value for physical capital per effective worker\n",
    "    alpha (float): return on physical capital\n",
    "    phi (float): return on human capital\n",
    "    delta (float): depreciation rate\n",
    "    sK (float): investments in physical income\n",
    "    sH (float): investments in human capital\n",
    "    n (float): increase in labour\n",
    "    g (float): increase in technology\n",
    "    T (int): periods to simulate through\n",
    "    \n",
    "    Returns:\n",
    "    A plot showing how the capital accumulates over time, as well as steady state values\n",
    "    \"\"\"\n",
    "    #Making an empty list for all our future values\n",
    "    htilde_path = [htilde]\n",
    "    ktilde_path = [ktilde]\n",
    "    \n",
    "    #Adding numbers to the list using equation (5) where htilde is isolated\n",
    "    for t in range(1,T):\n",
    "        ktilde = t\n",
    "        htilde_next = ((ktilde**(-alpha)*(delta+n*g+n+g))/sH)**(1/(phi-1))\n",
    "        htilde_path.append(htilde_next)\n",
    "    \n",
    "    #Adding numbers to the list using equation (4) where htilde is isolated\n",
    "    for t in range(1,T):\n",
    "        ktilde = t\n",
    "        ktilde_next = ((ktilde**(-alpha+1)*(delta+n*g+n+g))/sK)**(1/(phi))\n",
    "        ktilde_path.append(ktilde_next)\n",
    "    \n",
    "    #Plotting it all\n",
    "    plt.figure(figsize=(5,5))\n",
    "    plt.plot(htilde_path[:T], linewidth = 2, label='$\\Delta \\~{h} = 0$', color = 'navy')\n",
    "    plt.plot(ktilde_path[:T], linewidth = 2, label='$\\Delta \\~{k} = 0$', color = 'lime')\n",
    "    plt.xlim(0,T)\n",
    "    plt.ylim(0,T)\n",
    "    plt.xlabel('$\\~{k}$')\n",
    "    plt.ylabel('$\\~{h}$')\n",
    "    plt.grid(True)\n",
    "    plt.legend()\n",
    "    \n",
    "    return plt.show(), print(steady_states(sK, sH, n, g, delta, alpha, phi))"
   ]
  },
  {
   "cell_type": "markdown",
   "metadata": {},
   "source": [
    "Example on a simulation with reasonable values:"
   ]
  },
  {
   "cell_type": "code",
   "execution_count": 156,
   "metadata": {},
   "outputs": [
    {
     "data": {
      "image/png": "[encoded data removed]",
      "text/plain": [
       "<Figure size 360x360 with 1 Axes>"
      ]
     },
     "metadata": {
      "needs_background": "light"
     },
     "output_type": "display_data"
    },
    {
     "name": "stdout",
     "output_type": "stream",
     "text": [
      "Steady state for h is 123.14\n",
      "Steady state for k is 123.14\n",
      "Steady state for BNP per worker is 24.75\n",
      "(None, None, None)\n"
     ]
    },
    {
     "data": {
      "text/plain": [
       "(None, None)"
      ]
     },
     "execution_count": 156,
     "metadata": {},
     "output_type": "execute_result"
    }
   ],
   "source": [
    "simulate_human_capital(0,0,1/3,1/3,0.01,0.2,0.2,0.01,0.02,200)"
   ]
  },
  {
   "cell_type": "markdown",
   "metadata": {},
   "source": [
    "Try changing the parametres yourself to see how they influence the steady state."
   ]
  },
  {
   "cell_type": "code",
   "execution_count": 158,
   "metadata": {},
   "outputs": [
    {
     "data": {
      "application/vnd.jupyter.widget-view+json": {
       "model_id": "86481a4497f54ebfad5080d56805592d",
       "version_major": 2,
       "version_minor": 0
      },
      "text/plain": [
       "interactive(children=(FloatSlider(value=0.3, description='$α$', max=0.5, step=0.05), FloatSlider(value=0.3, de…"
      ]
     },
     "metadata": {},
     "output_type": "display_data"
    },
    {
     "data": {
      "text/plain": [
       "<function __main__.simulate_human_capital(htilde, ktilde, alpha, phi, delta, sK, sH, n, g, T)>"
      ]
     },
     "execution_count": 158,
     "metadata": {},
     "output_type": "execute_result"
    }
   ],
   "source": [
    "widgets.interact(simulate_human_capital, \n",
    "                 htilde = widgets.fixed(0), \n",
    "                 ktilde = widgets.fixed(0), \n",
    "                 alpha = widgets.FloatSlider(description='$\\u03B1$', min=0, max=0.5, step=0.05, value=0.3),\n",
    "                 phi = widgets.FloatSlider(description='$\\u03C6$', min=0, max=0.5, step=0.05, value=0.3), \n",
    "                 delta = widgets.FloatSlider(description='$\\u03B4$', min=0.01, max=0.1, step=0.01, value=0.01), \n",
    "                 sK = widgets.FloatSlider(description='$s_K$', min=0.1, max=0.4, step=0.01, value=0.2), \n",
    "                 sH = widgets.FloatSlider(description='$s_H$', min=0.1, max=0.4, step=0.01, value=0.2),\n",
    "                 n = widgets.FloatSlider(description='$n$', min=0.01, max=0.1, step=0.005, value=0.01), \n",
    "                 g = widgets.FloatSlider(description='$g$', min=0.01, max=0.1, step=0.005, value=0.02), \n",
    "                 T = widgets.IntSlider(description='$T$', min=1, max=1000, step=10, value=100))"
   ]
  },
  {
   "cell_type": "markdown",
   "metadata": {},
   "source": [
    "# The Solow model with productive externalities"
   ]
  },
  {
   "cell_type": "markdown",
   "metadata": {},
   "source": [
    "The Solow model with productive externalities is given as follows:\n",
    "\\begin{equation}\n",
    "Y_t = (K_t)^{\\alpha} (A_tL_t)^{1-\\alpha} \\tag{1}\n",
    "\\end{equation}\n",
    "\\begin{equation}\n",
    "A_t = K_t^{\\phi} \\quad , \\quad \\phi < 1 \\tag{2}\n",
    "\\end{equation}\n",
    "\\begin{equation}\n",
    "K_{t+1} = sY_t + (1-\\delta)K_t \\quad , \\quad K_0 \\quad \\text{given} \\tag{3}\n",
    "\\end{equation}\n",
    "\\begin{equation}\n",
    "L_{t+1} = (1+n)L_t \\quad , \\quad L_0 \\quad \\text{given}\n",
    "\\end{equation}"
   ]
  },
  {
   "cell_type": "markdown",
   "metadata": {},
   "source": [
    "We again make use of the tilde-variables defined in the model with human capital. Furthermore we define the following equations:"
   ]
  },
  {
   "cell_type": "markdown",
   "metadata": {},
   "source": [
    "\\begin{equation}\n",
    "\\frac{A_{t+1}}{A_t} = \\left(\\frac{K_{t+1}}{K_t}\\right)^{\\phi}\n",
    "\\end{equation}\n",
    "\\begin{equation}\n",
    "\\tilde{y_t} = \\tilde{k_t}^{\\alpha}\n",
    "\\end{equation}"
   ]
  },
  {
   "cell_type": "markdown",
   "metadata": {},
   "source": [
    "The tansition for $\\tilde{k}_{t+1}$ is given by:\n",
    "\\begin{equation}\n",
    "\\tilde{k}_{t+1} = \\frac{1}{1+n} \\left( s \\tilde{k}_t^{\\frac{\\alpha + \\phi -\\alpha \\phi}{1- \\phi}} + (1- \\delta) \\tilde{k}_t^{\\frac{1}{1-\\phi}}\\right)^{1-\\phi}\n",
    "\\end{equation}"
   ]
  },
  {
   "cell_type": "markdown",
   "metadata": {},
   "source": [
    "We find the steady state in $\\tilde{k}_{t+1} = \\tilde{k}_t = \\tilde{k}^*$:"
   ]
  },
  {
   "cell_type": "code",
   "execution_count": 42,
   "metadata": {},
   "outputs": [],
   "source": [
    "hej = sm.Eq(((1/(1+n))*(s*ktilde**((alpha+phi-alpha*phi)/(1-phi))+(1-delta)*ktilde**(1/(1-phi)))**(1-phi))/ktilde,1)"
   ]
  },
  {
   "cell_type": "code",
   "execution_count": 43,
   "metadata": {},
   "outputs": [
    {
     "data": {
      "image/png": "[encoded data removed]",
      "text/latex": [
       "$$\\frac{\\left(\\tilde{k}_{t}^{\\frac{- \\alpha \\varphi + \\alpha + \\varphi}{- \\varphi + 1}} s + \\tilde{k}_{t}^{\\frac{1}{- \\varphi + 1}} \\left(- \\delta + 1\\right)\\right)^{- \\varphi + 1}}{\\tilde{k}_{t} \\left(n + 1\\right)} = 1$$"
      ],
      "text/plain": [
       "                                                       -varphi + 1    \n",
       "⎛   -α⋅varphi + α + varphi             1              ⎞               \n",
       "⎜   ──────────────────────        ───────────         ⎟               \n",
       "⎜        -varphi + 1              -varphi + 1         ⎟               \n",
       "⎝k̃ₜ                      ⋅s + k̃ₜ           ⋅(-δ + 1)⎠               \n",
       "────────────────────────────────────────────────────────────────── = 1\n",
       "                           k̃ₜ⋅(n + 1)                                "
      ]
     },
     "execution_count": 43,
     "metadata": {},
     "output_type": "execute_result"
    }
   ],
   "source": [
    "hej"
   ]
  },
  {
   "cell_type": "code",
   "execution_count": 49,
   "metadata": {},
   "outputs": [],
   "source": [
    "dav = sm.Eq(ktilde , (1/(1+n))*ktilde*(s*ktilde**(alpha-1)+(1-delta))**(1-phi))"
   ]
  }
 ],
 "metadata": {
  "kernelspec": {
   "display_name": "Python 3",
   "language": "python",
   "name": "python3"
  },
  "language_info": {
   "codemirror_mode": {
    "name": "ipython",
    "version": 3
   },
   "file_extension": ".py",
   "mimetype": "text/x-python",
   "name": "python",
   "nbconvert_exporter": "python",
   "pygments_lexer": "ipython3",
   "version": "3.7.1"
  }
 },
 "nbformat": 4,
 "nbformat_minor": 2
}
