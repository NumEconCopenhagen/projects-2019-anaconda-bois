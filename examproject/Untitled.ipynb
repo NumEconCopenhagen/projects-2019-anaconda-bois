{
 "cells": [
  {
   "cell_type": "code",
   "execution_count": 1,
   "metadata": {},
   "outputs": [
    {
     "ename": "SyntaxError",
     "evalue": "invalid syntax (<ipython-input-1-9ecc97170ef1>, line 1)",
     "output_type": "error",
     "traceback": [
      "\u001b[1;36m  File \u001b[1;32m\"<ipython-input-1-9ecc97170ef1>\"\u001b[1;36m, line \u001b[1;32m1\u001b[0m\n\u001b[1;33m    Random test notebook\u001b[0m\n\u001b[1;37m              ^\u001b[0m\n\u001b[1;31mSyntaxError\u001b[0m\u001b[1;31m:\u001b[0m invalid syntax\n"
     ]
    }
   ],
   "source": [
    "Random test notebook"
   ]
  },
  {
   "cell_type": "code",
   "execution_count": null,
   "metadata": {},
   "outputs": [],
   "source": [
    "#Final_table = Final_table1().replace(\"10 BASIC SCHOOL 8-10 grade\",\"BASIC SCHOOL 8-10 grade\").replace(\"20+25 UPPER SECONDARY SCHOOL\",\"UPPER SECONDARY SCHOOL\").replace(\"35 VOCATIONAL EDUCATION\",\"VOCATIONAL EDUCATION\").replace(\"40 SHORT-CYCLE HIGHER EDUCATION\",\"SHORT-CYCLE HIGHER EDUCATION\").replace(\"50+60 MEDIUM-CYCLE HIGHER EDUCATION, BACHLEOR\",\"MEDIUM-CYCLE HIGHER EDUCATION BACHLEOR\").replace(\"65 LONG-CYCLE HIGHER EDUCATION\",\"LONG-CYCLE HIGHER EDUCATION\")\n",
    "\n",
    "\n",
    "Edulvl = widgets.Dropdown(options = ['BASIC SCHOOL 8-10 grade', 'UPPER SECONDARY SCHOOL', 'VOCATIONAL EDUCATION', 'SHORT-CYCLE HIGHER EDUCATION', 'MEDIUM-CYCLE HIGHER EDUCATION BACHLEOR',\"LONG-CYCLE HIGHER EDUCATION\",\"not stated\"]),\n",
    "                 "
   ]
  }
 ],
 "metadata": {
  "kernelspec": {
   "display_name": "Python 3",
   "language": "python",
   "name": "python3"
  },
  "language_info": {
   "codemirror_mode": {
    "name": "ipython",
    "version": 3
   },
   "file_extension": ".py",
   "mimetype": "text/x-python",
   "name": "python",
   "nbconvert_exporter": "python",
   "pygments_lexer": "ipython3",
   "version": "3.7.1"
  }
 },
 "nbformat": 4,
 "nbformat_minor": 2
}
