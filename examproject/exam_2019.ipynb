{
 "cells": [
  {
   "cell_type": "code",
   "execution_count": 1,
   "metadata": {},
   "outputs": [],
   "source": [
    "import numpy as np"
   ]
  },
  {
   "cell_type": "markdown",
   "metadata": {},
   "source": [
    "# 1. Human capital accumulation"
   ]
  },
  {
   "cell_type": "markdown",
   "metadata": {},
   "source": [
    "Consider a worker living in **two periods**, $t \\in \\{1,2\\}$. \n",
    "\n",
    "In each period she decides whether to **work ($l_t = 1$) or not ($l_t = 0$)**. \n",
    "\n",
    "She can *not* borrow or save and thus **consumes all of her income** in each period. "
   ]
  },
  {
   "cell_type": "markdown",
   "metadata": {},
   "source": [
    "If she **works** her **consumption** becomes:\n",
    "\n",
    "$$c_t = w h_t l_t\\,\\,\\text{if}\\,\\,l_t=1$$\n",
    "\n",
    "where $w$ is **the wage rate** and $h_t$ is her **human capital**. \n",
    "\n",
    "If she does **not work** her consumption becomes:\n",
    "\n",
    "$$c_t = b\\,\\,\\text{if}\\,\\,l_t=0$$\n",
    "\n",
    "where $b$ is the **unemployment benefits**."
   ]
  },
  {
   "cell_type": "markdown",
   "metadata": {},
   "source": [
    "Her **utility of consumption** is: \n",
    "\n",
    "$$ \\frac{c_t^{1-\\rho}}{1-\\rho} $$\n",
    "\n",
    "Her **disutility of working** is:\n",
    "\n",
    "$$ \\gamma l_t $$"
   ]
  },
  {
   "cell_type": "markdown",
   "metadata": {},
   "source": [
    "From period 1 to period 2, she **accumulates human capital** according to:\n",
    "\n",
    "$$ h_2 = h_1 + l_1 + \n",
    "\\begin{cases}\n",
    "0 & \\text{with prob. }0.5 \\\\\n",
    "\\Delta & \\text{with prob. }0.5 \n",
    "\\end{cases} \\\\\n",
    "$$\n",
    "\n",
    "where $\\Delta$ is a **stochastic experience gain**."
   ]
  },
  {
   "cell_type": "markdown",
   "metadata": {},
   "source": [
    "In the **second period** the worker thus solves:\n",
    "\n",
    "$$\n",
    "\\begin{eqnarray*}\n",
    "v_{2}(h_{2}) & = &\\max_{l_{2}} \\frac{c_2^{1-\\rho}}{1-\\rho} - \\gamma l_2\n",
    "\\\\ & \\text{s.t.} & \\\\\n",
    "c_{2}& = & w h_2 l_2 \\\\\n",
    "l_{2}& \\in &\\{0,1\\}\n",
    "\\end{eqnarray*}\n",
    "$$"
   ]
  },
  {
   "cell_type": "markdown",
   "metadata": {},
   "source": [
    "In the **first period** the worker thus solves:\n",
    "\n",
    "$$\n",
    "\\begin{eqnarray*}\n",
    "v_{1}(h_{1}) &=& \\max_{l_{1}} \\frac{c_1^{1-\\rho}}{1-\\rho} - \\gamma l_1 + \\beta\\mathbb{E}_{1}\\left[v_2(h_2)\\right]\n",
    "\\\\ & \\text{s.t.} & \\\\\n",
    "c_1 &=& w h_1 l_1 \\\\\n",
    "h_2 &=& h_1 + l_1 + \\begin{cases}\n",
    "0 & \\text{with prob. }0.5\\\\\n",
    "\\Delta & \\text{with prob. }0.5 \n",
    "\\end{cases}\\\\\n",
    "l_{1} &\\in& \\{0,1\\}\\\\\n",
    "\\end{eqnarray*}\n",
    "$$\n",
    "\n",
    "where $\\beta$ is the **discount factor** and $\\mathbb{E}_{1}\\left[v_2(h_2)\\right]$ is the **expected value of living in period two**."
   ]
  },
  {
   "cell_type": "markdown",
   "metadata": {},
   "source": [
    "The **parameters** of the model are:"
   ]
  },
  {
   "cell_type": "code",
   "execution_count": 2,
   "metadata": {},
   "outputs": [],
   "source": [
    "rho = 2\n",
    "beta = 0.96\n",
    "gamma = 0.1\n",
    "w = 2\n",
    "b = 1\n",
    "Delta = 0.1"
   ]
  },
  {
   "cell_type": "markdown",
   "metadata": {},
   "source": [
    "The **relevant levels of human capital** are:"
   ]
  },
  {
   "cell_type": "code",
   "execution_count": 3,
   "metadata": {},
   "outputs": [],
   "source": [
    "h_vec = np.linspace(0.1,1.5,100) "
   ]
  },
  {
   "cell_type": "markdown",
   "metadata": {},
   "source": [
    "**Question 1:** Solve the model in period 2 and illustrate the solution (including labor supply as a function of human capital). "
   ]
  },
  {
   "cell_type": "markdown",
   "metadata": {},
   "source": [
    "We start by defining the given functions:"
   ]
  },
  {
   "cell_type": "code",
   "execution_count": 4,
   "metadata": {},
   "outputs": [],
   "source": [
    "import matplotlib.pyplot as plt"
   ]
  },
  {
   "cell_type": "code",
   "execution_count": 5,
   "metadata": {},
   "outputs": [],
   "source": [
    "def consumption(w,h,l):\n",
    "    #We define an outcome for each scenario\n",
    "    if l == 1:\n",
    "        return w*h*l\n",
    "    else:\n",
    "        return b"
   ]
  },
  {
   "cell_type": "code",
   "execution_count": 6,
   "metadata": {},
   "outputs": [],
   "source": [
    "def utility(w,h,l):\n",
    "    return (consumption(w,h,l)**(1-rho))/(1-rho) - gamma*l"
   ]
  },
  {
   "cell_type": "markdown",
   "metadata": {},
   "source": [
    "We create the 2 possible values for human capital in period 2."
   ]
  },
  {
   "cell_type": "code",
   "execution_count": 7,
   "metadata": {},
   "outputs": [],
   "source": [
    "h2_vec0 = h_vec + Delta*0.5\n",
    "h2_vec1 = h_vec + 1 + Delta*0.5"
   ]
  },
  {
   "cell_type": "markdown",
   "metadata": {},
   "source": [
    "First of all we notice that she can reach the highest utility in period 2 if she choose to work in period 1. This can be seen in the graph below."
   ]
  },
  {
   "cell_type": "code",
   "execution_count": 8,
   "metadata": {},
   "outputs": [
    {
     "data": {
      "image/png": "[encoded data removed]",
      "text/plain": [
       "<Figure size 432x288 with 1 Axes>"
      ]
     },
     "metadata": {
      "needs_background": "light"
     },
     "output_type": "display_data"
    }
   ],
   "source": [
    "#Making a list which only contains the utility if she does not work in period 2. We only do this to be able to plot it.\n",
    "empty = np.empty(100)\n",
    "utility_l0 = []\n",
    "for i in empty:\n",
    "    utility_l0.append(utility(w,h2_vec0,0))\n",
    "    \n",
    "plt.plot(h2_vec0, utility(w,h2_vec0,1), label = 'If $l_2=1$ and $l_1=0$')\n",
    "plt.plot(h2_vec0, utility(w,h2_vec1,1), label = 'If $l_2=1$ and $l_1=1$')\n",
    "plt.plot(h2_vec0, utility_l0          , label = 'If $l_2=0$')\n",
    "plt.ylabel('Utility ($v_2(h_2)$)'), plt.xlabel('Human Capital in period 2')\n",
    "plt.legend()\n",
    "plt.grid()\n",
    "plt.show()"
   ]
  },
  {
   "cell_type": "markdown",
   "metadata": {},
   "source": [
    "The most important thing to notice here is, that she can actually get higher utility by not working in period 2, than if she doesn't work in period 1. This depends on how high her human capital is."
   ]
  },
  {
   "cell_type": "markdown",
   "metadata": {},
   "source": [
    "We now solve for the optimal $l_2$:"
   ]
  },
  {
   "cell_type": "code",
   "execution_count": 9,
   "metadata": {},
   "outputs": [],
   "source": [
    "def solve_v2(w):\n",
    "    loop = np.linspace(0,99,100,dtype=int)\n",
    "    #We make 2 lists which will contain the values 0 or 1 depending on if she gains more utility of working or not\n",
    "    #First a lists where she does not work in period 1:\n",
    "    l2_vec0 = []\n",
    "    #Then a list where she does work in period 1:\n",
    "    l2_vec1 = []\n",
    "    \n",
    "    #Making the for loop to generate values 0 or 1 into our lists\n",
    "    for i in loop:\n",
    "        \n",
    "        #If she does not work in period 1:\n",
    "        if utility(w,h2_vec0[0],0) < utility(w,h2_vec0[i],1):\n",
    "            l2_vec0.append(1)\n",
    "        else:\n",
    "            l2_vec0.append(0)\n",
    "            \n",
    "        #If she works in period 1:\n",
    "        if utility(w,h2_vec1[0],0) < utility(w,h2_vec1[i],1):\n",
    "            l2_vec1.append(1)\n",
    "        else:\n",
    "            l2_vec1.append(0)\n",
    "            \n",
    "    return l2_vec0, l2_vec1\n",
    "\n",
    "l2_vec0, l2_vec1 = solve_v2(w)"
   ]
  },
  {
   "cell_type": "markdown",
   "metadata": {},
   "source": [
    "We plot the solutions to inspect them:"
   ]
  },
  {
   "cell_type": "code",
   "execution_count": 10,
   "metadata": {},
   "outputs": [
    {
     "data": {
      "image/png": "[encoded data removed]",
      "text/plain": [
       "<Figure size 432x288 with 2 Axes>"
      ]
     },
     "metadata": {
      "needs_background": "light"
     },
     "output_type": "display_data"
    }
   ],
   "source": [
    "plt.subplot(121)\n",
    "plt.title('If $l_1 = 0$')\n",
    "plt.plot(h2_vec0, l2_vec0)\n",
    "plt.grid()\n",
    "plt.ylabel('Labor supply')\n",
    "plt.xlabel('Human capital in period 2')\n",
    "plt.xticks([0,0.2,0.4,0.6,0.8,1,1.2,1.4,1.6])\n",
    "plt.subplot(122)\n",
    "plt.title('If $l_1 = 1$')\n",
    "plt.plot(h2_vec0, l2_vec1, color='red')\n",
    "plt.grid()\n",
    "plt.ylabel('Labor supply')\n",
    "plt.xlabel('Human capital in period 2')\n",
    "plt.xticks([0,0.2,0.4,0.6,0.8,1,1.2,1.4,1.6])\n",
    "plt.tight_layout()"
   ]
  },
  {
   "cell_type": "markdown",
   "metadata": {},
   "source": [
    "We see that if $l_1=0$ she will get more utility by not working up to a certain point between 0.4 and 0.6 human capital. We will now find exactly this point by optimizing.  \n",
    "So naturally we want to import optimize from scipy."
   ]
  },
  {
   "cell_type": "code",
   "execution_count": 11,
   "metadata": {},
   "outputs": [],
   "source": [
    "from scipy import optimize"
   ]
  },
  {
   "cell_type": "markdown",
   "metadata": {},
   "source": [
    "We create a lambda function where we subtract 1 from the the utility she gets from working in period 1, as this is her utility from not working in period 1. So basicly if you look at the first plot which shows the utility, we subtract the green line from the blue line. This way we can find the exact point where the lines cross each other."
   ]
  },
  {
   "cell_type": "code",
   "execution_count": 12,
   "metadata": {},
   "outputs": [],
   "source": [
    "#We set a '-' in front of the function as we want to use the optimize.minimize function.\n",
    "obj = lambda h: -utility(w,h,1)-1"
   ]
  },
  {
   "cell_type": "markdown",
   "metadata": {},
   "source": [
    "We use the optimize.minimize function to find the wanted value. We use the bounded method as the human capital is bounded."
   ]
  },
  {
   "cell_type": "code",
   "execution_count": 13,
   "metadata": {},
   "outputs": [
    {
     "data": {
      "text/plain": [
       "     fun: -0.5666657193115782\n",
       " message: 'Solution found.'\n",
       "    nfev: 26\n",
       "  status: 0\n",
       " success: True\n",
       "       x: 1.4999957369142178"
      ]
     },
     "execution_count": 13,
     "metadata": {},
     "output_type": "execute_result"
    }
   ],
   "source": [
    "optimize.minimize_scalar(obj, method='bounded', bounds=[0.1,1.5])"
   ]
  },
  {
   "cell_type": "markdown",
   "metadata": {},
   "source": [
    "We find that the solution to the problem is h = 0.5667 which means that if she does not work in period 1, she will get more utility by not working in period 2 as long as her human capital is lesser than 0.5667. Though, when she has more than 0.5667 human capital, she will get more utility by working in period 2.  \n",
    "It is also important to notice that if she decides to work in period 1, she will always reach a higher level of utility by working in period 2. This is because of the gain she get i human capital by working in period 1. No matter what it will get higher than 0.5667, and therefore it is best for her to work.  \n",
    "The solution to the worker's problem is then:  \n",
    "$$\n",
    "l_2^* = \\begin{cases}\n",
    "1 \\quad \\text{if} \\quad l_1 = 1  \\\\\n",
    "1 \\quad \\text{if} \\quad l_1 = 0 \\quad \\wedge \\quad 0.5667 \\le h  \\\\\n",
    "0 \\quad \\text{if} \\quad l_1 = 0 \\quad \\wedge \\quad h \\le 0.5667\n",
    "\\end{cases}\n",
    "$$"
   ]
  },
  {
   "cell_type": "markdown",
   "metadata": {},
   "source": [
    "**Question 2:** Solve the model in period 1 and illustrate the solution (including labor supply as a function of human capital). "
   ]
  },
  {
   "cell_type": "markdown",
   "metadata": {},
   "source": [
    "First we want to find out how many of the values in h_vec that are smaller or equal to 0.5667:"
   ]
  },
  {
   "cell_type": "code",
   "execution_count": 14,
   "metadata": {},
   "outputs": [
    {
     "data": {
      "text/plain": [
       "Counter({True: 33, False: 67})"
      ]
     },
     "execution_count": 14,
     "metadata": {},
     "output_type": "execute_result"
    }
   ],
   "source": [
    "s = np.logical_not(h_vec>=0.5666657193115782)\n",
    "import collections\n",
    "collections.Counter(s)"
   ]
  },
  {
   "cell_type": "markdown",
   "metadata": {},
   "source": [
    "We find that there are 33 values in her human capital vector that is lesser than 0.5667. With this information we can define the utility function for period 1."
   ]
  },
  {
   "cell_type": "code",
   "execution_count": 15,
   "metadata": {},
   "outputs": [],
   "source": [
    "def utility_v1(w,h,l):\n",
    "    utilities = []\n",
    "    #If she chooses not to work:\n",
    "    if l == 0:\n",
    "        \n",
    "        i = 0\n",
    "        #She doesn't want to work in period 2 if her human capital is lower than 0.5667\n",
    "        while i < 33:\n",
    "            utilities.append(utility(w,h[i],l) + beta*utility(w,h2_vec0[i],0))\n",
    "            i +=1\n",
    "        \n",
    "        #She will work in period 2 if her human capital is higher than 0.5667\n",
    "        while 32 < i < 100:\n",
    "            utilities.append(utility(w,h[i],l) + beta*utility(w,h2_vec0[i],1))\n",
    "            i +=1\n",
    "  \n",
    "    #If she chooses to work:\n",
    "    else:\n",
    "        i = 0\n",
    "        while i < 100:\n",
    "            utilities.append(utility(w,h[i],l)+ beta*utility(w,h2_vec1[i],1))\n",
    "            i +=1\n",
    "    return utilities"
   ]
  },
  {
   "cell_type": "markdown",
   "metadata": {},
   "source": [
    "Below we see her utility as a function of her human capital. We notice that if she has low human capital, it can pay off not to work in period 1, but as her human capital is rising, it becomes better and better for her to work in period 1."
   ]
  },
  {
   "cell_type": "code",
   "execution_count": 16,
   "metadata": {},
   "outputs": [
    {
     "data": {
      "image/png": "[encoded data removed]",
      "text/plain": [
       "<Figure size 432x288 with 1 Axes>"
      ]
     },
     "metadata": {
      "needs_background": "light"
     },
     "output_type": "display_data"
    }
   ],
   "source": [
    "plt.plot(h_vec, utility_v1(w,h_vec,0), label='$l_1=0$')\n",
    "plt.plot(h_vec, utility_v1(w,h_vec,1), label='$l_1=1$')\n",
    "plt.legend()\n",
    "plt.xlabel('Human capital period 1'), plt.ylabel('Utility')\n",
    "plt.grid()\n",
    "plt.show()"
   ]
  },
  {
   "cell_type": "markdown",
   "metadata": {},
   "source": [
    "We now make a function which will plot the labor as a function of human capital:"
   ]
  },
  {
   "cell_type": "code",
   "execution_count": 17,
   "metadata": {},
   "outputs": [
    {
     "data": {
      "image/png": "[encoded data removed]",
      "text/plain": [
       "<Figure size 432x288 with 1 Axes>"
      ]
     },
     "metadata": {
      "needs_background": "light"
     },
     "output_type": "display_data"
    }
   ],
   "source": [
    "def solve_v1(w):\n",
    "    loop = np.linspace(0,99,100, dtype=int)\n",
    "    l1_vec = []\n",
    "    \n",
    "    for i in loop:\n",
    "        if utility_v1(w,h_vec,0)[i] < utility_v1(w,h_vec,1)[i]:\n",
    "            l1_vec.append(1)\n",
    "        else:\n",
    "            l1_vec.append(0)\n",
    "    plt.plot(h_vec, l1_vec)\n",
    "    plt.xticks([0,0.2,0.4,0.6,0.8,1,1.2,1.4,1.6])\n",
    "    plt.ylabel('Labor supply'), plt.xlabel('Human capital period 1')\n",
    "    plt.grid()\n",
    "    return plt.show()\n",
    "solve_v1(w)"
   ]
  },
  {
   "cell_type": "markdown",
   "metadata": {},
   "source": [
    "We see as expected that the labor jumps up at the point where the 2 utility curves cut each other. We will now find which value of h that triggers this movement."
   ]
  },
  {
   "cell_type": "markdown",
   "metadata": {},
   "source": [
    "First we create a list that contains the values of the utility of working minus the utility of not working."
   ]
  },
  {
   "cell_type": "code",
   "execution_count": 18,
   "metadata": {},
   "outputs": [],
   "source": [
    "def difference(w):\n",
    "    diff = []\n",
    "    i = 0\n",
    "    while i < 100:\n",
    "        diff.append(utility_v1(w,h_vec,1)[i]-utility_v1(w,h_vec,0)[i])\n",
    "        i +=1\n",
    "    return diff"
   ]
  },
  {
   "cell_type": "markdown",
   "metadata": {},
   "source": [
    "Now we find out how many of the values in the list that are lesser than 0:"
   ]
  },
  {
   "cell_type": "code",
   "execution_count": 19,
   "metadata": {},
   "outputs": [
    {
     "data": {
      "text/plain": [
       "Counter({True: 18, False: 82})"
      ]
     },
     "execution_count": 19,
     "metadata": {},
     "output_type": "execute_result"
    }
   ],
   "source": [
    "#We make a list of zeroes to compare with\n",
    "zeroes = np.zeros(100)\n",
    "#Make the comparison\n",
    "count = np.logical_not(difference(w) > zeroes)\n",
    "#Count the numbers that a lesser than 0\n",
    "collections.Counter(count)"
   ]
  },
  {
   "cell_type": "markdown",
   "metadata": {},
   "source": [
    "We see that there are 18 values which are lesser than 0, and 82 values which are greater than 0.  \n",
    "From this we can get the value of human capital where the labor supply makes the jump:"
   ]
  },
  {
   "cell_type": "code",
   "execution_count": 20,
   "metadata": {},
   "outputs": [
    {
     "data": {
      "text/plain": [
       "0.3404040404040404"
      ]
     },
     "execution_count": 20,
     "metadata": {},
     "output_type": "execute_result"
    }
   ],
   "source": [
    "h_vec[17]"
   ]
  },
  {
   "cell_type": "markdown",
   "metadata": {},
   "source": [
    "Thus the worker maximizes her utility with the following:  \n",
    "$$\n",
    "l_1^* = \\begin{cases}\n",
    "0 \\quad \\text{if} \\quad h_1 \\le 0.34  \\\\\n",
    "1 \\quad \\text{if} \\quad 0.34 < h_1\n",
    "\\end{cases}\n",
    "$$"
   ]
  },
  {
   "cell_type": "markdown",
   "metadata": {},
   "source": [
    "**Question 3:** Will the worker never work if her potential wage income is lower than the unemployment benefits she can get? Explain and illustrate why or why not."
   ]
  },
  {
   "cell_type": "markdown",
   "metadata": {},
   "source": [
    "As an example we set the wage to be 0.9 - right under the unemployment benefit.  \n",
    "We plot it in a graph below, where we see that the worker actually can achieve a higher utility by working. We notice that there are 2 ways of getting a higher utility - if she has high human capital she can simply just choose to work in period 2, if she does not have high human capital she needs to work in both periods to achieve a higher utility."
   ]
  },
  {
   "cell_type": "code",
   "execution_count": 21,
   "metadata": {},
   "outputs": [
    {
     "data": {
      "image/png": "[encoded data removed]",
      "text/plain": [
       "<Figure size 432x288 with 1 Axes>"
      ]
     },
     "metadata": {
      "needs_background": "light"
     },
     "output_type": "display_data"
    }
   ],
   "source": [
    "plt.plot(h2_vec0, utility(0.9,h2_vec0,1), label = 'If $l_2=1$ and $l_1=0$')\n",
    "plt.plot(h2_vec0, utility(0.9,h2_vec1,1), label = 'If $l_2=1$ and $l_1=1$')\n",
    "plt.plot(h2_vec0, utility_l0            , label = 'If $l_2=0$')\n",
    "plt.ylabel('Utility ($v_2(h_2)$)'), plt.xlabel('Human Capital in period 2')\n",
    "plt.legend()\n",
    "plt.grid()\n",
    "plt.show()"
   ]
  },
  {
   "cell_type": "markdown",
   "metadata": {},
   "source": [
    "We can also see on the equation for $v_2$ that as soon as the human capital is high enough to fullfill $b = wh_tl_t-\\gamma l_t \\Leftrightarrow h_t = \\frac{b+\\gamma l_t}{wl_t}$. As $b>w$ now, this means that $h_t$ needs to be greater than 1.  \n",
    "This makes sense as $wh_tl_t$ only can be greater than $b$ if $h_t$ is greater than 1, and when she decides to work you also have to account for the disutility of working.  \n",
    "Her level of human capital decides how much impact the wage have. Therefore it can be concluded that if the human capital is high enough, the worker will always choose to work, even though the wage is lower than the unemployment benefit."
   ]
  },
  {
   "cell_type": "markdown",
   "metadata": {},
   "source": [
    "# 2. AS-AD model"
   ]
  },
  {
   "cell_type": "markdown",
   "metadata": {},
   "source": [
    "Consider the following **AS-AD model**. The **goods market equilibrium** is given by\n",
    "\n",
    "$$ y_{t} = -\\alpha r_{t} + v_{t} $$\n",
    "\n",
    "where $y_{t}$ is the **output gap**, $r_{t}$ is the **ex ante real interest** and $v_{t}$ is a **demand disturbance**. "
   ]
  },
  {
   "cell_type": "markdown",
   "metadata": {},
   "source": [
    "The central bank's **Taylor rule** is\n",
    "\n",
    "$$ i_{t} = \\pi_{t+1}^{e} + h \\pi_{t} + b y_{t}$$\n",
    "\n",
    "where $i_{t}$ is the **nominal interest rate**, $\\pi_{t}$ is the **inflation gap**, and $\\pi_{t+1}^{e}$ is the **expected inflation gap**. "
   ]
  },
  {
   "cell_type": "markdown",
   "metadata": {},
   "source": [
    "The **ex ante real interest rate** is given by \n",
    "\n",
    "$$ r_{t} = i_{t} - \\pi_{t+1}^{e} $$"
   ]
  },
  {
   "cell_type": "markdown",
   "metadata": {},
   "source": [
    "Together, the above implies that the **AD-curve** is\n",
    "\n",
    "$$ \\pi_{t} = \\frac{1}{h\\alpha}\\left[v_{t} - (1+b\\alpha)y_{t}\\right]$$"
   ]
  },
  {
   "cell_type": "markdown",
   "metadata": {},
   "source": [
    "Further, assume that the **short-run supply curve (SRAS)** is given by\n",
    "\n",
    "$$ \\pi_{t} = \\pi_{t}^{e} + \\gamma y_{t} + s_{t}$$\n",
    "\n",
    "where $s_t$ is a **supply disturbance**."
   ]
  },
  {
   "cell_type": "markdown",
   "metadata": {},
   "source": [
    "**Inflation expectations are adaptive** and given by\n",
    "\n",
    "$$ \\pi_{t}^{e} = \\phi\\pi_{t-1}^{e} + (1-\\phi)\\pi_{t-1}$$"
   ]
  },
  {
   "cell_type": "markdown",
   "metadata": {},
   "source": [
    "Together, this implies that the **SRAS-curve** can also be written as\n",
    "\n",
    "$$ \\pi_{t} = \\pi_{t-1} + \\gamma y_{t} - \\phi\\gamma y_{t-1} + s_{t} - \\phi s_{t-1} $$"
   ]
  },
  {
   "cell_type": "markdown",
   "metadata": {},
   "source": [
    "The **parameters** of the model are:"
   ]
  },
  {
   "cell_type": "code",
   "execution_count": 22,
   "metadata": {},
   "outputs": [],
   "source": [
    "par = {}\n",
    "\n",
    "par['alpha'] = 5.76\n",
    "par['h'] = 0.5\n",
    "par['b'] = 0.5\n",
    "par['phi'] = 0\n",
    "par['gamma'] = 0.075"
   ]
  },
  {
   "cell_type": "markdown",
   "metadata": {},
   "source": [
    "**Question 1:** Use the ``sympy`` module to solve for the equilibrium values of output, $y_t$, and inflation, $\\pi_t$, (where AD = SRAS) given the parameters ($\\alpha$, $h$, $b$, $\\phi$, $\\gamma$) and $y_{t-1}$ , $\\pi_{t-1}$, $v_t$, $s_t$, and $s_{t-1}$."
   ]
  },
  {
   "cell_type": "markdown",
   "metadata": {},
   "source": [
    "First, we of course import sympy, and make it print nice results:"
   ]
  },
  {
   "cell_type": "code",
   "execution_count": 23,
   "metadata": {},
   "outputs": [],
   "source": [
    "import sympy as sm\n",
    "sm.init_printing(use_unicode=True)"
   ]
  },
  {
   "cell_type": "markdown",
   "metadata": {},
   "source": [
    "Then we define all the parameters and variables as symbols:"
   ]
  },
  {
   "cell_type": "code",
   "execution_count": 24,
   "metadata": {},
   "outputs": [],
   "source": [
    "y = sm.symbols(\"y_t\")\n",
    "y1 = sm.symbols(\"y_t-1\")\n",
    "pi = sm.symbols(\"pi_t\")\n",
    "pi1 = sm.symbols(\"pi_t-1\")\n",
    "r = sm.symbols(\"r_t\")\n",
    "v = sm.symbols(\"v_t\")\n",
    "i = sm.symbols(\"i_t\")\n",
    "s = sm.symbols(\"s_t\")\n",
    "s1 = sm.symbols(\"s_t-1\")\n",
    "pie = sm.symbols(\"pi_t^e\")\n",
    "pie1 = sm.symbols(\"pi_t-1^e\")\n",
    "alpha = sm.symbols(\"alpha\")\n",
    "h = sm.symbols(\"h\")\n",
    "b = sm.symbols(\"b\")\n",
    "gamma = sm.symbols(\"gamma\")\n",
    "phi = sm.symbols(\"phi\")"
   ]
  },
  {
   "cell_type": "markdown",
   "metadata": {},
   "source": [
    "Now we define both the AD and the SRAS curve."
   ]
  },
  {
   "cell_type": "code",
   "execution_count": 25,
   "metadata": {},
   "outputs": [],
   "source": [
    "AD = sm.Eq(pi, (1 / (h * alpha))*(v - (1 + b * alpha) * y))\n",
    "SRAS = sm.Eq(pi, pi1 + gamma*y - phi*gamma*y1 + s - phi*s1)"
   ]
  },
  {
   "cell_type": "code",
   "execution_count": 26,
   "metadata": {},
   "outputs": [],
   "source": [
    "def solve_pi(alpha=alpha, h=h, b=b, phi=phi, gamma=gamma, y1=y1, pi1=pi1, v=v, s=s, s1=s1):\n",
    "    #1. isolate pi in a way that lets us use its value without pi\n",
    "    ad = sm.solve(AD,pi)[0]\n",
    "    \n",
    "    #2. Isolate y_t in the SRAS equation so we can substitute it in the AD equation\n",
    "    sub = sm.solve(SRAS,y)[0]\n",
    "    \n",
    "    #3. We substitute it in the AD equation\n",
    "    subit = ad.subs(y,sub)\n",
    "    \n",
    "    #4. Set up the equation with pi again\n",
    "    finalAD = sm.Eq(pi, subit)\n",
    "    \n",
    "    #5. Solve for the solution by isolating pi\n",
    "    solution = sm.solve(finalAD,pi)[0]\n",
    "    \n",
    "    return solution\n",
    "pi_solve = solve_pi()"
   ]
  },
  {
   "cell_type": "code",
   "execution_count": 37,
   "metadata": {},
   "outputs": [],
   "source": [
    "def solve_y(alpha=alpha, h=h, b=b, phi=phi, gamma=gamma, y1=y1, pi1=pi1, v=v, s=s, s1=s1):\n",
    "    #1. Isolate y and pi so we can use sympy magic on them\n",
    "    yisolated = sm.solve(AD, y)[0]\n",
    "    piiso = sm.solve(SRAS,pi)[0]\n",
    "    \n",
    "    #2. Substitute pi into the transformed AD equation\n",
    "    sub = yisolated.subs(pi,piiso)\n",
    "    \n",
    "    #3. Set up the equation with y again\n",
    "    finaly = sm.Eq(y,sub)\n",
    "    \n",
    "    #4. Solve for the solution by isoltating y\n",
    "    solution = sm.solve(finaly,y)[0]\n",
    "    \n",
    "    return solution\n",
    "y_solve = solve_y()"
   ]
  },
  {
   "cell_type": "markdown",
   "metadata": {},
   "source": [
    "We get the 2 following equilibrium values:"
   ]
  },
  {
   "cell_type": "code",
   "execution_count": 28,
   "metadata": {},
   "outputs": [
    {
     "data": {
      "image/png": "[encoded data removed]",
      "text/latex": [
       "$$\\pi_{t} = \\frac{- \\alpha b \\gamma \\phi y_{t-1} - \\alpha b \\phi s_{t-1} + \\alpha b \\pi_{t-1} + \\alpha b s_{t} - \\gamma \\phi y_{t-1} + \\gamma v_{t} - \\phi s_{t-1} + \\pi_{t-1} + s_{t}}{\\alpha b + \\alpha \\gamma h + 1}$$"
      ],
      "text/plain": [
       "     -α⋅b⋅γ⋅φ⋅yₜ₋₁ - α⋅b⋅φ⋅sₜ₋₁ + α⋅b⋅πₜ₋₁ + α⋅b⋅sₜ - γ⋅φ⋅yₜ₋₁ + γ⋅vₜ - φ⋅sₜ₋₁\n",
       "πₜ = ─────────────────────────────────────────────────────────────────────────\n",
       "                                        α⋅b + α⋅γ⋅h + 1                       \n",
       "\n",
       " + πₜ₋₁ + sₜ\n",
       "────────────\n",
       "            "
      ]
     },
     "execution_count": 28,
     "metadata": {},
     "output_type": "execute_result"
    }
   ],
   "source": [
    "sm.Eq(pi, solve_pi())"
   ]
  },
  {
   "cell_type": "code",
   "execution_count": 124,
   "metadata": {},
   "outputs": [
    {
     "data": {
      "image/png": "[encoded data removed]",
      "text/latex": [
       "$$y_{t} = \\frac{\\alpha \\gamma h \\phi y_{t-1} + \\alpha h \\phi s_{t-1} - \\alpha h \\pi_{t-1} - \\alpha h s_{t} + v_{t}}{\\alpha b + \\alpha \\gamma h + 1}$$"
      ],
      "text/plain": [
       "     α⋅γ⋅h⋅φ⋅yₜ₋₁ + α⋅h⋅φ⋅sₜ₋₁ - α⋅h⋅πₜ₋₁ - α⋅h⋅sₜ + vₜ\n",
       "yₜ = ──────────────────────────────────────────────────\n",
       "                      α⋅b + α⋅γ⋅h + 1                  "
      ]
     },
     "execution_count": 124,
     "metadata": {},
     "output_type": "execute_result"
    }
   ],
   "source": [
    "sm.Eq(y, solve_y())"
   ]
  },
  {
   "cell_type": "markdown",
   "metadata": {},
   "source": [
    "**Question 2:** Find and illustrate the equilibrium when $y_{t-1} = \\pi_{t-1} = v_t = s_t = s_{t-1} = 0$. Illustrate how the equilibrium changes when instead $v_t = 0.1$."
   ]
  },
  {
   "cell_type": "markdown",
   "metadata": {},
   "source": [
    "First we find the equilibrium value with the given values.  \n",
    "To do this we lambdify our solutions from before, to be able to put numbers in on the letters' place."
   ]
  },
  {
   "cell_type": "code",
   "execution_count": 188,
   "metadata": {},
   "outputs": [],
   "source": [
    "func_pi = sm.lambdify((alpha,h,b,phi,gamma,y1,pi1,v,s,s1),pi_solve)\n",
    "func_y = sm.lambdify((alpha,h,b,phi,gamma,y1,pi1,v,s,s1),y_solve)"
   ]
  },
  {
   "cell_type": "markdown",
   "metadata": {},
   "source": [
    "From this we can now calculate the values:"
   ]
  },
  {
   "cell_type": "code",
   "execution_count": 194,
   "metadata": {},
   "outputs": [
    {
     "name": "stdout",
     "output_type": "stream",
     "text": [
      "Equilibrium value for pi_t is: 0 \n",
      "Equilibrium value for y_t is: 0\n"
     ]
    }
   ],
   "source": [
    "print(f'Equilibrium value for {pi} is: {func_pi(alpha,h,b,phi,gamma,0,0,0,0,0)} \\nEquilibrium value for {y} is: {func_y(alpha,h,b,phi,gamma,0,0,0,0,0)}')"
   ]
  },
  {
   "cell_type": "markdown",
   "metadata": {},
   "source": [
    "This makes sense as in the long run we would not expect any output- or inflationgap."
   ]
  },
  {
   "cell_type": "markdown",
   "metadata": {},
   "source": [
    "To illustrate the equilibrium, we define the following 2 functions:"
   ]
  },
  {
   "cell_type": "code",
   "execution_count": 203,
   "metadata": {},
   "outputs": [],
   "source": [
    "def AD_curve(v):\n",
    "    alpha = par['alpha']\n",
    "    h = par['h']\n",
    "    b = par['b']\n",
    "    phi = par['phi']\n",
    "    gamma = par['gamma']\n",
    "    \n",
    "    AD_values = []\n",
    "    i=-5\n",
    "    while i < 5:\n",
    "        AD_values.append(1/(h*alpha)*(v-(1+b*alpha)*i))\n",
    "        i+=1\n",
    "    return AD_values"
   ]
  },
  {
   "cell_type": "code",
   "execution_count": 252,
   "metadata": {},
   "outputs": [],
   "source": [
    "def SRAS_curve(pi1,s,s1):\n",
    "    alpha = par['alpha']\n",
    "    h = par['h']\n",
    "    b = par['b']\n",
    "    phi = par['phi']\n",
    "    gamma = par['gamma']\n",
    "    \n",
    "    SRAS_values = []\n",
    "    i=-5\n",
    "    while i <5:\n",
    "        SRAS_values.append(pi1 +gamma*i -phi*gamma*y1 +s -phi*s1)\n",
    "        i+=1\n",
    "    return SRAS_values"
   ]
  },
  {
   "cell_type": "markdown",
   "metadata": {},
   "source": [
    "We now plot both scenarios in 1 plot:"
   ]
  },
  {
   "cell_type": "code",
   "execution_count": 417,
   "metadata": {},
   "outputs": [
    {
     "data": {
      "image/png": "[encoded data removed]",
      "text/plain": [
       "<Figure size 432x288 with 1 Axes>"
      ]
     },
     "metadata": {
      "needs_background": "light"
     },
     "output_type": "display_data"
    }
   ],
   "source": [
    "xline = np.linspace(-5,4,10)\n",
    "plt.plot(xline, AD_curve(0), label = '$AD_0$')\n",
    "plt.plot(xline, SRAS_curve(0,0,0), label = '$SRAS_0$')\n",
    "plt.plot(xline, AD_curve(0.1), label = '$AD_{v_t=0.1}$')\n",
    "plt.legend()\n",
    "plt.xlim(-0.1,0.1)\n",
    "plt.ylim(-0.1,0.1)\n",
    "plt.grid()\n",
    "plt.xlabel('$y_t$')\n",
    "plt.ylabel('$\\pi_t$')\n",
    "plt.show()"
   ]
  },
  {
   "cell_type": "markdown",
   "metadata": {},
   "source": [
    "We see clearly that if all the variables are equal to 0, the equilibrium will be in (0,0) as we calculated.  \n",
    "Besides that we see that if the economy experience a positive demand disturbance, the AD-curve shifts up a bit along the SRAS-curve, creating a new short run equilibrium in a point where there is a positive output- and inflationgap."
   ]
  },
  {
   "cell_type": "markdown",
   "metadata": {},
   "source": [
    "**Persistent disturbances:** Now, additionaly, assume that both the demand and the supply disturbances are AR(1) processes\n",
    "\n",
    "$$ v_{t} = \\delta v_{t-1} + x_{t} $$\n",
    "$$ s_{t} = \\omega s_{t-1} + c_{t} $$\n",
    "\n",
    "where $x_{t}$ is a **demand shock**, and $c_t$ is a **supply shock**. The **autoregressive parameters** are:"
   ]
  },
  {
   "cell_type": "code",
   "execution_count": 216,
   "metadata": {},
   "outputs": [],
   "source": [
    "par['delta'] = 0.80\n",
    "par['omega'] = 0.15"
   ]
  },
  {
   "cell_type": "markdown",
   "metadata": {},
   "source": [
    "**Question 3:** Starting from $y_{-1} = \\pi_{-1} = s_{-1} = 0$, how does the economy evolve for $x_0 = 0.1$, $x_t = 0, \\forall t > 0$ and $c_t = 0, \\forall t \\geq 0$?"
   ]
  },
  {
   "cell_type": "markdown",
   "metadata": {},
   "source": [
    "We start by making the movement that both the AD- and the SRAS-curve make. It is important to notice that the SRAS-curve depends on the inflation level from the previous period. Therefore we also simulate how the inflation is changing in order to make the right SRAS-movement."
   ]
  },
  {
   "cell_type": "code",
   "execution_count": 445,
   "metadata": {},
   "outputs": [],
   "source": [
    "def evolution(x, T=10):\n",
    "    \n",
    "    #1. A list that will contain all the values for v during the simulation\n",
    "    v_values = [x]\n",
    "    for i in range(0,T):\n",
    "        v_values.append(par['delta']*v_values[-1])\n",
    "    \n",
    "    #2. A list with values for the AD-curve\n",
    "    AD_movement = []    \n",
    "    for i in v_values:\n",
    "        #We use our function from before to easily get the AD-values\n",
    "        AD_movement.append(AD_curve(i))\n",
    "    \n",
    "    #3. Lists with the inflation- and SRAS-movement\n",
    "    inflation = [0]\n",
    "    SRAS_movement = []\n",
    "    for i in range(0,T):\n",
    "        #First create the inflation list using the equilibrium function\n",
    "        inflation.append(func_pi(par['alpha'],par['h'],par['b'],par['phi'],par['gamma'],y1,0,v_values[i],0,0))\n",
    "    \n",
    "    for i in range(0,T):\n",
    "        #Then create the SRAS-values out of the inflation points\n",
    "        SRAS_movement.append(SRAS_curve(inflation[i],0,0))\n",
    "\n",
    "    return AD_movement, SRAS_movement, inflation\n",
    "AD_movement, SRAS_movement, inflation = evolution(0.1)"
   ]
  },
  {
   "cell_type": "markdown",
   "metadata": {},
   "source": [
    "We plot the first 3 periods to inspect:"
   ]
  },
  {
   "cell_type": "code",
   "execution_count": 448,
   "metadata": {},
   "outputs": [
    {
     "data": {
      "image/png": "[encoded data removed]",
      "text/plain": [
       "<Figure size 432x288 with 1 Axes>"
      ]
     },
     "metadata": {
      "needs_background": "light"
     },
     "output_type": "display_data"
    }
   ],
   "source": [
    "plt.plot(xline, AD_movement[0], label = '$AD_0$')\n",
    "plt.plot(xline, AD_movement[1], label = '$AD_1$')\n",
    "plt.plot(xline, AD_movement[2], label = '$AD_2$')\n",
    "plt.plot(xline, SRAS_movement[0], label = '$SRAS_0$')\n",
    "plt.plot(xline, SRAS_movement[1], label = '$SRAS_1$')\n",
    "plt.plot(xline, SRAS_movement[2], label = '$SRAS_2$')\n",
    "plt.scatter(0,0)\n",
    "plt.xlim(-0.04,0.04)\n",
    "plt.ylim(-0.005,0.005)\n",
    "plt.grid()\n",
    "plt.legend(bbox_to_anchor=(1.1,0.8))\n",
    "plt.xlabel('$y_t$')\n",
    "plt.ylabel('$\\pi_t$')\n",
    "plt.show()"
   ]
  },
  {
   "cell_type": "markdown",
   "metadata": {},
   "source": [
    "The first period is the same as before where both the output- and inflationgap is rising because of the chock.  \n",
    "In the second period we see that the SRAS-curve jumps up a bit because of the higher inflation in period 1. At the same time, the AD-curve begins to slope downwards on the SRAS-curve, as the chock is gradually becomming lesser. Now the inflationgap is even higher, but the outputgap has become smaller.  \n",
    "In the third period we see that the SRAS-curve is now jumping downwards again. Combined with the AD-curve still shifting downwards, this creates an equilibrium in period 3 where both the output- and inflationgap is lesser than in period 2.  \n",
    "The movement in period 3 will continue to happen until we reach the long run equilibrium where both gaps are 0."
   ]
  },
  {
   "cell_type": "markdown",
   "metadata": {},
   "source": [
    "**Stochastic shocks:** Now, additionally, assume that $x_t$ and $c_t$ are stochastic and normally distributed\n",
    "\n",
    "$$ x_{t}\\sim\\mathcal{N}(0,\\sigma_{x}^{2}) $$\n",
    "$$ c_{t}\\sim\\mathcal{N}(0,\\sigma_{c}^{2}) $$\n",
    "\n",
    "The **standard deviations of the shocks** are:"
   ]
  },
  {
   "cell_type": "code",
   "execution_count": 19,
   "metadata": {},
   "outputs": [],
   "source": [
    "par['sigma_x'] = 3.492\n",
    "par['sigma_c'] = 0.2"
   ]
  },
  {
   "cell_type": "markdown",
   "metadata": {},
   "source": [
    "**Question 4:** Simulate the AS-AD model for 1,000 periods. Calculate the following five statistics:\n",
    "\n",
    "1. Variance of $y_t$, $var(y_t)$\n",
    "2. Variance of $\\pi_t$, $var(\\pi_t)$\n",
    "3. Correlation between $y_t$ and $\\pi_t$, $corr(y_t,\\pi_t)$\n",
    "4. Auto-correlation between $y_t$ and $y_{t-1}$, $corr(y_t,y_{t-1})$\n",
    "5. Auto-correlation between $\\pi_t$ and $\\pi_{t-1}$, $corr(\\pi_t,\\pi_{t-1})$"
   ]
  },
  {
   "cell_type": "markdown",
   "metadata": {},
   "source": [
    "**Question 5:** Plot how the correlation between $y_t$ and $\\pi_t$ changes with $\\phi$. Use a numerical optimizer or root finder to choose $\\phi\\in(0,1)$ such that the simulated correlation between $y_t$ and $\\pi_t$ comes close to 0.31. "
   ]
  },
  {
   "cell_type": "markdown",
   "metadata": {},
   "source": [
    "**Quesiton 6:** Use a numerical optimizer to choose $\\sigma_x>0$, $\\sigma_c>0$ and $\\phi\\in(0,1)$ to make the simulated statistics as close as possible to US business cycle data where:\n",
    "\n",
    "1. $var(y_t) = 1.64$\n",
    "2. $var(\\pi_t) = 0.21$\n",
    "3. $corr(y_t,\\pi_t) = 0.31$\n",
    "4. $corr(y_t,y_{t-1}) = 0.84$\n",
    "5. $corr(\\pi_t,\\pi_{t-1}) = 0.48$"
   ]
  },
  {
   "cell_type": "markdown",
   "metadata": {},
   "source": [
    "# 3. Exchange economy"
   ]
  },
  {
   "cell_type": "markdown",
   "metadata": {},
   "source": [
    "Consider an **exchange economy** with\n",
    "\n",
    "1. 3 goods, $(x_1,x_2,x_3)$\n",
    "2. $N$ consumers indexed by \\\\( j \\in \\{1,2,\\dots,N\\} \\\\)\n",
    "3. Preferences are Cobb-Douglas with log-normally distributed coefficients\n",
    "\n",
    "    $$ \\begin{eqnarray*}\n",
    "    u^{j}(x_{1},x_{2},x_{3}) &=& \n",
    "    \\left(x_{1}^{\\beta_{1}^{j}}x_{2}^{\\beta_{2}^{j}}x_{3}^{\\beta_{3}^{j}}\\right)^{\\gamma}\\\\\n",
    "     &  & \\,\\,\\,\\beta_{i}^{j}=\\frac{\\alpha_{i}^{j}}{\\alpha_{1}^{j}+\\alpha_{2}^{j}+\\alpha_{3}^{j}} \\\\\n",
    "     &  & \\,\\,\\,\\boldsymbol{\\alpha}^{j}=(\\alpha_{1}^{j},\\alpha_{2}^{j},\\alpha_{3}^{j}) \\\\ \n",
    "     &  & \\,\\,\\,\\log(\\boldsymbol{\\alpha}^j) \\sim \\mathcal{N}(\\mu,\\Sigma) \\\\\n",
    "    \\end{eqnarray*} $$\n",
    "\n",
    "4. Endowments are exponentially distributed,\n",
    "\n",
    "$$\n",
    "\\begin{eqnarray*}\n",
    "\\boldsymbol{e}^{j} &=& (e_{1}^{j},e_{2}^{j},e_{3}^{j}) \\\\\n",
    " &  & e_i^j \\sim f, f(z;\\zeta) =  1/\\zeta \\exp(-z/\\zeta)\n",
    "\\end{eqnarray*}\n",
    "$$"
   ]
  },
  {
   "cell_type": "markdown",
   "metadata": {},
   "source": [
    "Let $p_3 = 1$ be the **numeraire**. The implied **demand functions** are:\n",
    "\n",
    "$$\n",
    "\\begin{eqnarray*}\n",
    "x_{i}^{\\star j}(p_{1},p_{2},\\boldsymbol{e}^{j})&=&\\beta^{j}_i\\frac{I^j}{p_{i}} \\\\\n",
    "\\end{eqnarray*}\n",
    "$$\n",
    "\n",
    "where consumer $j$'s income is\n",
    "\n",
    "$$I^j = p_1 e_1^j + p_2 e_2^j +p_3 e_3^j$$"
   ]
  },
  {
   "cell_type": "markdown",
   "metadata": {},
   "source": [
    "The **parameters** and **random preferences and endowments** are given by:"
   ]
  },
  {
   "cell_type": "code",
   "execution_count": 20,
   "metadata": {},
   "outputs": [],
   "source": [
    "# a. parameters\n",
    "N = 50000\n",
    "mu = np.array([3,2,1])\n",
    "Sigma = np.array([[0.25, 0, 0], [0, 0.25, 0], [0, 0, 0.25]])\n",
    "gamma = 0.8\n",
    "zeta = 1\n",
    "\n",
    "# b. random draws\n",
    "seed = 1986\n",
    "np.random.seed(seed)\n",
    "\n",
    "# preferences\n",
    "alphas = np.exp(np.random.multivariate_normal(mu, Sigma, size=N))\n",
    "betas = alphas/np.reshape(np.sum(alphas,axis=1),(N,1))\n",
    "\n",
    "# endowments\n",
    "e1 = np.random.exponential(zeta,size=N)\n",
    "e2 = np.random.exponential(zeta,size=N)\n",
    "e3 = np.random.exponential(zeta,size=N)"
   ]
  },
  {
   "cell_type": "markdown",
   "metadata": {},
   "source": [
    "**Question 1:** Plot the histograms of the budget shares for each good across agents.\n",
    "\n",
    "Consider the **excess demand functions:**\n",
    "\n",
    "$$ z_i(p_1,p_2) = \\sum_{j=1}^N x_{i}^{\\star j}(p_{1},p_{2},\\boldsymbol{e}^{j}) - e_i^j$$\n",
    "\n",
    "**Question 2:** Plot the excess demand functions."
   ]
  },
  {
   "cell_type": "markdown",
   "metadata": {},
   "source": [
    "**Quesiton 3:** Find the Walras-equilibrium prices, $(p_1,p_2)$, where both excess demands are (approximately) zero, e.g. by using the following tâtonnement process:\n",
    "\n",
    "1. Guess on $p_1 > 0$, $p_2 > 0$ and choose tolerance $\\epsilon > 0$ and adjustment aggressivity parameter, $\\kappa > 0$.\n",
    "2. Calculate $z_1(p_1,p_2)$ and $z_2(p_1,p_2)$.\n",
    "3. If $|z_1| < \\epsilon$ and $|z_2| < \\epsilon$ then stop.\n",
    "4. Else set $p_1 = p_1 + \\kappa \\frac{z_1}{N}$ and $p_2 = p_2 + \\kappa \\frac{z_2}{N}$ and return to step 2."
   ]
  },
  {
   "cell_type": "markdown",
   "metadata": {},
   "source": [
    "**Question 4:** Plot the distribution of utility in the Walras-equilibrium and calculate its mean and variance."
   ]
  },
  {
   "cell_type": "markdown",
   "metadata": {},
   "source": [
    "**Question 5:** Find the Walras-equilibrium prices if instead all endowments were distributed equally. Discuss the implied changes in the distribution of utility. Does the value of $\\gamma$ play a role for your conclusions?"
   ]
  }
 ],
 "metadata": {
  "kernelspec": {
   "display_name": "Python 3",
   "language": "python",
   "name": "python3"
  },
  "language_info": {
   "codemirror_mode": {
    "name": "ipython",
    "version": 3
   },
   "file_extension": ".py",
   "mimetype": "text/x-python",
   "name": "python",
   "nbconvert_exporter": "python",
   "pygments_lexer": "ipython3",
   "version": "3.7.1"
  },
  "toc-autonumbering": false
 },
 "nbformat": 4,
 "nbformat_minor": 2
}
